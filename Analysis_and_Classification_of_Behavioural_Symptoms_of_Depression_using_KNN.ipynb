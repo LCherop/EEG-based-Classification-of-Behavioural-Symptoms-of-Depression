{
  "nbformat": 4,
  "nbformat_minor": 0,
  "metadata": {
    "colab": {
      "provenance": [],
      "collapsed_sections": [],
      "include_colab_link": true
    },
    "kernelspec": {
      "name": "python3",
      "display_name": "Python 3"
    },
    "language_info": {
      "name": "python"
    }
  },
  "cells": [
    {
      "cell_type": "markdown",
      "metadata": {
        "id": "view-in-github",
        "colab_type": "text"
      },
      "source": [
        "<a href=\"https://colab.research.google.com/github/LCherop/EEG-based-Classification-of-Behavioural-Symptoms-of-Depression/blob/main/Analysis_and_Classification_of_Behavioural_Symptoms_of_Depression_using_KNN.ipynb\" target=\"_parent\"><img src=\"https://colab.research.google.com/assets/colab-badge.svg\" alt=\"Open In Colab\"/></a>"
      ]
    },
    {
      "cell_type": "markdown",
      "source": [
        "## Import the necessary libraries"
      ],
      "metadata": {
        "id": "xg-_X5f2BuMu"
      }
    },
    {
      "cell_type": "code",
      "source": [
        "from google.colab import drive\n",
        "drive.mount('/content/drive')"
      ],
      "metadata": {
        "colab": {
          "base_uri": "https://localhost:8080/"
        },
        "id": "qTh2mBdCKPNU",
        "outputId": "c0b533eb-37d6-454c-b20d-dbff312d2a65"
      },
      "execution_count": 1,
      "outputs": [
        {
          "output_type": "stream",
          "name": "stdout",
          "text": [
            "Mounted at /content/drive\n"
          ]
        }
      ]
    },
    {
      "cell_type": "code",
      "execution_count": 107,
      "metadata": {
        "id": "yRe40vIsBggn"
      },
      "outputs": [],
      "source": [
        "import pandas as pd\n",
        "import numpy as np\n",
        "import matplotlib.pyplot as plt\n",
        "from matplotlib.pyplot import figure\n",
        "import seaborn as sb"
      ]
    },
    {
      "cell_type": "markdown",
      "source": [
        "## Grab the dataset"
      ],
      "metadata": {
        "id": "NPnYaIaACDd6"
      }
    },
    {
      "cell_type": "code",
      "source": [
        "data = pd.read_csv('/content/drive/MyDrive/EEG.machinelearing_data_BRMH.csv')\n",
        "data.head()"
      ],
      "metadata": {
        "id": "6pUqRAumCB4q",
        "colab": {
          "base_uri": "https://localhost:8080/",
          "height": 386
        },
        "outputId": "90b29e99-6f98-4f02-f7c2-9d65251e8880"
      },
      "execution_count": 3,
      "outputs": [
        {
          "output_type": "execute_result",
          "data": {
            "text/plain": [
              "   no. sex   age    eeg.date  education     IQ       main.disorder  \\\n",
              "0    1   M  57.0   2012.8.30        NaN    NaN  Addictive disorder   \n",
              "1    2   M  37.0    2012.9.6        6.0  120.0  Addictive disorder   \n",
              "2    3   M  32.0   2012.9.10       16.0  113.0  Addictive disorder   \n",
              "3    4   M  35.0   2012.10.8       18.0  126.0  Addictive disorder   \n",
              "4    5   M  36.0  2012.10.18       16.0  112.0  Addictive disorder   \n",
              "\n",
              "      specific.disorder  AB.A.delta.a.FP1  AB.A.delta.b.FP2  ...  \\\n",
              "0  Alcohol use disorder         35.998557         21.717375  ...   \n",
              "1  Alcohol use disorder         13.425118         11.002916  ...   \n",
              "2  Alcohol use disorder         29.941780         27.544684  ...   \n",
              "3  Alcohol use disorder         21.496226         21.846832  ...   \n",
              "4  Alcohol use disorder         37.775667         33.607679  ...   \n",
              "\n",
              "   COH.F.gamma.o.Pz.p.P4  COH.F.gamma.o.Pz.q.T6  COH.F.gamma.o.Pz.r.O1  \\\n",
              "0              55.989192              16.739679              23.452271   \n",
              "1              45.595619              17.510824              26.777368   \n",
              "2              99.475453              70.654171              39.131547   \n",
              "3              59.986561              63.822201              36.478254   \n",
              "4              61.462720              59.166097              51.465531   \n",
              "\n",
              "   COH.F.gamma.o.Pz.s.O2  COH.F.gamma.p.P4.q.T6  COH.F.gamma.p.P4.r.O1  \\\n",
              "0              45.678820              30.167520              16.918761   \n",
              "1              28.201062              57.108861              32.375401   \n",
              "2              69.920996              71.063644              38.534505   \n",
              "3              47.117006              84.658376              24.724096   \n",
              "4              58.635415              80.685608              62.138436   \n",
              "\n",
              "   COH.F.gamma.p.P4.s.O2  COH.F.gamma.q.T6.r.O1  COH.F.gamma.q.T6.s.O2  \\\n",
              "0              48.850427               9.422630              34.507082   \n",
              "1              60.351749              13.900981              57.831848   \n",
              "2              69.908764              27.180532              64.803155   \n",
              "3              50.299349              35.319695              79.822944   \n",
              "4              75.888749              61.003944              87.455509   \n",
              "\n",
              "   COH.F.gamma.r.O1.s.O2  \n",
              "0              28.613029  \n",
              "1              43.463261  \n",
              "2              31.485799  \n",
              "3              41.141873  \n",
              "4              70.531662  \n",
              "\n",
              "[5 rows x 1149 columns]"
            ],
            "text/html": [
              "\n",
              "  <div id=\"df-bd081249-c281-4e4e-b6a0-ce99b3b2ff51\">\n",
              "    <div class=\"colab-df-container\">\n",
              "      <div>\n",
              "<style scoped>\n",
              "    .dataframe tbody tr th:only-of-type {\n",
              "        vertical-align: middle;\n",
              "    }\n",
              "\n",
              "    .dataframe tbody tr th {\n",
              "        vertical-align: top;\n",
              "    }\n",
              "\n",
              "    .dataframe thead th {\n",
              "        text-align: right;\n",
              "    }\n",
              "</style>\n",
              "<table border=\"1\" class=\"dataframe\">\n",
              "  <thead>\n",
              "    <tr style=\"text-align: right;\">\n",
              "      <th></th>\n",
              "      <th>no.</th>\n",
              "      <th>sex</th>\n",
              "      <th>age</th>\n",
              "      <th>eeg.date</th>\n",
              "      <th>education</th>\n",
              "      <th>IQ</th>\n",
              "      <th>main.disorder</th>\n",
              "      <th>specific.disorder</th>\n",
              "      <th>AB.A.delta.a.FP1</th>\n",
              "      <th>AB.A.delta.b.FP2</th>\n",
              "      <th>...</th>\n",
              "      <th>COH.F.gamma.o.Pz.p.P4</th>\n",
              "      <th>COH.F.gamma.o.Pz.q.T6</th>\n",
              "      <th>COH.F.gamma.o.Pz.r.O1</th>\n",
              "      <th>COH.F.gamma.o.Pz.s.O2</th>\n",
              "      <th>COH.F.gamma.p.P4.q.T6</th>\n",
              "      <th>COH.F.gamma.p.P4.r.O1</th>\n",
              "      <th>COH.F.gamma.p.P4.s.O2</th>\n",
              "      <th>COH.F.gamma.q.T6.r.O1</th>\n",
              "      <th>COH.F.gamma.q.T6.s.O2</th>\n",
              "      <th>COH.F.gamma.r.O1.s.O2</th>\n",
              "    </tr>\n",
              "  </thead>\n",
              "  <tbody>\n",
              "    <tr>\n",
              "      <th>0</th>\n",
              "      <td>1</td>\n",
              "      <td>M</td>\n",
              "      <td>57.0</td>\n",
              "      <td>2012.8.30</td>\n",
              "      <td>NaN</td>\n",
              "      <td>NaN</td>\n",
              "      <td>Addictive disorder</td>\n",
              "      <td>Alcohol use disorder</td>\n",
              "      <td>35.998557</td>\n",
              "      <td>21.717375</td>\n",
              "      <td>...</td>\n",
              "      <td>55.989192</td>\n",
              "      <td>16.739679</td>\n",
              "      <td>23.452271</td>\n",
              "      <td>45.678820</td>\n",
              "      <td>30.167520</td>\n",
              "      <td>16.918761</td>\n",
              "      <td>48.850427</td>\n",
              "      <td>9.422630</td>\n",
              "      <td>34.507082</td>\n",
              "      <td>28.613029</td>\n",
              "    </tr>\n",
              "    <tr>\n",
              "      <th>1</th>\n",
              "      <td>2</td>\n",
              "      <td>M</td>\n",
              "      <td>37.0</td>\n",
              "      <td>2012.9.6</td>\n",
              "      <td>6.0</td>\n",
              "      <td>120.0</td>\n",
              "      <td>Addictive disorder</td>\n",
              "      <td>Alcohol use disorder</td>\n",
              "      <td>13.425118</td>\n",
              "      <td>11.002916</td>\n",
              "      <td>...</td>\n",
              "      <td>45.595619</td>\n",
              "      <td>17.510824</td>\n",
              "      <td>26.777368</td>\n",
              "      <td>28.201062</td>\n",
              "      <td>57.108861</td>\n",
              "      <td>32.375401</td>\n",
              "      <td>60.351749</td>\n",
              "      <td>13.900981</td>\n",
              "      <td>57.831848</td>\n",
              "      <td>43.463261</td>\n",
              "    </tr>\n",
              "    <tr>\n",
              "      <th>2</th>\n",
              "      <td>3</td>\n",
              "      <td>M</td>\n",
              "      <td>32.0</td>\n",
              "      <td>2012.9.10</td>\n",
              "      <td>16.0</td>\n",
              "      <td>113.0</td>\n",
              "      <td>Addictive disorder</td>\n",
              "      <td>Alcohol use disorder</td>\n",
              "      <td>29.941780</td>\n",
              "      <td>27.544684</td>\n",
              "      <td>...</td>\n",
              "      <td>99.475453</td>\n",
              "      <td>70.654171</td>\n",
              "      <td>39.131547</td>\n",
              "      <td>69.920996</td>\n",
              "      <td>71.063644</td>\n",
              "      <td>38.534505</td>\n",
              "      <td>69.908764</td>\n",
              "      <td>27.180532</td>\n",
              "      <td>64.803155</td>\n",
              "      <td>31.485799</td>\n",
              "    </tr>\n",
              "    <tr>\n",
              "      <th>3</th>\n",
              "      <td>4</td>\n",
              "      <td>M</td>\n",
              "      <td>35.0</td>\n",
              "      <td>2012.10.8</td>\n",
              "      <td>18.0</td>\n",
              "      <td>126.0</td>\n",
              "      <td>Addictive disorder</td>\n",
              "      <td>Alcohol use disorder</td>\n",
              "      <td>21.496226</td>\n",
              "      <td>21.846832</td>\n",
              "      <td>...</td>\n",
              "      <td>59.986561</td>\n",
              "      <td>63.822201</td>\n",
              "      <td>36.478254</td>\n",
              "      <td>47.117006</td>\n",
              "      <td>84.658376</td>\n",
              "      <td>24.724096</td>\n",
              "      <td>50.299349</td>\n",
              "      <td>35.319695</td>\n",
              "      <td>79.822944</td>\n",
              "      <td>41.141873</td>\n",
              "    </tr>\n",
              "    <tr>\n",
              "      <th>4</th>\n",
              "      <td>5</td>\n",
              "      <td>M</td>\n",
              "      <td>36.0</td>\n",
              "      <td>2012.10.18</td>\n",
              "      <td>16.0</td>\n",
              "      <td>112.0</td>\n",
              "      <td>Addictive disorder</td>\n",
              "      <td>Alcohol use disorder</td>\n",
              "      <td>37.775667</td>\n",
              "      <td>33.607679</td>\n",
              "      <td>...</td>\n",
              "      <td>61.462720</td>\n",
              "      <td>59.166097</td>\n",
              "      <td>51.465531</td>\n",
              "      <td>58.635415</td>\n",
              "      <td>80.685608</td>\n",
              "      <td>62.138436</td>\n",
              "      <td>75.888749</td>\n",
              "      <td>61.003944</td>\n",
              "      <td>87.455509</td>\n",
              "      <td>70.531662</td>\n",
              "    </tr>\n",
              "  </tbody>\n",
              "</table>\n",
              "<p>5 rows × 1149 columns</p>\n",
              "</div>\n",
              "      <button class=\"colab-df-convert\" onclick=\"convertToInteractive('df-bd081249-c281-4e4e-b6a0-ce99b3b2ff51')\"\n",
              "              title=\"Convert this dataframe to an interactive table.\"\n",
              "              style=\"display:none;\">\n",
              "        \n",
              "  <svg xmlns=\"http://www.w3.org/2000/svg\" height=\"24px\"viewBox=\"0 0 24 24\"\n",
              "       width=\"24px\">\n",
              "    <path d=\"M0 0h24v24H0V0z\" fill=\"none\"/>\n",
              "    <path d=\"M18.56 5.44l.94 2.06.94-2.06 2.06-.94-2.06-.94-.94-2.06-.94 2.06-2.06.94zm-11 1L8.5 8.5l.94-2.06 2.06-.94-2.06-.94L8.5 2.5l-.94 2.06-2.06.94zm10 10l.94 2.06.94-2.06 2.06-.94-2.06-.94-.94-2.06-.94 2.06-2.06.94z\"/><path d=\"M17.41 7.96l-1.37-1.37c-.4-.4-.92-.59-1.43-.59-.52 0-1.04.2-1.43.59L10.3 9.45l-7.72 7.72c-.78.78-.78 2.05 0 2.83L4 21.41c.39.39.9.59 1.41.59.51 0 1.02-.2 1.41-.59l7.78-7.78 2.81-2.81c.8-.78.8-2.07 0-2.86zM5.41 20L4 18.59l7.72-7.72 1.47 1.35L5.41 20z\"/>\n",
              "  </svg>\n",
              "      </button>\n",
              "      \n",
              "  <style>\n",
              "    .colab-df-container {\n",
              "      display:flex;\n",
              "      flex-wrap:wrap;\n",
              "      gap: 12px;\n",
              "    }\n",
              "\n",
              "    .colab-df-convert {\n",
              "      background-color: #E8F0FE;\n",
              "      border: none;\n",
              "      border-radius: 50%;\n",
              "      cursor: pointer;\n",
              "      display: none;\n",
              "      fill: #1967D2;\n",
              "      height: 32px;\n",
              "      padding: 0 0 0 0;\n",
              "      width: 32px;\n",
              "    }\n",
              "\n",
              "    .colab-df-convert:hover {\n",
              "      background-color: #E2EBFA;\n",
              "      box-shadow: 0px 1px 2px rgba(60, 64, 67, 0.3), 0px 1px 3px 1px rgba(60, 64, 67, 0.15);\n",
              "      fill: #174EA6;\n",
              "    }\n",
              "\n",
              "    [theme=dark] .colab-df-convert {\n",
              "      background-color: #3B4455;\n",
              "      fill: #D2E3FC;\n",
              "    }\n",
              "\n",
              "    [theme=dark] .colab-df-convert:hover {\n",
              "      background-color: #434B5C;\n",
              "      box-shadow: 0px 1px 3px 1px rgba(0, 0, 0, 0.15);\n",
              "      filter: drop-shadow(0px 1px 2px rgba(0, 0, 0, 0.3));\n",
              "      fill: #FFFFFF;\n",
              "    }\n",
              "  </style>\n",
              "\n",
              "      <script>\n",
              "        const buttonEl =\n",
              "          document.querySelector('#df-bd081249-c281-4e4e-b6a0-ce99b3b2ff51 button.colab-df-convert');\n",
              "        buttonEl.style.display =\n",
              "          google.colab.kernel.accessAllowed ? 'block' : 'none';\n",
              "\n",
              "        async function convertToInteractive(key) {\n",
              "          const element = document.querySelector('#df-bd081249-c281-4e4e-b6a0-ce99b3b2ff51');\n",
              "          const dataTable =\n",
              "            await google.colab.kernel.invokeFunction('convertToInteractive',\n",
              "                                                     [key], {});\n",
              "          if (!dataTable) return;\n",
              "\n",
              "          const docLinkHtml = 'Like what you see? Visit the ' +\n",
              "            '<a target=\"_blank\" href=https://colab.research.google.com/notebooks/data_table.ipynb>data table notebook</a>'\n",
              "            + ' to learn more about interactive tables.';\n",
              "          element.innerHTML = '';\n",
              "          dataTable['output_type'] = 'display_data';\n",
              "          await google.colab.output.renderOutput(dataTable, element);\n",
              "          const docLink = document.createElement('div');\n",
              "          docLink.innerHTML = docLinkHtml;\n",
              "          element.appendChild(docLink);\n",
              "        }\n",
              "      </script>\n",
              "    </div>\n",
              "  </div>\n",
              "  "
            ]
          },
          "metadata": {},
          "execution_count": 3
        }
      ]
    },
    {
      "cell_type": "code",
      "source": [
        "data.shape"
      ],
      "metadata": {
        "colab": {
          "base_uri": "https://localhost:8080/"
        },
        "id": "Sunl6fKwKFKV",
        "outputId": "90af1b32-e688-4c01-bd1c-637cd7e59ceb"
      },
      "execution_count": 4,
      "outputs": [
        {
          "output_type": "execute_result",
          "data": {
            "text/plain": [
              "(945, 1149)"
            ]
          },
          "metadata": {},
          "execution_count": 4
        }
      ]
    },
    {
      "cell_type": "code",
      "source": [
        "data.describe()"
      ],
      "metadata": {
        "id": "NbH4yrFCKj-3",
        "colab": {
          "base_uri": "https://localhost:8080/",
          "height": 394
        },
        "outputId": "3421f8cd-5996-435b-afd2-af8c625ddbb0"
      },
      "execution_count": 7,
      "outputs": [
        {
          "output_type": "execute_result",
          "data": {
            "text/plain": [
              "              no.         age   education          IQ  AB.A.delta.a.FP1  \\\n",
              "count  945.000000  945.000000  930.000000  932.000000        945.000000   \n",
              "mean   473.000000   30.594804   13.438710  101.580472         20.182936   \n",
              "std    272.942302   11.781592    2.550461   17.022414         11.282022   \n",
              "min      1.000000   18.000000    0.000000   49.000000          3.272260   \n",
              "25%    237.000000   21.730000   12.000000   91.000000         12.784872   \n",
              "50%    473.000000   26.150000   13.000000  102.000000         17.065286   \n",
              "75%    709.000000   35.450000   16.000000  114.000000         24.492760   \n",
              "max    945.000000   71.880000   20.000000  145.000000         92.826192   \n",
              "\n",
              "       AB.A.delta.b.FP2  AB.A.delta.c.F7  AB.A.delta.d.F3  AB.A.delta.e.Fz  \\\n",
              "count        945.000000       945.000000       945.000000       945.000000   \n",
              "mean          21.177584        17.749553        18.901698        20.447079   \n",
              "std           12.230662        10.003598         9.079482         9.742912   \n",
              "min            3.244199         3.050507         3.412618         5.066593   \n",
              "25%           13.019269        11.134327        12.460586        13.548645   \n",
              "50%           17.838251        15.541469        16.733004        18.065276   \n",
              "75%           25.654394        21.623961        23.347900        25.573096   \n",
              "max          101.515687        91.373456        82.544167       101.566662   \n",
              "\n",
              "       AB.A.delta.f.F4  ...  COH.F.gamma.o.Pz.p.P4  COH.F.gamma.o.Pz.q.T6  \\\n",
              "count       945.000000  ...             945.000000             945.000000   \n",
              "mean         19.490329  ...              75.889633              55.049113   \n",
              "std           9.252500  ...              15.861641              19.541956   \n",
              "min           4.048931  ...              12.611954               0.519048   \n",
              "25%          12.637717  ...              68.014443              41.607506   \n",
              "50%          17.432568  ...              78.647712              55.158858   \n",
              "75%          23.956748  ...              87.398387              69.740640   \n",
              "max          77.197502  ...              99.678649             100.000000   \n",
              "\n",
              "       COH.F.gamma.o.Pz.r.O1  COH.F.gamma.o.Pz.s.O2  COH.F.gamma.p.P4.q.T6  \\\n",
              "count             945.000000             945.000000             945.000000   \n",
              "mean               56.959796              60.739169              69.829254   \n",
              "std                18.326785              18.052887              17.725321   \n",
              "min                 6.926792               0.708008               2.421748   \n",
              "25%                43.682444              48.374883              58.937785   \n",
              "50%                56.657348              61.257972              72.298636   \n",
              "75%                70.649245              73.979100              83.066877   \n",
              "max                99.307895             100.000000              99.581629   \n",
              "\n",
              "       COH.F.gamma.p.P4.r.O1  COH.F.gamma.p.P4.s.O2  COH.F.gamma.q.T6.r.O1  \\\n",
              "count             945.000000             945.000000             945.000000   \n",
              "mean               47.862489              66.832798              39.301406   \n",
              "std                19.685722              17.028701              20.790933   \n",
              "min                 0.036664               1.032207               1.228502   \n",
              "25%                32.581046              55.872070              22.049743   \n",
              "50%                45.719426              68.238375              36.549938   \n",
              "75%                62.081839              79.192418              54.169209   \n",
              "max                98.720067              99.650154              98.413320   \n",
              "\n",
              "       COH.F.gamma.q.T6.s.O2  COH.F.gamma.r.O1.s.O2  \n",
              "count             945.000000             945.000000  \n",
              "mean               66.153213              57.056207  \n",
              "std                18.088548              19.600107  \n",
              "min                 0.363268               3.988805  \n",
              "25%                54.710605              43.955229  \n",
              "50%                67.988937              57.515871  \n",
              "75%                79.527764              71.626382  \n",
              "max               100.000000              99.287092  \n",
              "\n",
              "[8 rows x 1145 columns]"
            ],
            "text/html": [
              "\n",
              "  <div id=\"df-622170cf-41f5-43d1-97d1-2821babfb508\">\n",
              "    <div class=\"colab-df-container\">\n",
              "      <div>\n",
              "<style scoped>\n",
              "    .dataframe tbody tr th:only-of-type {\n",
              "        vertical-align: middle;\n",
              "    }\n",
              "\n",
              "    .dataframe tbody tr th {\n",
              "        vertical-align: top;\n",
              "    }\n",
              "\n",
              "    .dataframe thead th {\n",
              "        text-align: right;\n",
              "    }\n",
              "</style>\n",
              "<table border=\"1\" class=\"dataframe\">\n",
              "  <thead>\n",
              "    <tr style=\"text-align: right;\">\n",
              "      <th></th>\n",
              "      <th>no.</th>\n",
              "      <th>age</th>\n",
              "      <th>education</th>\n",
              "      <th>IQ</th>\n",
              "      <th>AB.A.delta.a.FP1</th>\n",
              "      <th>AB.A.delta.b.FP2</th>\n",
              "      <th>AB.A.delta.c.F7</th>\n",
              "      <th>AB.A.delta.d.F3</th>\n",
              "      <th>AB.A.delta.e.Fz</th>\n",
              "      <th>AB.A.delta.f.F4</th>\n",
              "      <th>...</th>\n",
              "      <th>COH.F.gamma.o.Pz.p.P4</th>\n",
              "      <th>COH.F.gamma.o.Pz.q.T6</th>\n",
              "      <th>COH.F.gamma.o.Pz.r.O1</th>\n",
              "      <th>COH.F.gamma.o.Pz.s.O2</th>\n",
              "      <th>COH.F.gamma.p.P4.q.T6</th>\n",
              "      <th>COH.F.gamma.p.P4.r.O1</th>\n",
              "      <th>COH.F.gamma.p.P4.s.O2</th>\n",
              "      <th>COH.F.gamma.q.T6.r.O1</th>\n",
              "      <th>COH.F.gamma.q.T6.s.O2</th>\n",
              "      <th>COH.F.gamma.r.O1.s.O2</th>\n",
              "    </tr>\n",
              "  </thead>\n",
              "  <tbody>\n",
              "    <tr>\n",
              "      <th>count</th>\n",
              "      <td>945.000000</td>\n",
              "      <td>945.000000</td>\n",
              "      <td>930.000000</td>\n",
              "      <td>932.000000</td>\n",
              "      <td>945.000000</td>\n",
              "      <td>945.000000</td>\n",
              "      <td>945.000000</td>\n",
              "      <td>945.000000</td>\n",
              "      <td>945.000000</td>\n",
              "      <td>945.000000</td>\n",
              "      <td>...</td>\n",
              "      <td>945.000000</td>\n",
              "      <td>945.000000</td>\n",
              "      <td>945.000000</td>\n",
              "      <td>945.000000</td>\n",
              "      <td>945.000000</td>\n",
              "      <td>945.000000</td>\n",
              "      <td>945.000000</td>\n",
              "      <td>945.000000</td>\n",
              "      <td>945.000000</td>\n",
              "      <td>945.000000</td>\n",
              "    </tr>\n",
              "    <tr>\n",
              "      <th>mean</th>\n",
              "      <td>473.000000</td>\n",
              "      <td>30.594804</td>\n",
              "      <td>13.438710</td>\n",
              "      <td>101.580472</td>\n",
              "      <td>20.182936</td>\n",
              "      <td>21.177584</td>\n",
              "      <td>17.749553</td>\n",
              "      <td>18.901698</td>\n",
              "      <td>20.447079</td>\n",
              "      <td>19.490329</td>\n",
              "      <td>...</td>\n",
              "      <td>75.889633</td>\n",
              "      <td>55.049113</td>\n",
              "      <td>56.959796</td>\n",
              "      <td>60.739169</td>\n",
              "      <td>69.829254</td>\n",
              "      <td>47.862489</td>\n",
              "      <td>66.832798</td>\n",
              "      <td>39.301406</td>\n",
              "      <td>66.153213</td>\n",
              "      <td>57.056207</td>\n",
              "    </tr>\n",
              "    <tr>\n",
              "      <th>std</th>\n",
              "      <td>272.942302</td>\n",
              "      <td>11.781592</td>\n",
              "      <td>2.550461</td>\n",
              "      <td>17.022414</td>\n",
              "      <td>11.282022</td>\n",
              "      <td>12.230662</td>\n",
              "      <td>10.003598</td>\n",
              "      <td>9.079482</td>\n",
              "      <td>9.742912</td>\n",
              "      <td>9.252500</td>\n",
              "      <td>...</td>\n",
              "      <td>15.861641</td>\n",
              "      <td>19.541956</td>\n",
              "      <td>18.326785</td>\n",
              "      <td>18.052887</td>\n",
              "      <td>17.725321</td>\n",
              "      <td>19.685722</td>\n",
              "      <td>17.028701</td>\n",
              "      <td>20.790933</td>\n",
              "      <td>18.088548</td>\n",
              "      <td>19.600107</td>\n",
              "    </tr>\n",
              "    <tr>\n",
              "      <th>min</th>\n",
              "      <td>1.000000</td>\n",
              "      <td>18.000000</td>\n",
              "      <td>0.000000</td>\n",
              "      <td>49.000000</td>\n",
              "      <td>3.272260</td>\n",
              "      <td>3.244199</td>\n",
              "      <td>3.050507</td>\n",
              "      <td>3.412618</td>\n",
              "      <td>5.066593</td>\n",
              "      <td>4.048931</td>\n",
              "      <td>...</td>\n",
              "      <td>12.611954</td>\n",
              "      <td>0.519048</td>\n",
              "      <td>6.926792</td>\n",
              "      <td>0.708008</td>\n",
              "      <td>2.421748</td>\n",
              "      <td>0.036664</td>\n",
              "      <td>1.032207</td>\n",
              "      <td>1.228502</td>\n",
              "      <td>0.363268</td>\n",
              "      <td>3.988805</td>\n",
              "    </tr>\n",
              "    <tr>\n",
              "      <th>25%</th>\n",
              "      <td>237.000000</td>\n",
              "      <td>21.730000</td>\n",
              "      <td>12.000000</td>\n",
              "      <td>91.000000</td>\n",
              "      <td>12.784872</td>\n",
              "      <td>13.019269</td>\n",
              "      <td>11.134327</td>\n",
              "      <td>12.460586</td>\n",
              "      <td>13.548645</td>\n",
              "      <td>12.637717</td>\n",
              "      <td>...</td>\n",
              "      <td>68.014443</td>\n",
              "      <td>41.607506</td>\n",
              "      <td>43.682444</td>\n",
              "      <td>48.374883</td>\n",
              "      <td>58.937785</td>\n",
              "      <td>32.581046</td>\n",
              "      <td>55.872070</td>\n",
              "      <td>22.049743</td>\n",
              "      <td>54.710605</td>\n",
              "      <td>43.955229</td>\n",
              "    </tr>\n",
              "    <tr>\n",
              "      <th>50%</th>\n",
              "      <td>473.000000</td>\n",
              "      <td>26.150000</td>\n",
              "      <td>13.000000</td>\n",
              "      <td>102.000000</td>\n",
              "      <td>17.065286</td>\n",
              "      <td>17.838251</td>\n",
              "      <td>15.541469</td>\n",
              "      <td>16.733004</td>\n",
              "      <td>18.065276</td>\n",
              "      <td>17.432568</td>\n",
              "      <td>...</td>\n",
              "      <td>78.647712</td>\n",
              "      <td>55.158858</td>\n",
              "      <td>56.657348</td>\n",
              "      <td>61.257972</td>\n",
              "      <td>72.298636</td>\n",
              "      <td>45.719426</td>\n",
              "      <td>68.238375</td>\n",
              "      <td>36.549938</td>\n",
              "      <td>67.988937</td>\n",
              "      <td>57.515871</td>\n",
              "    </tr>\n",
              "    <tr>\n",
              "      <th>75%</th>\n",
              "      <td>709.000000</td>\n",
              "      <td>35.450000</td>\n",
              "      <td>16.000000</td>\n",
              "      <td>114.000000</td>\n",
              "      <td>24.492760</td>\n",
              "      <td>25.654394</td>\n",
              "      <td>21.623961</td>\n",
              "      <td>23.347900</td>\n",
              "      <td>25.573096</td>\n",
              "      <td>23.956748</td>\n",
              "      <td>...</td>\n",
              "      <td>87.398387</td>\n",
              "      <td>69.740640</td>\n",
              "      <td>70.649245</td>\n",
              "      <td>73.979100</td>\n",
              "      <td>83.066877</td>\n",
              "      <td>62.081839</td>\n",
              "      <td>79.192418</td>\n",
              "      <td>54.169209</td>\n",
              "      <td>79.527764</td>\n",
              "      <td>71.626382</td>\n",
              "    </tr>\n",
              "    <tr>\n",
              "      <th>max</th>\n",
              "      <td>945.000000</td>\n",
              "      <td>71.880000</td>\n",
              "      <td>20.000000</td>\n",
              "      <td>145.000000</td>\n",
              "      <td>92.826192</td>\n",
              "      <td>101.515687</td>\n",
              "      <td>91.373456</td>\n",
              "      <td>82.544167</td>\n",
              "      <td>101.566662</td>\n",
              "      <td>77.197502</td>\n",
              "      <td>...</td>\n",
              "      <td>99.678649</td>\n",
              "      <td>100.000000</td>\n",
              "      <td>99.307895</td>\n",
              "      <td>100.000000</td>\n",
              "      <td>99.581629</td>\n",
              "      <td>98.720067</td>\n",
              "      <td>99.650154</td>\n",
              "      <td>98.413320</td>\n",
              "      <td>100.000000</td>\n",
              "      <td>99.287092</td>\n",
              "    </tr>\n",
              "  </tbody>\n",
              "</table>\n",
              "<p>8 rows × 1145 columns</p>\n",
              "</div>\n",
              "      <button class=\"colab-df-convert\" onclick=\"convertToInteractive('df-622170cf-41f5-43d1-97d1-2821babfb508')\"\n",
              "              title=\"Convert this dataframe to an interactive table.\"\n",
              "              style=\"display:none;\">\n",
              "        \n",
              "  <svg xmlns=\"http://www.w3.org/2000/svg\" height=\"24px\"viewBox=\"0 0 24 24\"\n",
              "       width=\"24px\">\n",
              "    <path d=\"M0 0h24v24H0V0z\" fill=\"none\"/>\n",
              "    <path d=\"M18.56 5.44l.94 2.06.94-2.06 2.06-.94-2.06-.94-.94-2.06-.94 2.06-2.06.94zm-11 1L8.5 8.5l.94-2.06 2.06-.94-2.06-.94L8.5 2.5l-.94 2.06-2.06.94zm10 10l.94 2.06.94-2.06 2.06-.94-2.06-.94-.94-2.06-.94 2.06-2.06.94z\"/><path d=\"M17.41 7.96l-1.37-1.37c-.4-.4-.92-.59-1.43-.59-.52 0-1.04.2-1.43.59L10.3 9.45l-7.72 7.72c-.78.78-.78 2.05 0 2.83L4 21.41c.39.39.9.59 1.41.59.51 0 1.02-.2 1.41-.59l7.78-7.78 2.81-2.81c.8-.78.8-2.07 0-2.86zM5.41 20L4 18.59l7.72-7.72 1.47 1.35L5.41 20z\"/>\n",
              "  </svg>\n",
              "      </button>\n",
              "      \n",
              "  <style>\n",
              "    .colab-df-container {\n",
              "      display:flex;\n",
              "      flex-wrap:wrap;\n",
              "      gap: 12px;\n",
              "    }\n",
              "\n",
              "    .colab-df-convert {\n",
              "      background-color: #E8F0FE;\n",
              "      border: none;\n",
              "      border-radius: 50%;\n",
              "      cursor: pointer;\n",
              "      display: none;\n",
              "      fill: #1967D2;\n",
              "      height: 32px;\n",
              "      padding: 0 0 0 0;\n",
              "      width: 32px;\n",
              "    }\n",
              "\n",
              "    .colab-df-convert:hover {\n",
              "      background-color: #E2EBFA;\n",
              "      box-shadow: 0px 1px 2px rgba(60, 64, 67, 0.3), 0px 1px 3px 1px rgba(60, 64, 67, 0.15);\n",
              "      fill: #174EA6;\n",
              "    }\n",
              "\n",
              "    [theme=dark] .colab-df-convert {\n",
              "      background-color: #3B4455;\n",
              "      fill: #D2E3FC;\n",
              "    }\n",
              "\n",
              "    [theme=dark] .colab-df-convert:hover {\n",
              "      background-color: #434B5C;\n",
              "      box-shadow: 0px 1px 3px 1px rgba(0, 0, 0, 0.15);\n",
              "      filter: drop-shadow(0px 1px 2px rgba(0, 0, 0, 0.3));\n",
              "      fill: #FFFFFF;\n",
              "    }\n",
              "  </style>\n",
              "\n",
              "      <script>\n",
              "        const buttonEl =\n",
              "          document.querySelector('#df-622170cf-41f5-43d1-97d1-2821babfb508 button.colab-df-convert');\n",
              "        buttonEl.style.display =\n",
              "          google.colab.kernel.accessAllowed ? 'block' : 'none';\n",
              "\n",
              "        async function convertToInteractive(key) {\n",
              "          const element = document.querySelector('#df-622170cf-41f5-43d1-97d1-2821babfb508');\n",
              "          const dataTable =\n",
              "            await google.colab.kernel.invokeFunction('convertToInteractive',\n",
              "                                                     [key], {});\n",
              "          if (!dataTable) return;\n",
              "\n",
              "          const docLinkHtml = 'Like what you see? Visit the ' +\n",
              "            '<a target=\"_blank\" href=https://colab.research.google.com/notebooks/data_table.ipynb>data table notebook</a>'\n",
              "            + ' to learn more about interactive tables.';\n",
              "          element.innerHTML = '';\n",
              "          dataTable['output_type'] = 'display_data';\n",
              "          await google.colab.output.renderOutput(dataTable, element);\n",
              "          const docLink = document.createElement('div');\n",
              "          docLink.innerHTML = docLinkHtml;\n",
              "          element.appendChild(docLink);\n",
              "        }\n",
              "      </script>\n",
              "    </div>\n",
              "  </div>\n",
              "  "
            ]
          },
          "metadata": {},
          "execution_count": 7
        }
      ]
    },
    {
      "cell_type": "markdown",
      "source": [
        "## Prepare the dataset"
      ],
      "metadata": {
        "id": "BkVW60n4IlNQ"
      }
    },
    {
      "cell_type": "markdown",
      "source": [
        "### Remove unnecesary columns"
      ],
      "metadata": {
        "id": "ECUXccbyItEz"
      }
    },
    {
      "cell_type": "code",
      "source": [
        "columns_not_needed = ['no.','sex','age','eeg.date','education','IQ']"
      ],
      "metadata": {
        "id": "Q1aERG5dH7Tz"
      },
      "execution_count": 6,
      "outputs": []
    },
    {
      "cell_type": "code",
      "source": [
        "data.drop(columns_not_needed,axis=1,inplace=True)\n",
        "data.head()"
      ],
      "metadata": {
        "colab": {
          "base_uri": "https://localhost:8080/",
          "height": 386
        },
        "id": "jao10Z1MHWnv",
        "outputId": "929000c7-4825-4203-b615-106f1423ec1e"
      },
      "execution_count": 8,
      "outputs": [
        {
          "output_type": "execute_result",
          "data": {
            "text/plain": [
              "        main.disorder     specific.disorder  AB.A.delta.a.FP1  \\\n",
              "0  Addictive disorder  Alcohol use disorder         35.998557   \n",
              "1  Addictive disorder  Alcohol use disorder         13.425118   \n",
              "2  Addictive disorder  Alcohol use disorder         29.941780   \n",
              "3  Addictive disorder  Alcohol use disorder         21.496226   \n",
              "4  Addictive disorder  Alcohol use disorder         37.775667   \n",
              "\n",
              "   AB.A.delta.b.FP2  AB.A.delta.c.F7  AB.A.delta.d.F3  AB.A.delta.e.Fz  \\\n",
              "0         21.717375        21.518280        26.825048        26.611516   \n",
              "1         11.002916        11.942516        15.272216        14.151570   \n",
              "2         27.544684        17.150159        23.608960        27.087811   \n",
              "3         21.846832        17.364316        13.833701        14.100954   \n",
              "4         33.607679        21.865556        21.771413        22.854536   \n",
              "\n",
              "   AB.A.delta.f.F4  AB.A.delta.g.F8  AB.A.delta.h.T3  ...  \\\n",
              "0        25.732649        16.563408        29.891368  ...   \n",
              "1        12.456034         8.436832         9.975238  ...   \n",
              "2        13.541237        16.523963        12.775574  ...   \n",
              "3        13.100939        14.613650         8.063191  ...   \n",
              "4        21.456377        15.969042         9.434306  ...   \n",
              "\n",
              "   COH.F.gamma.o.Pz.p.P4  COH.F.gamma.o.Pz.q.T6  COH.F.gamma.o.Pz.r.O1  \\\n",
              "0              55.989192              16.739679              23.452271   \n",
              "1              45.595619              17.510824              26.777368   \n",
              "2              99.475453              70.654171              39.131547   \n",
              "3              59.986561              63.822201              36.478254   \n",
              "4              61.462720              59.166097              51.465531   \n",
              "\n",
              "   COH.F.gamma.o.Pz.s.O2  COH.F.gamma.p.P4.q.T6  COH.F.gamma.p.P4.r.O1  \\\n",
              "0              45.678820              30.167520              16.918761   \n",
              "1              28.201062              57.108861              32.375401   \n",
              "2              69.920996              71.063644              38.534505   \n",
              "3              47.117006              84.658376              24.724096   \n",
              "4              58.635415              80.685608              62.138436   \n",
              "\n",
              "   COH.F.gamma.p.P4.s.O2  COH.F.gamma.q.T6.r.O1  COH.F.gamma.q.T6.s.O2  \\\n",
              "0              48.850427               9.422630              34.507082   \n",
              "1              60.351749              13.900981              57.831848   \n",
              "2              69.908764              27.180532              64.803155   \n",
              "3              50.299349              35.319695              79.822944   \n",
              "4              75.888749              61.003944              87.455509   \n",
              "\n",
              "   COH.F.gamma.r.O1.s.O2  \n",
              "0              28.613029  \n",
              "1              43.463261  \n",
              "2              31.485799  \n",
              "3              41.141873  \n",
              "4              70.531662  \n",
              "\n",
              "[5 rows x 1143 columns]"
            ],
            "text/html": [
              "\n",
              "  <div id=\"df-58cd3ee0-d416-4d0c-ba8e-a26a5afcca40\">\n",
              "    <div class=\"colab-df-container\">\n",
              "      <div>\n",
              "<style scoped>\n",
              "    .dataframe tbody tr th:only-of-type {\n",
              "        vertical-align: middle;\n",
              "    }\n",
              "\n",
              "    .dataframe tbody tr th {\n",
              "        vertical-align: top;\n",
              "    }\n",
              "\n",
              "    .dataframe thead th {\n",
              "        text-align: right;\n",
              "    }\n",
              "</style>\n",
              "<table border=\"1\" class=\"dataframe\">\n",
              "  <thead>\n",
              "    <tr style=\"text-align: right;\">\n",
              "      <th></th>\n",
              "      <th>main.disorder</th>\n",
              "      <th>specific.disorder</th>\n",
              "      <th>AB.A.delta.a.FP1</th>\n",
              "      <th>AB.A.delta.b.FP2</th>\n",
              "      <th>AB.A.delta.c.F7</th>\n",
              "      <th>AB.A.delta.d.F3</th>\n",
              "      <th>AB.A.delta.e.Fz</th>\n",
              "      <th>AB.A.delta.f.F4</th>\n",
              "      <th>AB.A.delta.g.F8</th>\n",
              "      <th>AB.A.delta.h.T3</th>\n",
              "      <th>...</th>\n",
              "      <th>COH.F.gamma.o.Pz.p.P4</th>\n",
              "      <th>COH.F.gamma.o.Pz.q.T6</th>\n",
              "      <th>COH.F.gamma.o.Pz.r.O1</th>\n",
              "      <th>COH.F.gamma.o.Pz.s.O2</th>\n",
              "      <th>COH.F.gamma.p.P4.q.T6</th>\n",
              "      <th>COH.F.gamma.p.P4.r.O1</th>\n",
              "      <th>COH.F.gamma.p.P4.s.O2</th>\n",
              "      <th>COH.F.gamma.q.T6.r.O1</th>\n",
              "      <th>COH.F.gamma.q.T6.s.O2</th>\n",
              "      <th>COH.F.gamma.r.O1.s.O2</th>\n",
              "    </tr>\n",
              "  </thead>\n",
              "  <tbody>\n",
              "    <tr>\n",
              "      <th>0</th>\n",
              "      <td>Addictive disorder</td>\n",
              "      <td>Alcohol use disorder</td>\n",
              "      <td>35.998557</td>\n",
              "      <td>21.717375</td>\n",
              "      <td>21.518280</td>\n",
              "      <td>26.825048</td>\n",
              "      <td>26.611516</td>\n",
              "      <td>25.732649</td>\n",
              "      <td>16.563408</td>\n",
              "      <td>29.891368</td>\n",
              "      <td>...</td>\n",
              "      <td>55.989192</td>\n",
              "      <td>16.739679</td>\n",
              "      <td>23.452271</td>\n",
              "      <td>45.678820</td>\n",
              "      <td>30.167520</td>\n",
              "      <td>16.918761</td>\n",
              "      <td>48.850427</td>\n",
              "      <td>9.422630</td>\n",
              "      <td>34.507082</td>\n",
              "      <td>28.613029</td>\n",
              "    </tr>\n",
              "    <tr>\n",
              "      <th>1</th>\n",
              "      <td>Addictive disorder</td>\n",
              "      <td>Alcohol use disorder</td>\n",
              "      <td>13.425118</td>\n",
              "      <td>11.002916</td>\n",
              "      <td>11.942516</td>\n",
              "      <td>15.272216</td>\n",
              "      <td>14.151570</td>\n",
              "      <td>12.456034</td>\n",
              "      <td>8.436832</td>\n",
              "      <td>9.975238</td>\n",
              "      <td>...</td>\n",
              "      <td>45.595619</td>\n",
              "      <td>17.510824</td>\n",
              "      <td>26.777368</td>\n",
              "      <td>28.201062</td>\n",
              "      <td>57.108861</td>\n",
              "      <td>32.375401</td>\n",
              "      <td>60.351749</td>\n",
              "      <td>13.900981</td>\n",
              "      <td>57.831848</td>\n",
              "      <td>43.463261</td>\n",
              "    </tr>\n",
              "    <tr>\n",
              "      <th>2</th>\n",
              "      <td>Addictive disorder</td>\n",
              "      <td>Alcohol use disorder</td>\n",
              "      <td>29.941780</td>\n",
              "      <td>27.544684</td>\n",
              "      <td>17.150159</td>\n",
              "      <td>23.608960</td>\n",
              "      <td>27.087811</td>\n",
              "      <td>13.541237</td>\n",
              "      <td>16.523963</td>\n",
              "      <td>12.775574</td>\n",
              "      <td>...</td>\n",
              "      <td>99.475453</td>\n",
              "      <td>70.654171</td>\n",
              "      <td>39.131547</td>\n",
              "      <td>69.920996</td>\n",
              "      <td>71.063644</td>\n",
              "      <td>38.534505</td>\n",
              "      <td>69.908764</td>\n",
              "      <td>27.180532</td>\n",
              "      <td>64.803155</td>\n",
              "      <td>31.485799</td>\n",
              "    </tr>\n",
              "    <tr>\n",
              "      <th>3</th>\n",
              "      <td>Addictive disorder</td>\n",
              "      <td>Alcohol use disorder</td>\n",
              "      <td>21.496226</td>\n",
              "      <td>21.846832</td>\n",
              "      <td>17.364316</td>\n",
              "      <td>13.833701</td>\n",
              "      <td>14.100954</td>\n",
              "      <td>13.100939</td>\n",
              "      <td>14.613650</td>\n",
              "      <td>8.063191</td>\n",
              "      <td>...</td>\n",
              "      <td>59.986561</td>\n",
              "      <td>63.822201</td>\n",
              "      <td>36.478254</td>\n",
              "      <td>47.117006</td>\n",
              "      <td>84.658376</td>\n",
              "      <td>24.724096</td>\n",
              "      <td>50.299349</td>\n",
              "      <td>35.319695</td>\n",
              "      <td>79.822944</td>\n",
              "      <td>41.141873</td>\n",
              "    </tr>\n",
              "    <tr>\n",
              "      <th>4</th>\n",
              "      <td>Addictive disorder</td>\n",
              "      <td>Alcohol use disorder</td>\n",
              "      <td>37.775667</td>\n",
              "      <td>33.607679</td>\n",
              "      <td>21.865556</td>\n",
              "      <td>21.771413</td>\n",
              "      <td>22.854536</td>\n",
              "      <td>21.456377</td>\n",
              "      <td>15.969042</td>\n",
              "      <td>9.434306</td>\n",
              "      <td>...</td>\n",
              "      <td>61.462720</td>\n",
              "      <td>59.166097</td>\n",
              "      <td>51.465531</td>\n",
              "      <td>58.635415</td>\n",
              "      <td>80.685608</td>\n",
              "      <td>62.138436</td>\n",
              "      <td>75.888749</td>\n",
              "      <td>61.003944</td>\n",
              "      <td>87.455509</td>\n",
              "      <td>70.531662</td>\n",
              "    </tr>\n",
              "  </tbody>\n",
              "</table>\n",
              "<p>5 rows × 1143 columns</p>\n",
              "</div>\n",
              "      <button class=\"colab-df-convert\" onclick=\"convertToInteractive('df-58cd3ee0-d416-4d0c-ba8e-a26a5afcca40')\"\n",
              "              title=\"Convert this dataframe to an interactive table.\"\n",
              "              style=\"display:none;\">\n",
              "        \n",
              "  <svg xmlns=\"http://www.w3.org/2000/svg\" height=\"24px\"viewBox=\"0 0 24 24\"\n",
              "       width=\"24px\">\n",
              "    <path d=\"M0 0h24v24H0V0z\" fill=\"none\"/>\n",
              "    <path d=\"M18.56 5.44l.94 2.06.94-2.06 2.06-.94-2.06-.94-.94-2.06-.94 2.06-2.06.94zm-11 1L8.5 8.5l.94-2.06 2.06-.94-2.06-.94L8.5 2.5l-.94 2.06-2.06.94zm10 10l.94 2.06.94-2.06 2.06-.94-2.06-.94-.94-2.06-.94 2.06-2.06.94z\"/><path d=\"M17.41 7.96l-1.37-1.37c-.4-.4-.92-.59-1.43-.59-.52 0-1.04.2-1.43.59L10.3 9.45l-7.72 7.72c-.78.78-.78 2.05 0 2.83L4 21.41c.39.39.9.59 1.41.59.51 0 1.02-.2 1.41-.59l7.78-7.78 2.81-2.81c.8-.78.8-2.07 0-2.86zM5.41 20L4 18.59l7.72-7.72 1.47 1.35L5.41 20z\"/>\n",
              "  </svg>\n",
              "      </button>\n",
              "      \n",
              "  <style>\n",
              "    .colab-df-container {\n",
              "      display:flex;\n",
              "      flex-wrap:wrap;\n",
              "      gap: 12px;\n",
              "    }\n",
              "\n",
              "    .colab-df-convert {\n",
              "      background-color: #E8F0FE;\n",
              "      border: none;\n",
              "      border-radius: 50%;\n",
              "      cursor: pointer;\n",
              "      display: none;\n",
              "      fill: #1967D2;\n",
              "      height: 32px;\n",
              "      padding: 0 0 0 0;\n",
              "      width: 32px;\n",
              "    }\n",
              "\n",
              "    .colab-df-convert:hover {\n",
              "      background-color: #E2EBFA;\n",
              "      box-shadow: 0px 1px 2px rgba(60, 64, 67, 0.3), 0px 1px 3px 1px rgba(60, 64, 67, 0.15);\n",
              "      fill: #174EA6;\n",
              "    }\n",
              "\n",
              "    [theme=dark] .colab-df-convert {\n",
              "      background-color: #3B4455;\n",
              "      fill: #D2E3FC;\n",
              "    }\n",
              "\n",
              "    [theme=dark] .colab-df-convert:hover {\n",
              "      background-color: #434B5C;\n",
              "      box-shadow: 0px 1px 3px 1px rgba(0, 0, 0, 0.15);\n",
              "      filter: drop-shadow(0px 1px 2px rgba(0, 0, 0, 0.3));\n",
              "      fill: #FFFFFF;\n",
              "    }\n",
              "  </style>\n",
              "\n",
              "      <script>\n",
              "        const buttonEl =\n",
              "          document.querySelector('#df-58cd3ee0-d416-4d0c-ba8e-a26a5afcca40 button.colab-df-convert');\n",
              "        buttonEl.style.display =\n",
              "          google.colab.kernel.accessAllowed ? 'block' : 'none';\n",
              "\n",
              "        async function convertToInteractive(key) {\n",
              "          const element = document.querySelector('#df-58cd3ee0-d416-4d0c-ba8e-a26a5afcca40');\n",
              "          const dataTable =\n",
              "            await google.colab.kernel.invokeFunction('convertToInteractive',\n",
              "                                                     [key], {});\n",
              "          if (!dataTable) return;\n",
              "\n",
              "          const docLinkHtml = 'Like what you see? Visit the ' +\n",
              "            '<a target=\"_blank\" href=https://colab.research.google.com/notebooks/data_table.ipynb>data table notebook</a>'\n",
              "            + ' to learn more about interactive tables.';\n",
              "          element.innerHTML = '';\n",
              "          dataTable['output_type'] = 'display_data';\n",
              "          await google.colab.output.renderOutput(dataTable, element);\n",
              "          const docLink = document.createElement('div');\n",
              "          docLink.innerHTML = docLinkHtml;\n",
              "          element.appendChild(docLink);\n",
              "        }\n",
              "      </script>\n",
              "    </div>\n",
              "  </div>\n",
              "  "
            ]
          },
          "metadata": {},
          "execution_count": 8
        }
      ]
    },
    {
      "cell_type": "code",
      "source": [
        "data.rename(columns = {'main.disorder':'main_disorder'}, inplace = True)\n",
        "data.rename(columns = {'specific.disorder':'specific_disoder'}, inplace = True)"
      ],
      "metadata": {
        "id": "8TFRiTmVLLgp"
      },
      "execution_count": 9,
      "outputs": []
    },
    {
      "cell_type": "code",
      "source": [
        "main_disorders = list(data.main_disorder.unique())\n",
        "main_disorders"
      ],
      "metadata": {
        "colab": {
          "base_uri": "https://localhost:8080/"
        },
        "id": "H4vybOWtKqn2",
        "outputId": "901209cb-e322-4e9e-ab37-f7ae8c8aad16"
      },
      "execution_count": 12,
      "outputs": [
        {
          "output_type": "execute_result",
          "data": {
            "text/plain": [
              "['Addictive disorder',\n",
              " 'Trauma and stress related disorder',\n",
              " 'Mood disorder',\n",
              " 'Healthy control',\n",
              " 'Obsessive compulsive disorder',\n",
              " 'Schizophrenia',\n",
              " 'Anxiety disorder']"
            ]
          },
          "metadata": {},
          "execution_count": 12
        }
      ]
    },
    {
      "cell_type": "code",
      "source": [
        "specific_disoders = list(data.specific_disoder.unique())\n",
        "specific_disoders"
      ],
      "metadata": {
        "colab": {
          "base_uri": "https://localhost:8080/"
        },
        "id": "V3alE4OfLoS_",
        "outputId": "39c585f9-bc73-4805-f529-cb4dd0b5c6e7"
      },
      "execution_count": 13,
      "outputs": [
        {
          "output_type": "execute_result",
          "data": {
            "text/plain": [
              "['Alcohol use disorder',\n",
              " 'Acute stress disorder',\n",
              " 'Depressive disorder',\n",
              " 'Healthy control',\n",
              " 'Behavioral addiction disorder',\n",
              " 'Obsessive compulsitve disorder',\n",
              " 'Schizophrenia',\n",
              " 'Panic disorder',\n",
              " 'Social anxiety disorder',\n",
              " 'Posttraumatic stress disorder',\n",
              " 'Adjustment disorder',\n",
              " 'Bipolar disorder']"
            ]
          },
          "metadata": {},
          "execution_count": 13
        }
      ]
    },
    {
      "cell_type": "markdown",
      "source": [
        "### Check and remove null values"
      ],
      "metadata": {
        "id": "aagTDO7_JAQS"
      }
    },
    {
      "cell_type": "code",
      "source": [
        "features_with_null=list(data.columns[data.isna().any()])\n",
        "len(features_with_null)"
      ],
      "metadata": {
        "colab": {
          "base_uri": "https://localhost:8080/"
        },
        "id": "HUDdkkwLIQ2A",
        "outputId": "28bc5c18-9e32-4580-c90f-b696232e6156"
      },
      "execution_count": 23,
      "outputs": [
        {
          "output_type": "execute_result",
          "data": {
            "text/plain": [
              "0"
            ]
          },
          "metadata": {},
          "execution_count": 23
        }
      ]
    },
    {
      "cell_type": "code",
      "source": [
        "data.drop(features_with_null,axis=1,inplace=True)\n",
        "data.shape"
      ],
      "metadata": {
        "colab": {
          "base_uri": "https://localhost:8080/"
        },
        "id": "J8QWLX6IJK-P",
        "outputId": "214090e8-215d-4953-b1b4-637e1f9cab55"
      },
      "execution_count": 15,
      "outputs": [
        {
          "output_type": "execute_result",
          "data": {
            "text/plain": [
              "(945, 1142)"
            ]
          },
          "metadata": {},
          "execution_count": 15
        }
      ]
    },
    {
      "cell_type": "markdown",
      "source": [
        "### Obtaining data on mood disorders and depression"
      ],
      "metadata": {
        "id": "91WfOyVHLcRa"
      }
    },
    {
      "cell_type": "code",
      "source": [
        "data.head()"
      ],
      "metadata": {
        "colab": {
          "base_uri": "https://localhost:8080/",
          "height": 386
        },
        "id": "Zu9Fr_YPNOfw",
        "outputId": "c5ff0a1a-43ed-48e2-a660-3e971d1f1ab2"
      },
      "execution_count": 16,
      "outputs": [
        {
          "output_type": "execute_result",
          "data": {
            "text/plain": [
              "        main_disorder      specific_disoder  AB.A.delta.a.FP1  \\\n",
              "0  Addictive disorder  Alcohol use disorder         35.998557   \n",
              "1  Addictive disorder  Alcohol use disorder         13.425118   \n",
              "2  Addictive disorder  Alcohol use disorder         29.941780   \n",
              "3  Addictive disorder  Alcohol use disorder         21.496226   \n",
              "4  Addictive disorder  Alcohol use disorder         37.775667   \n",
              "\n",
              "   AB.A.delta.b.FP2  AB.A.delta.c.F7  AB.A.delta.d.F3  AB.A.delta.e.Fz  \\\n",
              "0         21.717375        21.518280        26.825048        26.611516   \n",
              "1         11.002916        11.942516        15.272216        14.151570   \n",
              "2         27.544684        17.150159        23.608960        27.087811   \n",
              "3         21.846832        17.364316        13.833701        14.100954   \n",
              "4         33.607679        21.865556        21.771413        22.854536   \n",
              "\n",
              "   AB.A.delta.f.F4  AB.A.delta.g.F8  AB.A.delta.h.T3  ...  \\\n",
              "0        25.732649        16.563408        29.891368  ...   \n",
              "1        12.456034         8.436832         9.975238  ...   \n",
              "2        13.541237        16.523963        12.775574  ...   \n",
              "3        13.100939        14.613650         8.063191  ...   \n",
              "4        21.456377        15.969042         9.434306  ...   \n",
              "\n",
              "   COH.F.gamma.o.Pz.p.P4  COH.F.gamma.o.Pz.q.T6  COH.F.gamma.o.Pz.r.O1  \\\n",
              "0              55.989192              16.739679              23.452271   \n",
              "1              45.595619              17.510824              26.777368   \n",
              "2              99.475453              70.654171              39.131547   \n",
              "3              59.986561              63.822201              36.478254   \n",
              "4              61.462720              59.166097              51.465531   \n",
              "\n",
              "   COH.F.gamma.o.Pz.s.O2  COH.F.gamma.p.P4.q.T6  COH.F.gamma.p.P4.r.O1  \\\n",
              "0              45.678820              30.167520              16.918761   \n",
              "1              28.201062              57.108861              32.375401   \n",
              "2              69.920996              71.063644              38.534505   \n",
              "3              47.117006              84.658376              24.724096   \n",
              "4              58.635415              80.685608              62.138436   \n",
              "\n",
              "   COH.F.gamma.p.P4.s.O2  COH.F.gamma.q.T6.r.O1  COH.F.gamma.q.T6.s.O2  \\\n",
              "0              48.850427               9.422630              34.507082   \n",
              "1              60.351749              13.900981              57.831848   \n",
              "2              69.908764              27.180532              64.803155   \n",
              "3              50.299349              35.319695              79.822944   \n",
              "4              75.888749              61.003944              87.455509   \n",
              "\n",
              "   COH.F.gamma.r.O1.s.O2  \n",
              "0              28.613029  \n",
              "1              43.463261  \n",
              "2              31.485799  \n",
              "3              41.141873  \n",
              "4              70.531662  \n",
              "\n",
              "[5 rows x 1142 columns]"
            ],
            "text/html": [
              "\n",
              "  <div id=\"df-d7986b1f-edfa-4fa2-8f27-37f65936a871\">\n",
              "    <div class=\"colab-df-container\">\n",
              "      <div>\n",
              "<style scoped>\n",
              "    .dataframe tbody tr th:only-of-type {\n",
              "        vertical-align: middle;\n",
              "    }\n",
              "\n",
              "    .dataframe tbody tr th {\n",
              "        vertical-align: top;\n",
              "    }\n",
              "\n",
              "    .dataframe thead th {\n",
              "        text-align: right;\n",
              "    }\n",
              "</style>\n",
              "<table border=\"1\" class=\"dataframe\">\n",
              "  <thead>\n",
              "    <tr style=\"text-align: right;\">\n",
              "      <th></th>\n",
              "      <th>main_disorder</th>\n",
              "      <th>specific_disoder</th>\n",
              "      <th>AB.A.delta.a.FP1</th>\n",
              "      <th>AB.A.delta.b.FP2</th>\n",
              "      <th>AB.A.delta.c.F7</th>\n",
              "      <th>AB.A.delta.d.F3</th>\n",
              "      <th>AB.A.delta.e.Fz</th>\n",
              "      <th>AB.A.delta.f.F4</th>\n",
              "      <th>AB.A.delta.g.F8</th>\n",
              "      <th>AB.A.delta.h.T3</th>\n",
              "      <th>...</th>\n",
              "      <th>COH.F.gamma.o.Pz.p.P4</th>\n",
              "      <th>COH.F.gamma.o.Pz.q.T6</th>\n",
              "      <th>COH.F.gamma.o.Pz.r.O1</th>\n",
              "      <th>COH.F.gamma.o.Pz.s.O2</th>\n",
              "      <th>COH.F.gamma.p.P4.q.T6</th>\n",
              "      <th>COH.F.gamma.p.P4.r.O1</th>\n",
              "      <th>COH.F.gamma.p.P4.s.O2</th>\n",
              "      <th>COH.F.gamma.q.T6.r.O1</th>\n",
              "      <th>COH.F.gamma.q.T6.s.O2</th>\n",
              "      <th>COH.F.gamma.r.O1.s.O2</th>\n",
              "    </tr>\n",
              "  </thead>\n",
              "  <tbody>\n",
              "    <tr>\n",
              "      <th>0</th>\n",
              "      <td>Addictive disorder</td>\n",
              "      <td>Alcohol use disorder</td>\n",
              "      <td>35.998557</td>\n",
              "      <td>21.717375</td>\n",
              "      <td>21.518280</td>\n",
              "      <td>26.825048</td>\n",
              "      <td>26.611516</td>\n",
              "      <td>25.732649</td>\n",
              "      <td>16.563408</td>\n",
              "      <td>29.891368</td>\n",
              "      <td>...</td>\n",
              "      <td>55.989192</td>\n",
              "      <td>16.739679</td>\n",
              "      <td>23.452271</td>\n",
              "      <td>45.678820</td>\n",
              "      <td>30.167520</td>\n",
              "      <td>16.918761</td>\n",
              "      <td>48.850427</td>\n",
              "      <td>9.422630</td>\n",
              "      <td>34.507082</td>\n",
              "      <td>28.613029</td>\n",
              "    </tr>\n",
              "    <tr>\n",
              "      <th>1</th>\n",
              "      <td>Addictive disorder</td>\n",
              "      <td>Alcohol use disorder</td>\n",
              "      <td>13.425118</td>\n",
              "      <td>11.002916</td>\n",
              "      <td>11.942516</td>\n",
              "      <td>15.272216</td>\n",
              "      <td>14.151570</td>\n",
              "      <td>12.456034</td>\n",
              "      <td>8.436832</td>\n",
              "      <td>9.975238</td>\n",
              "      <td>...</td>\n",
              "      <td>45.595619</td>\n",
              "      <td>17.510824</td>\n",
              "      <td>26.777368</td>\n",
              "      <td>28.201062</td>\n",
              "      <td>57.108861</td>\n",
              "      <td>32.375401</td>\n",
              "      <td>60.351749</td>\n",
              "      <td>13.900981</td>\n",
              "      <td>57.831848</td>\n",
              "      <td>43.463261</td>\n",
              "    </tr>\n",
              "    <tr>\n",
              "      <th>2</th>\n",
              "      <td>Addictive disorder</td>\n",
              "      <td>Alcohol use disorder</td>\n",
              "      <td>29.941780</td>\n",
              "      <td>27.544684</td>\n",
              "      <td>17.150159</td>\n",
              "      <td>23.608960</td>\n",
              "      <td>27.087811</td>\n",
              "      <td>13.541237</td>\n",
              "      <td>16.523963</td>\n",
              "      <td>12.775574</td>\n",
              "      <td>...</td>\n",
              "      <td>99.475453</td>\n",
              "      <td>70.654171</td>\n",
              "      <td>39.131547</td>\n",
              "      <td>69.920996</td>\n",
              "      <td>71.063644</td>\n",
              "      <td>38.534505</td>\n",
              "      <td>69.908764</td>\n",
              "      <td>27.180532</td>\n",
              "      <td>64.803155</td>\n",
              "      <td>31.485799</td>\n",
              "    </tr>\n",
              "    <tr>\n",
              "      <th>3</th>\n",
              "      <td>Addictive disorder</td>\n",
              "      <td>Alcohol use disorder</td>\n",
              "      <td>21.496226</td>\n",
              "      <td>21.846832</td>\n",
              "      <td>17.364316</td>\n",
              "      <td>13.833701</td>\n",
              "      <td>14.100954</td>\n",
              "      <td>13.100939</td>\n",
              "      <td>14.613650</td>\n",
              "      <td>8.063191</td>\n",
              "      <td>...</td>\n",
              "      <td>59.986561</td>\n",
              "      <td>63.822201</td>\n",
              "      <td>36.478254</td>\n",
              "      <td>47.117006</td>\n",
              "      <td>84.658376</td>\n",
              "      <td>24.724096</td>\n",
              "      <td>50.299349</td>\n",
              "      <td>35.319695</td>\n",
              "      <td>79.822944</td>\n",
              "      <td>41.141873</td>\n",
              "    </tr>\n",
              "    <tr>\n",
              "      <th>4</th>\n",
              "      <td>Addictive disorder</td>\n",
              "      <td>Alcohol use disorder</td>\n",
              "      <td>37.775667</td>\n",
              "      <td>33.607679</td>\n",
              "      <td>21.865556</td>\n",
              "      <td>21.771413</td>\n",
              "      <td>22.854536</td>\n",
              "      <td>21.456377</td>\n",
              "      <td>15.969042</td>\n",
              "      <td>9.434306</td>\n",
              "      <td>...</td>\n",
              "      <td>61.462720</td>\n",
              "      <td>59.166097</td>\n",
              "      <td>51.465531</td>\n",
              "      <td>58.635415</td>\n",
              "      <td>80.685608</td>\n",
              "      <td>62.138436</td>\n",
              "      <td>75.888749</td>\n",
              "      <td>61.003944</td>\n",
              "      <td>87.455509</td>\n",
              "      <td>70.531662</td>\n",
              "    </tr>\n",
              "  </tbody>\n",
              "</table>\n",
              "<p>5 rows × 1142 columns</p>\n",
              "</div>\n",
              "      <button class=\"colab-df-convert\" onclick=\"convertToInteractive('df-d7986b1f-edfa-4fa2-8f27-37f65936a871')\"\n",
              "              title=\"Convert this dataframe to an interactive table.\"\n",
              "              style=\"display:none;\">\n",
              "        \n",
              "  <svg xmlns=\"http://www.w3.org/2000/svg\" height=\"24px\"viewBox=\"0 0 24 24\"\n",
              "       width=\"24px\">\n",
              "    <path d=\"M0 0h24v24H0V0z\" fill=\"none\"/>\n",
              "    <path d=\"M18.56 5.44l.94 2.06.94-2.06 2.06-.94-2.06-.94-.94-2.06-.94 2.06-2.06.94zm-11 1L8.5 8.5l.94-2.06 2.06-.94-2.06-.94L8.5 2.5l-.94 2.06-2.06.94zm10 10l.94 2.06.94-2.06 2.06-.94-2.06-.94-.94-2.06-.94 2.06-2.06.94z\"/><path d=\"M17.41 7.96l-1.37-1.37c-.4-.4-.92-.59-1.43-.59-.52 0-1.04.2-1.43.59L10.3 9.45l-7.72 7.72c-.78.78-.78 2.05 0 2.83L4 21.41c.39.39.9.59 1.41.59.51 0 1.02-.2 1.41-.59l7.78-7.78 2.81-2.81c.8-.78.8-2.07 0-2.86zM5.41 20L4 18.59l7.72-7.72 1.47 1.35L5.41 20z\"/>\n",
              "  </svg>\n",
              "      </button>\n",
              "      \n",
              "  <style>\n",
              "    .colab-df-container {\n",
              "      display:flex;\n",
              "      flex-wrap:wrap;\n",
              "      gap: 12px;\n",
              "    }\n",
              "\n",
              "    .colab-df-convert {\n",
              "      background-color: #E8F0FE;\n",
              "      border: none;\n",
              "      border-radius: 50%;\n",
              "      cursor: pointer;\n",
              "      display: none;\n",
              "      fill: #1967D2;\n",
              "      height: 32px;\n",
              "      padding: 0 0 0 0;\n",
              "      width: 32px;\n",
              "    }\n",
              "\n",
              "    .colab-df-convert:hover {\n",
              "      background-color: #E2EBFA;\n",
              "      box-shadow: 0px 1px 2px rgba(60, 64, 67, 0.3), 0px 1px 3px 1px rgba(60, 64, 67, 0.15);\n",
              "      fill: #174EA6;\n",
              "    }\n",
              "\n",
              "    [theme=dark] .colab-df-convert {\n",
              "      background-color: #3B4455;\n",
              "      fill: #D2E3FC;\n",
              "    }\n",
              "\n",
              "    [theme=dark] .colab-df-convert:hover {\n",
              "      background-color: #434B5C;\n",
              "      box-shadow: 0px 1px 3px 1px rgba(0, 0, 0, 0.15);\n",
              "      filter: drop-shadow(0px 1px 2px rgba(0, 0, 0, 0.3));\n",
              "      fill: #FFFFFF;\n",
              "    }\n",
              "  </style>\n",
              "\n",
              "      <script>\n",
              "        const buttonEl =\n",
              "          document.querySelector('#df-d7986b1f-edfa-4fa2-8f27-37f65936a871 button.colab-df-convert');\n",
              "        buttonEl.style.display =\n",
              "          google.colab.kernel.accessAllowed ? 'block' : 'none';\n",
              "\n",
              "        async function convertToInteractive(key) {\n",
              "          const element = document.querySelector('#df-d7986b1f-edfa-4fa2-8f27-37f65936a871');\n",
              "          const dataTable =\n",
              "            await google.colab.kernel.invokeFunction('convertToInteractive',\n",
              "                                                     [key], {});\n",
              "          if (!dataTable) return;\n",
              "\n",
              "          const docLinkHtml = 'Like what you see? Visit the ' +\n",
              "            '<a target=\"_blank\" href=https://colab.research.google.com/notebooks/data_table.ipynb>data table notebook</a>'\n",
              "            + ' to learn more about interactive tables.';\n",
              "          element.innerHTML = '';\n",
              "          dataTable['output_type'] = 'display_data';\n",
              "          await google.colab.output.renderOutput(dataTable, element);\n",
              "          const docLink = document.createElement('div');\n",
              "          docLink.innerHTML = docLinkHtml;\n",
              "          element.appendChild(docLink);\n",
              "        }\n",
              "      </script>\n",
              "    </div>\n",
              "  </div>\n",
              "  "
            ]
          },
          "metadata": {},
          "execution_count": 16
        }
      ]
    },
    {
      "cell_type": "code",
      "source": [
        "mood_data = data.loc[data['main_disorder'] == 'Mood disorder']\n",
        "mood_data.head()"
      ],
      "metadata": {
        "id": "7k-q-Nm8J7wH",
        "colab": {
          "base_uri": "https://localhost:8080/",
          "height": 300
        },
        "outputId": "4dfcfa55-6975-4933-84a9-fa9dd72384a1"
      },
      "execution_count": 18,
      "outputs": [
        {
          "output_type": "execute_result",
          "data": {
            "text/plain": [
              "    main_disorder     specific_disoder  AB.A.delta.a.FP1  AB.A.delta.b.FP2  \\\n",
              "89  Mood disorder  Depressive disorder         12.159137         13.113503   \n",
              "90  Mood disorder  Depressive disorder         12.404484          9.737819   \n",
              "91  Mood disorder  Depressive disorder         16.573145         15.586708   \n",
              "92  Mood disorder  Depressive disorder         26.650019         22.823161   \n",
              "93  Mood disorder  Depressive disorder         14.624474         14.277301   \n",
              "\n",
              "    AB.A.delta.c.F7  AB.A.delta.d.F3  AB.A.delta.e.Fz  AB.A.delta.f.F4  \\\n",
              "89         9.031007        14.879389        15.834830        19.595759   \n",
              "90        13.925651        12.325169        15.130696        10.292518   \n",
              "91        14.094928        12.660197        12.979617        10.611797   \n",
              "92        17.942133        17.148214        15.338128        14.571966   \n",
              "93        11.099375        16.047926        17.851932        17.165379   \n",
              "\n",
              "    AB.A.delta.g.F8  AB.A.delta.h.T3  ...  COH.F.gamma.o.Pz.p.P4  \\\n",
              "89        11.605911         6.084709  ...              65.408894   \n",
              "90        10.263299        11.451697  ...              84.366954   \n",
              "91         8.802664         7.509552  ...              62.681353   \n",
              "92         7.983127        28.158009  ...              86.582363   \n",
              "93        11.682990         6.193040  ...              85.309981   \n",
              "\n",
              "    COH.F.gamma.o.Pz.q.T6  COH.F.gamma.o.Pz.r.O1  COH.F.gamma.o.Pz.s.O2  \\\n",
              "89              59.590594              77.310851              75.280467   \n",
              "90              53.402639              60.535899              73.838548   \n",
              "91              20.062716              36.041763              36.436509   \n",
              "92              83.045735              85.752150              85.875624   \n",
              "93              58.218838              61.211830              65.038486   \n",
              "\n",
              "    COH.F.gamma.p.P4.q.T6  COH.F.gamma.p.P4.r.O1  COH.F.gamma.p.P4.s.O2  \\\n",
              "89              57.311188              48.015594              59.579033   \n",
              "90              72.298636              43.330485              71.298037   \n",
              "91              47.491240              20.875426              53.747615   \n",
              "92              86.286859              79.520327              84.541455   \n",
              "93              76.899037              49.849540              71.791429   \n",
              "\n",
              "    COH.F.gamma.q.T6.r.O1  COH.F.gamma.q.T6.s.O2  COH.F.gamma.r.O1.s.O2  \n",
              "89              68.503920              82.885151              86.986191  \n",
              "90              23.109295              62.098128              67.749204  \n",
              "91               8.009907              50.202188              33.647889  \n",
              "92              82.452224              86.950905              87.384296  \n",
              "93              39.910653              82.739819              62.285969  \n",
              "\n",
              "[5 rows x 1142 columns]"
            ],
            "text/html": [
              "\n",
              "  <div id=\"df-4866fa4c-4fb4-4a5c-a302-b36c23d1ec50\">\n",
              "    <div class=\"colab-df-container\">\n",
              "      <div>\n",
              "<style scoped>\n",
              "    .dataframe tbody tr th:only-of-type {\n",
              "        vertical-align: middle;\n",
              "    }\n",
              "\n",
              "    .dataframe tbody tr th {\n",
              "        vertical-align: top;\n",
              "    }\n",
              "\n",
              "    .dataframe thead th {\n",
              "        text-align: right;\n",
              "    }\n",
              "</style>\n",
              "<table border=\"1\" class=\"dataframe\">\n",
              "  <thead>\n",
              "    <tr style=\"text-align: right;\">\n",
              "      <th></th>\n",
              "      <th>main_disorder</th>\n",
              "      <th>specific_disoder</th>\n",
              "      <th>AB.A.delta.a.FP1</th>\n",
              "      <th>AB.A.delta.b.FP2</th>\n",
              "      <th>AB.A.delta.c.F7</th>\n",
              "      <th>AB.A.delta.d.F3</th>\n",
              "      <th>AB.A.delta.e.Fz</th>\n",
              "      <th>AB.A.delta.f.F4</th>\n",
              "      <th>AB.A.delta.g.F8</th>\n",
              "      <th>AB.A.delta.h.T3</th>\n",
              "      <th>...</th>\n",
              "      <th>COH.F.gamma.o.Pz.p.P4</th>\n",
              "      <th>COH.F.gamma.o.Pz.q.T6</th>\n",
              "      <th>COH.F.gamma.o.Pz.r.O1</th>\n",
              "      <th>COH.F.gamma.o.Pz.s.O2</th>\n",
              "      <th>COH.F.gamma.p.P4.q.T6</th>\n",
              "      <th>COH.F.gamma.p.P4.r.O1</th>\n",
              "      <th>COH.F.gamma.p.P4.s.O2</th>\n",
              "      <th>COH.F.gamma.q.T6.r.O1</th>\n",
              "      <th>COH.F.gamma.q.T6.s.O2</th>\n",
              "      <th>COH.F.gamma.r.O1.s.O2</th>\n",
              "    </tr>\n",
              "  </thead>\n",
              "  <tbody>\n",
              "    <tr>\n",
              "      <th>89</th>\n",
              "      <td>Mood disorder</td>\n",
              "      <td>Depressive disorder</td>\n",
              "      <td>12.159137</td>\n",
              "      <td>13.113503</td>\n",
              "      <td>9.031007</td>\n",
              "      <td>14.879389</td>\n",
              "      <td>15.834830</td>\n",
              "      <td>19.595759</td>\n",
              "      <td>11.605911</td>\n",
              "      <td>6.084709</td>\n",
              "      <td>...</td>\n",
              "      <td>65.408894</td>\n",
              "      <td>59.590594</td>\n",
              "      <td>77.310851</td>\n",
              "      <td>75.280467</td>\n",
              "      <td>57.311188</td>\n",
              "      <td>48.015594</td>\n",
              "      <td>59.579033</td>\n",
              "      <td>68.503920</td>\n",
              "      <td>82.885151</td>\n",
              "      <td>86.986191</td>\n",
              "    </tr>\n",
              "    <tr>\n",
              "      <th>90</th>\n",
              "      <td>Mood disorder</td>\n",
              "      <td>Depressive disorder</td>\n",
              "      <td>12.404484</td>\n",
              "      <td>9.737819</td>\n",
              "      <td>13.925651</td>\n",
              "      <td>12.325169</td>\n",
              "      <td>15.130696</td>\n",
              "      <td>10.292518</td>\n",
              "      <td>10.263299</td>\n",
              "      <td>11.451697</td>\n",
              "      <td>...</td>\n",
              "      <td>84.366954</td>\n",
              "      <td>53.402639</td>\n",
              "      <td>60.535899</td>\n",
              "      <td>73.838548</td>\n",
              "      <td>72.298636</td>\n",
              "      <td>43.330485</td>\n",
              "      <td>71.298037</td>\n",
              "      <td>23.109295</td>\n",
              "      <td>62.098128</td>\n",
              "      <td>67.749204</td>\n",
              "    </tr>\n",
              "    <tr>\n",
              "      <th>91</th>\n",
              "      <td>Mood disorder</td>\n",
              "      <td>Depressive disorder</td>\n",
              "      <td>16.573145</td>\n",
              "      <td>15.586708</td>\n",
              "      <td>14.094928</td>\n",
              "      <td>12.660197</td>\n",
              "      <td>12.979617</td>\n",
              "      <td>10.611797</td>\n",
              "      <td>8.802664</td>\n",
              "      <td>7.509552</td>\n",
              "      <td>...</td>\n",
              "      <td>62.681353</td>\n",
              "      <td>20.062716</td>\n",
              "      <td>36.041763</td>\n",
              "      <td>36.436509</td>\n",
              "      <td>47.491240</td>\n",
              "      <td>20.875426</td>\n",
              "      <td>53.747615</td>\n",
              "      <td>8.009907</td>\n",
              "      <td>50.202188</td>\n",
              "      <td>33.647889</td>\n",
              "    </tr>\n",
              "    <tr>\n",
              "      <th>92</th>\n",
              "      <td>Mood disorder</td>\n",
              "      <td>Depressive disorder</td>\n",
              "      <td>26.650019</td>\n",
              "      <td>22.823161</td>\n",
              "      <td>17.942133</td>\n",
              "      <td>17.148214</td>\n",
              "      <td>15.338128</td>\n",
              "      <td>14.571966</td>\n",
              "      <td>7.983127</td>\n",
              "      <td>28.158009</td>\n",
              "      <td>...</td>\n",
              "      <td>86.582363</td>\n",
              "      <td>83.045735</td>\n",
              "      <td>85.752150</td>\n",
              "      <td>85.875624</td>\n",
              "      <td>86.286859</td>\n",
              "      <td>79.520327</td>\n",
              "      <td>84.541455</td>\n",
              "      <td>82.452224</td>\n",
              "      <td>86.950905</td>\n",
              "      <td>87.384296</td>\n",
              "    </tr>\n",
              "    <tr>\n",
              "      <th>93</th>\n",
              "      <td>Mood disorder</td>\n",
              "      <td>Depressive disorder</td>\n",
              "      <td>14.624474</td>\n",
              "      <td>14.277301</td>\n",
              "      <td>11.099375</td>\n",
              "      <td>16.047926</td>\n",
              "      <td>17.851932</td>\n",
              "      <td>17.165379</td>\n",
              "      <td>11.682990</td>\n",
              "      <td>6.193040</td>\n",
              "      <td>...</td>\n",
              "      <td>85.309981</td>\n",
              "      <td>58.218838</td>\n",
              "      <td>61.211830</td>\n",
              "      <td>65.038486</td>\n",
              "      <td>76.899037</td>\n",
              "      <td>49.849540</td>\n",
              "      <td>71.791429</td>\n",
              "      <td>39.910653</td>\n",
              "      <td>82.739819</td>\n",
              "      <td>62.285969</td>\n",
              "    </tr>\n",
              "  </tbody>\n",
              "</table>\n",
              "<p>5 rows × 1142 columns</p>\n",
              "</div>\n",
              "      <button class=\"colab-df-convert\" onclick=\"convertToInteractive('df-4866fa4c-4fb4-4a5c-a302-b36c23d1ec50')\"\n",
              "              title=\"Convert this dataframe to an interactive table.\"\n",
              "              style=\"display:none;\">\n",
              "        \n",
              "  <svg xmlns=\"http://www.w3.org/2000/svg\" height=\"24px\"viewBox=\"0 0 24 24\"\n",
              "       width=\"24px\">\n",
              "    <path d=\"M0 0h24v24H0V0z\" fill=\"none\"/>\n",
              "    <path d=\"M18.56 5.44l.94 2.06.94-2.06 2.06-.94-2.06-.94-.94-2.06-.94 2.06-2.06.94zm-11 1L8.5 8.5l.94-2.06 2.06-.94-2.06-.94L8.5 2.5l-.94 2.06-2.06.94zm10 10l.94 2.06.94-2.06 2.06-.94-2.06-.94-.94-2.06-.94 2.06-2.06.94z\"/><path d=\"M17.41 7.96l-1.37-1.37c-.4-.4-.92-.59-1.43-.59-.52 0-1.04.2-1.43.59L10.3 9.45l-7.72 7.72c-.78.78-.78 2.05 0 2.83L4 21.41c.39.39.9.59 1.41.59.51 0 1.02-.2 1.41-.59l7.78-7.78 2.81-2.81c.8-.78.8-2.07 0-2.86zM5.41 20L4 18.59l7.72-7.72 1.47 1.35L5.41 20z\"/>\n",
              "  </svg>\n",
              "      </button>\n",
              "      \n",
              "  <style>\n",
              "    .colab-df-container {\n",
              "      display:flex;\n",
              "      flex-wrap:wrap;\n",
              "      gap: 12px;\n",
              "    }\n",
              "\n",
              "    .colab-df-convert {\n",
              "      background-color: #E8F0FE;\n",
              "      border: none;\n",
              "      border-radius: 50%;\n",
              "      cursor: pointer;\n",
              "      display: none;\n",
              "      fill: #1967D2;\n",
              "      height: 32px;\n",
              "      padding: 0 0 0 0;\n",
              "      width: 32px;\n",
              "    }\n",
              "\n",
              "    .colab-df-convert:hover {\n",
              "      background-color: #E2EBFA;\n",
              "      box-shadow: 0px 1px 2px rgba(60, 64, 67, 0.3), 0px 1px 3px 1px rgba(60, 64, 67, 0.15);\n",
              "      fill: #174EA6;\n",
              "    }\n",
              "\n",
              "    [theme=dark] .colab-df-convert {\n",
              "      background-color: #3B4455;\n",
              "      fill: #D2E3FC;\n",
              "    }\n",
              "\n",
              "    [theme=dark] .colab-df-convert:hover {\n",
              "      background-color: #434B5C;\n",
              "      box-shadow: 0px 1px 3px 1px rgba(0, 0, 0, 0.15);\n",
              "      filter: drop-shadow(0px 1px 2px rgba(0, 0, 0, 0.3));\n",
              "      fill: #FFFFFF;\n",
              "    }\n",
              "  </style>\n",
              "\n",
              "      <script>\n",
              "        const buttonEl =\n",
              "          document.querySelector('#df-4866fa4c-4fb4-4a5c-a302-b36c23d1ec50 button.colab-df-convert');\n",
              "        buttonEl.style.display =\n",
              "          google.colab.kernel.accessAllowed ? 'block' : 'none';\n",
              "\n",
              "        async function convertToInteractive(key) {\n",
              "          const element = document.querySelector('#df-4866fa4c-4fb4-4a5c-a302-b36c23d1ec50');\n",
              "          const dataTable =\n",
              "            await google.colab.kernel.invokeFunction('convertToInteractive',\n",
              "                                                     [key], {});\n",
              "          if (!dataTable) return;\n",
              "\n",
              "          const docLinkHtml = 'Like what you see? Visit the ' +\n",
              "            '<a target=\"_blank\" href=https://colab.research.google.com/notebooks/data_table.ipynb>data table notebook</a>'\n",
              "            + ' to learn more about interactive tables.';\n",
              "          element.innerHTML = '';\n",
              "          dataTable['output_type'] = 'display_data';\n",
              "          await google.colab.output.renderOutput(dataTable, element);\n",
              "          const docLink = document.createElement('div');\n",
              "          docLink.innerHTML = docLinkHtml;\n",
              "          element.appendChild(docLink);\n",
              "        }\n",
              "      </script>\n",
              "    </div>\n",
              "  </div>\n",
              "  "
            ]
          },
          "metadata": {},
          "execution_count": 18
        }
      ]
    },
    {
      "cell_type": "code",
      "source": [
        "#Identify how many specific disorders are under mood disorder\n",
        "specific_mood_disoders = list(mood_data.specific_disoder.unique())\n",
        "specific_mood_disoders"
      ],
      "metadata": {
        "colab": {
          "base_uri": "https://localhost:8080/"
        },
        "id": "VBndTE5HNVPJ",
        "outputId": "0c8e804b-19d9-4942-c770-0f7009dbb12c"
      },
      "execution_count": 19,
      "outputs": [
        {
          "output_type": "execute_result",
          "data": {
            "text/plain": [
              "['Depressive disorder', 'Bipolar disorder']"
            ]
          },
          "metadata": {},
          "execution_count": 19
        }
      ]
    },
    {
      "cell_type": "code",
      "source": [
        "mood_data.shape"
      ],
      "metadata": {
        "colab": {
          "base_uri": "https://localhost:8080/"
        },
        "id": "0TSJBFi9SeG0",
        "outputId": "60ea1ab1-af30-4187-b6a2-67657f047de5"
      },
      "execution_count": 20,
      "outputs": [
        {
          "output_type": "execute_result",
          "data": {
            "text/plain": [
              "(266, 1142)"
            ]
          },
          "metadata": {},
          "execution_count": 20
        }
      ]
    },
    {
      "cell_type": "markdown",
      "source": [
        "### Encode the dataset"
      ],
      "metadata": {
        "id": "VFkIjjB5MgBW"
      }
    },
    {
      "cell_type": "code",
      "source": [
        "from sklearn import preprocessing"
      ],
      "metadata": {
        "id": "Nf71LD4yNEJG"
      },
      "execution_count": 27,
      "outputs": []
    },
    {
      "cell_type": "code",
      "source": [
        "le = preprocessing.LabelEncoder()\n",
        "specific_disorder_encoded = le.fit_transform(mood_data['specific_disoder'])"
      ],
      "metadata": {
        "id": "9t9Tm2rwL_gP"
      },
      "execution_count": 24,
      "outputs": []
    },
    {
      "cell_type": "code",
      "source": [
        "specific_disorder_encoded"
      ],
      "metadata": {
        "colab": {
          "base_uri": "https://localhost:8080/"
        },
        "id": "N9DqovE2Ml4s",
        "outputId": "8d26002a-8dd9-47d4-cdd8-59657c73e006"
      },
      "execution_count": 25,
      "outputs": [
        {
          "output_type": "execute_result",
          "data": {
            "text/plain": [
              "array([1, 1, 1, 1, 1, 1, 1, 1, 1, 1, 1, 1, 1, 1, 1, 1, 1, 1, 1, 1, 1, 1,\n",
              "       1, 1, 1, 1, 1, 1, 1, 1, 1, 1, 0, 1, 1, 1, 1, 0, 1, 0, 1, 0, 0, 1,\n",
              "       1, 1, 1, 1, 1, 1, 0, 0, 1, 1, 1, 1, 1, 1, 1, 1, 1, 1, 0, 0, 1, 1,\n",
              "       1, 1, 1, 1, 1, 0, 1, 1, 0, 1, 1, 1, 1, 1, 1, 1, 0, 1, 0, 0, 1, 0,\n",
              "       1, 1, 1, 0, 0, 0, 1, 0, 1, 0, 1, 1, 0, 0, 1, 1, 1, 1, 0, 1, 0, 1,\n",
              "       0, 1, 0, 1, 1, 1, 1, 0, 0, 0, 0, 0, 1, 1, 1, 1, 1, 0, 1, 1, 1, 0,\n",
              "       1, 1, 1, 0, 1, 1, 1, 1, 0, 1, 1, 1, 1, 1, 1, 0, 1, 1, 1, 0, 0, 1,\n",
              "       1, 0, 0, 1, 0, 1, 0, 0, 1, 0, 1, 1, 1, 1, 1, 0, 1, 1, 1, 1, 1, 1,\n",
              "       1, 1, 1, 0, 1, 0, 1, 1, 0, 1, 1, 0, 0, 0, 1, 1, 1, 1, 1, 0, 1, 1,\n",
              "       1, 1, 1, 1, 1, 1, 0, 1, 1, 0, 1, 1, 1, 0, 1, 1, 1, 1, 1, 1, 1, 1,\n",
              "       1, 1, 0, 1, 0, 1, 1, 1, 0, 1, 1, 1, 1, 0, 1, 0, 1, 1, 1, 0, 0, 1,\n",
              "       1, 1, 1, 1, 0, 1, 1, 0, 1, 0, 1, 1, 1, 0, 1, 1, 1, 1, 1, 1, 0, 1,\n",
              "       1, 1])"
            ]
          },
          "metadata": {},
          "execution_count": 25
        }
      ]
    },
    {
      "cell_type": "code",
      "source": [
        "mood_data.head()"
      ],
      "metadata": {
        "colab": {
          "base_uri": "https://localhost:8080/",
          "height": 300
        },
        "id": "uFMgYbNGOwRh",
        "outputId": "b3b91d1d-4003-4769-bc61-f5bc47e5fd07"
      },
      "execution_count": 29,
      "outputs": [
        {
          "output_type": "execute_result",
          "data": {
            "text/plain": [
              "    main_disorder     specific_disoder  AB.A.delta.a.FP1  AB.A.delta.b.FP2  \\\n",
              "89  Mood disorder  Depressive disorder         12.159137         13.113503   \n",
              "90  Mood disorder  Depressive disorder         12.404484          9.737819   \n",
              "91  Mood disorder  Depressive disorder         16.573145         15.586708   \n",
              "92  Mood disorder  Depressive disorder         26.650019         22.823161   \n",
              "93  Mood disorder  Depressive disorder         14.624474         14.277301   \n",
              "\n",
              "    AB.A.delta.c.F7  AB.A.delta.d.F3  AB.A.delta.e.Fz  AB.A.delta.f.F4  \\\n",
              "89         9.031007        14.879389        15.834830        19.595759   \n",
              "90        13.925651        12.325169        15.130696        10.292518   \n",
              "91        14.094928        12.660197        12.979617        10.611797   \n",
              "92        17.942133        17.148214        15.338128        14.571966   \n",
              "93        11.099375        16.047926        17.851932        17.165379   \n",
              "\n",
              "    AB.A.delta.g.F8  AB.A.delta.h.T3  ...  COH.F.gamma.o.Pz.p.P4  \\\n",
              "89        11.605911         6.084709  ...              65.408894   \n",
              "90        10.263299        11.451697  ...              84.366954   \n",
              "91         8.802664         7.509552  ...              62.681353   \n",
              "92         7.983127        28.158009  ...              86.582363   \n",
              "93        11.682990         6.193040  ...              85.309981   \n",
              "\n",
              "    COH.F.gamma.o.Pz.q.T6  COH.F.gamma.o.Pz.r.O1  COH.F.gamma.o.Pz.s.O2  \\\n",
              "89              59.590594              77.310851              75.280467   \n",
              "90              53.402639              60.535899              73.838548   \n",
              "91              20.062716              36.041763              36.436509   \n",
              "92              83.045735              85.752150              85.875624   \n",
              "93              58.218838              61.211830              65.038486   \n",
              "\n",
              "    COH.F.gamma.p.P4.q.T6  COH.F.gamma.p.P4.r.O1  COH.F.gamma.p.P4.s.O2  \\\n",
              "89              57.311188              48.015594              59.579033   \n",
              "90              72.298636              43.330485              71.298037   \n",
              "91              47.491240              20.875426              53.747615   \n",
              "92              86.286859              79.520327              84.541455   \n",
              "93              76.899037              49.849540              71.791429   \n",
              "\n",
              "    COH.F.gamma.q.T6.r.O1  COH.F.gamma.q.T6.s.O2  COH.F.gamma.r.O1.s.O2  \n",
              "89              68.503920              82.885151              86.986191  \n",
              "90              23.109295              62.098128              67.749204  \n",
              "91               8.009907              50.202188              33.647889  \n",
              "92              82.452224              86.950905              87.384296  \n",
              "93              39.910653              82.739819              62.285969  \n",
              "\n",
              "[5 rows x 1142 columns]"
            ],
            "text/html": [
              "\n",
              "  <div id=\"df-2293c742-3d88-4690-9b97-746ba5c5134b\">\n",
              "    <div class=\"colab-df-container\">\n",
              "      <div>\n",
              "<style scoped>\n",
              "    .dataframe tbody tr th:only-of-type {\n",
              "        vertical-align: middle;\n",
              "    }\n",
              "\n",
              "    .dataframe tbody tr th {\n",
              "        vertical-align: top;\n",
              "    }\n",
              "\n",
              "    .dataframe thead th {\n",
              "        text-align: right;\n",
              "    }\n",
              "</style>\n",
              "<table border=\"1\" class=\"dataframe\">\n",
              "  <thead>\n",
              "    <tr style=\"text-align: right;\">\n",
              "      <th></th>\n",
              "      <th>main_disorder</th>\n",
              "      <th>specific_disoder</th>\n",
              "      <th>AB.A.delta.a.FP1</th>\n",
              "      <th>AB.A.delta.b.FP2</th>\n",
              "      <th>AB.A.delta.c.F7</th>\n",
              "      <th>AB.A.delta.d.F3</th>\n",
              "      <th>AB.A.delta.e.Fz</th>\n",
              "      <th>AB.A.delta.f.F4</th>\n",
              "      <th>AB.A.delta.g.F8</th>\n",
              "      <th>AB.A.delta.h.T3</th>\n",
              "      <th>...</th>\n",
              "      <th>COH.F.gamma.o.Pz.p.P4</th>\n",
              "      <th>COH.F.gamma.o.Pz.q.T6</th>\n",
              "      <th>COH.F.gamma.o.Pz.r.O1</th>\n",
              "      <th>COH.F.gamma.o.Pz.s.O2</th>\n",
              "      <th>COH.F.gamma.p.P4.q.T6</th>\n",
              "      <th>COH.F.gamma.p.P4.r.O1</th>\n",
              "      <th>COH.F.gamma.p.P4.s.O2</th>\n",
              "      <th>COH.F.gamma.q.T6.r.O1</th>\n",
              "      <th>COH.F.gamma.q.T6.s.O2</th>\n",
              "      <th>COH.F.gamma.r.O1.s.O2</th>\n",
              "    </tr>\n",
              "  </thead>\n",
              "  <tbody>\n",
              "    <tr>\n",
              "      <th>89</th>\n",
              "      <td>Mood disorder</td>\n",
              "      <td>Depressive disorder</td>\n",
              "      <td>12.159137</td>\n",
              "      <td>13.113503</td>\n",
              "      <td>9.031007</td>\n",
              "      <td>14.879389</td>\n",
              "      <td>15.834830</td>\n",
              "      <td>19.595759</td>\n",
              "      <td>11.605911</td>\n",
              "      <td>6.084709</td>\n",
              "      <td>...</td>\n",
              "      <td>65.408894</td>\n",
              "      <td>59.590594</td>\n",
              "      <td>77.310851</td>\n",
              "      <td>75.280467</td>\n",
              "      <td>57.311188</td>\n",
              "      <td>48.015594</td>\n",
              "      <td>59.579033</td>\n",
              "      <td>68.503920</td>\n",
              "      <td>82.885151</td>\n",
              "      <td>86.986191</td>\n",
              "    </tr>\n",
              "    <tr>\n",
              "      <th>90</th>\n",
              "      <td>Mood disorder</td>\n",
              "      <td>Depressive disorder</td>\n",
              "      <td>12.404484</td>\n",
              "      <td>9.737819</td>\n",
              "      <td>13.925651</td>\n",
              "      <td>12.325169</td>\n",
              "      <td>15.130696</td>\n",
              "      <td>10.292518</td>\n",
              "      <td>10.263299</td>\n",
              "      <td>11.451697</td>\n",
              "      <td>...</td>\n",
              "      <td>84.366954</td>\n",
              "      <td>53.402639</td>\n",
              "      <td>60.535899</td>\n",
              "      <td>73.838548</td>\n",
              "      <td>72.298636</td>\n",
              "      <td>43.330485</td>\n",
              "      <td>71.298037</td>\n",
              "      <td>23.109295</td>\n",
              "      <td>62.098128</td>\n",
              "      <td>67.749204</td>\n",
              "    </tr>\n",
              "    <tr>\n",
              "      <th>91</th>\n",
              "      <td>Mood disorder</td>\n",
              "      <td>Depressive disorder</td>\n",
              "      <td>16.573145</td>\n",
              "      <td>15.586708</td>\n",
              "      <td>14.094928</td>\n",
              "      <td>12.660197</td>\n",
              "      <td>12.979617</td>\n",
              "      <td>10.611797</td>\n",
              "      <td>8.802664</td>\n",
              "      <td>7.509552</td>\n",
              "      <td>...</td>\n",
              "      <td>62.681353</td>\n",
              "      <td>20.062716</td>\n",
              "      <td>36.041763</td>\n",
              "      <td>36.436509</td>\n",
              "      <td>47.491240</td>\n",
              "      <td>20.875426</td>\n",
              "      <td>53.747615</td>\n",
              "      <td>8.009907</td>\n",
              "      <td>50.202188</td>\n",
              "      <td>33.647889</td>\n",
              "    </tr>\n",
              "    <tr>\n",
              "      <th>92</th>\n",
              "      <td>Mood disorder</td>\n",
              "      <td>Depressive disorder</td>\n",
              "      <td>26.650019</td>\n",
              "      <td>22.823161</td>\n",
              "      <td>17.942133</td>\n",
              "      <td>17.148214</td>\n",
              "      <td>15.338128</td>\n",
              "      <td>14.571966</td>\n",
              "      <td>7.983127</td>\n",
              "      <td>28.158009</td>\n",
              "      <td>...</td>\n",
              "      <td>86.582363</td>\n",
              "      <td>83.045735</td>\n",
              "      <td>85.752150</td>\n",
              "      <td>85.875624</td>\n",
              "      <td>86.286859</td>\n",
              "      <td>79.520327</td>\n",
              "      <td>84.541455</td>\n",
              "      <td>82.452224</td>\n",
              "      <td>86.950905</td>\n",
              "      <td>87.384296</td>\n",
              "    </tr>\n",
              "    <tr>\n",
              "      <th>93</th>\n",
              "      <td>Mood disorder</td>\n",
              "      <td>Depressive disorder</td>\n",
              "      <td>14.624474</td>\n",
              "      <td>14.277301</td>\n",
              "      <td>11.099375</td>\n",
              "      <td>16.047926</td>\n",
              "      <td>17.851932</td>\n",
              "      <td>17.165379</td>\n",
              "      <td>11.682990</td>\n",
              "      <td>6.193040</td>\n",
              "      <td>...</td>\n",
              "      <td>85.309981</td>\n",
              "      <td>58.218838</td>\n",
              "      <td>61.211830</td>\n",
              "      <td>65.038486</td>\n",
              "      <td>76.899037</td>\n",
              "      <td>49.849540</td>\n",
              "      <td>71.791429</td>\n",
              "      <td>39.910653</td>\n",
              "      <td>82.739819</td>\n",
              "      <td>62.285969</td>\n",
              "    </tr>\n",
              "  </tbody>\n",
              "</table>\n",
              "<p>5 rows × 1142 columns</p>\n",
              "</div>\n",
              "      <button class=\"colab-df-convert\" onclick=\"convertToInteractive('df-2293c742-3d88-4690-9b97-746ba5c5134b')\"\n",
              "              title=\"Convert this dataframe to an interactive table.\"\n",
              "              style=\"display:none;\">\n",
              "        \n",
              "  <svg xmlns=\"http://www.w3.org/2000/svg\" height=\"24px\"viewBox=\"0 0 24 24\"\n",
              "       width=\"24px\">\n",
              "    <path d=\"M0 0h24v24H0V0z\" fill=\"none\"/>\n",
              "    <path d=\"M18.56 5.44l.94 2.06.94-2.06 2.06-.94-2.06-.94-.94-2.06-.94 2.06-2.06.94zm-11 1L8.5 8.5l.94-2.06 2.06-.94-2.06-.94L8.5 2.5l-.94 2.06-2.06.94zm10 10l.94 2.06.94-2.06 2.06-.94-2.06-.94-.94-2.06-.94 2.06-2.06.94z\"/><path d=\"M17.41 7.96l-1.37-1.37c-.4-.4-.92-.59-1.43-.59-.52 0-1.04.2-1.43.59L10.3 9.45l-7.72 7.72c-.78.78-.78 2.05 0 2.83L4 21.41c.39.39.9.59 1.41.59.51 0 1.02-.2 1.41-.59l7.78-7.78 2.81-2.81c.8-.78.8-2.07 0-2.86zM5.41 20L4 18.59l7.72-7.72 1.47 1.35L5.41 20z\"/>\n",
              "  </svg>\n",
              "      </button>\n",
              "      \n",
              "  <style>\n",
              "    .colab-df-container {\n",
              "      display:flex;\n",
              "      flex-wrap:wrap;\n",
              "      gap: 12px;\n",
              "    }\n",
              "\n",
              "    .colab-df-convert {\n",
              "      background-color: #E8F0FE;\n",
              "      border: none;\n",
              "      border-radius: 50%;\n",
              "      cursor: pointer;\n",
              "      display: none;\n",
              "      fill: #1967D2;\n",
              "      height: 32px;\n",
              "      padding: 0 0 0 0;\n",
              "      width: 32px;\n",
              "    }\n",
              "\n",
              "    .colab-df-convert:hover {\n",
              "      background-color: #E2EBFA;\n",
              "      box-shadow: 0px 1px 2px rgba(60, 64, 67, 0.3), 0px 1px 3px 1px rgba(60, 64, 67, 0.15);\n",
              "      fill: #174EA6;\n",
              "    }\n",
              "\n",
              "    [theme=dark] .colab-df-convert {\n",
              "      background-color: #3B4455;\n",
              "      fill: #D2E3FC;\n",
              "    }\n",
              "\n",
              "    [theme=dark] .colab-df-convert:hover {\n",
              "      background-color: #434B5C;\n",
              "      box-shadow: 0px 1px 3px 1px rgba(0, 0, 0, 0.15);\n",
              "      filter: drop-shadow(0px 1px 2px rgba(0, 0, 0, 0.3));\n",
              "      fill: #FFFFFF;\n",
              "    }\n",
              "  </style>\n",
              "\n",
              "      <script>\n",
              "        const buttonEl =\n",
              "          document.querySelector('#df-2293c742-3d88-4690-9b97-746ba5c5134b button.colab-df-convert');\n",
              "        buttonEl.style.display =\n",
              "          google.colab.kernel.accessAllowed ? 'block' : 'none';\n",
              "\n",
              "        async function convertToInteractive(key) {\n",
              "          const element = document.querySelector('#df-2293c742-3d88-4690-9b97-746ba5c5134b');\n",
              "          const dataTable =\n",
              "            await google.colab.kernel.invokeFunction('convertToInteractive',\n",
              "                                                     [key], {});\n",
              "          if (!dataTable) return;\n",
              "\n",
              "          const docLinkHtml = 'Like what you see? Visit the ' +\n",
              "            '<a target=\"_blank\" href=https://colab.research.google.com/notebooks/data_table.ipynb>data table notebook</a>'\n",
              "            + ' to learn more about interactive tables.';\n",
              "          element.innerHTML = '';\n",
              "          dataTable['output_type'] = 'display_data';\n",
              "          await google.colab.output.renderOutput(dataTable, element);\n",
              "          const docLink = document.createElement('div');\n",
              "          docLink.innerHTML = docLinkHtml;\n",
              "          element.appendChild(docLink);\n",
              "        }\n",
              "      </script>\n",
              "    </div>\n",
              "  </div>\n",
              "  "
            ]
          },
          "metadata": {},
          "execution_count": 29
        }
      ]
    },
    {
      "cell_type": "markdown",
      "source": [
        "### Standardize the dataset"
      ],
      "metadata": {
        "id": "-Jo0AbOfMjaQ"
      }
    },
    {
      "cell_type": "code",
      "source": [
        "non_features = ['main_disorder','specific_disoder']\n",
        "mood_data.drop(non_features,axis=1,inplace= True)"
      ],
      "metadata": {
        "id": "nz2BAWZZMsD6"
      },
      "execution_count": null,
      "outputs": []
    },
    {
      "cell_type": "code",
      "source": [
        "features = mood_data.to_numpy()"
      ],
      "metadata": {
        "id": "21BZljsuPrgZ"
      },
      "execution_count": 35,
      "outputs": []
    },
    {
      "cell_type": "code",
      "source": [
        "#Specifying the target\n",
        "y = specific_disorder_encoded\n",
        "#Specify the features\n",
        "X = preprocessing.StandardScaler().fit_transform(features)"
      ],
      "metadata": {
        "id": "y1yFvKV2KXtU"
      },
      "execution_count": 37,
      "outputs": []
    },
    {
      "cell_type": "markdown",
      "source": [
        "## Classification"
      ],
      "metadata": {
        "id": "p23ZAuhvKSkd"
      }
    },
    {
      "cell_type": "markdown",
      "source": [
        "### Splitting the data"
      ],
      "metadata": {
        "id": "4h-n8PGuQy8M"
      }
    },
    {
      "cell_type": "code",
      "source": [
        "from sklearn.model_selection import train_test_split\n",
        "\n",
        "X_train, X_test, y_train, y_test = train_test_split(X,y, test_size = 0.3)"
      ],
      "metadata": {
        "id": "F-AH4hdgQv38"
      },
      "execution_count": 39,
      "outputs": []
    },
    {
      "cell_type": "markdown",
      "source": [
        "### Building the KNN Classifier"
      ],
      "metadata": {
        "id": "XRE00K3cKYd6"
      }
    },
    {
      "cell_type": "code",
      "source": [
        "from sklearn.neighbors import KNeighborsClassifier"
      ],
      "metadata": {
        "id": "X_vzaDI1M9z0"
      },
      "execution_count": 26,
      "outputs": []
    },
    {
      "cell_type": "code",
      "source": [
        "knn_model = KNeighborsClassifier(n_neighbors = 7)"
      ],
      "metadata": {
        "id": "dxGB1_GXNHGO"
      },
      "execution_count": 50,
      "outputs": []
    },
    {
      "cell_type": "code",
      "source": [
        "knn_model.fit(X_train,y_train)"
      ],
      "metadata": {
        "colab": {
          "base_uri": "https://localhost:8080/"
        },
        "id": "peKAZaZZLdMX",
        "outputId": "c9fd86a6-3e03-42a9-b974-dfbf257fe2cd"
      },
      "execution_count": 51,
      "outputs": [
        {
          "output_type": "execute_result",
          "data": {
            "text/plain": [
              "KNeighborsClassifier(n_neighbors=7)"
            ]
          },
          "metadata": {},
          "execution_count": 51
        }
      ]
    },
    {
      "cell_type": "code",
      "source": [
        "y_pred = knn_model.predict(X_test)"
      ],
      "metadata": {
        "id": "J6CJR3BIQdzw"
      },
      "execution_count": 52,
      "outputs": []
    },
    {
      "cell_type": "markdown",
      "source": [
        "## Model Evaluation"
      ],
      "metadata": {
        "id": "sck0qFXQRxd6"
      }
    },
    {
      "cell_type": "code",
      "source": [
        "from sklearn import metrics"
      ],
      "metadata": {
        "id": "_Q6f51AdRzy0"
      },
      "execution_count": 43,
      "outputs": []
    },
    {
      "cell_type": "code",
      "source": [
        "print(\"Accuracy is\",metrics.accuracy_score(y_test,y_pred),\" when k = 3\")"
      ],
      "metadata": {
        "colab": {
          "base_uri": "https://localhost:8080/"
        },
        "id": "kTQMAaCYR4Jt",
        "outputId": "66096d22-d843-4bf7-da51-a6e8144fb4d1"
      },
      "execution_count": 45,
      "outputs": [
        {
          "output_type": "stream",
          "name": "stdout",
          "text": [
            "Accuracy is 0.6  when k = 3\n"
          ]
        }
      ]
    },
    {
      "cell_type": "code",
      "source": [
        "print(\"Accuracy is\",metrics.accuracy_score(y_test,y_pred),\" when k = 5\")"
      ],
      "metadata": {
        "colab": {
          "base_uri": "https://localhost:8080/"
        },
        "id": "F8u4PRY5SVxi",
        "outputId": "93b2f6e7-6b86-4d6b-88f6-32405442ac9f"
      },
      "execution_count": 49,
      "outputs": [
        {
          "output_type": "stream",
          "name": "stdout",
          "text": [
            "Accuracy is 0.7375  when k = 5\n"
          ]
        }
      ]
    },
    {
      "cell_type": "code",
      "source": [
        "print(\"Accuracy is\",metrics.accuracy_score(y_test,y_pred),\" when k = 7\")"
      ],
      "metadata": {
        "colab": {
          "base_uri": "https://localhost:8080/"
        },
        "id": "arIC9AIbSaNR",
        "outputId": "f9b3c56b-048d-4e97-beb2-42be44fb6696"
      },
      "execution_count": 53,
      "outputs": [
        {
          "output_type": "stream",
          "name": "stdout",
          "text": [
            "Accuracy is 0.7625  when k = 7\n"
          ]
        }
      ]
    },
    {
      "cell_type": "code",
      "source": [
        "from sklearn.metrics import confusion_matrix,classification_report"
      ],
      "metadata": {
        "id": "c0EXVq_KVhtp"
      },
      "execution_count": 55,
      "outputs": []
    },
    {
      "cell_type": "code",
      "source": [
        "print(confusion_matrix(y_test,y_pred))"
      ],
      "metadata": {
        "colab": {
          "base_uri": "https://localhost:8080/"
        },
        "id": "IDPoIYmeVqSx",
        "outputId": "37b06bf7-fdf4-48e5-a854-781f6e7b640f"
      },
      "execution_count": 56,
      "outputs": [
        {
          "output_type": "stream",
          "name": "stdout",
          "text": [
            "[[ 3 10]\n",
            " [ 9 58]]\n"
          ]
        }
      ]
    },
    {
      "cell_type": "code",
      "source": [
        "print(classification_report(y_test,y_pred))"
      ],
      "metadata": {
        "colab": {
          "base_uri": "https://localhost:8080/"
        },
        "id": "-DpNAFapV-_Y",
        "outputId": "e0aa01f9-aa92-493a-ae4f-5961d8808b28"
      },
      "execution_count": 57,
      "outputs": [
        {
          "output_type": "stream",
          "name": "stdout",
          "text": [
            "              precision    recall  f1-score   support\n",
            "\n",
            "           0       0.25      0.23      0.24        13\n",
            "           1       0.85      0.87      0.86        67\n",
            "\n",
            "    accuracy                           0.76        80\n",
            "   macro avg       0.55      0.55      0.55        80\n",
            "weighted avg       0.75      0.76      0.76        80\n",
            "\n"
          ]
        }
      ]
    },
    {
      "cell_type": "markdown",
      "source": [
        "## Feature Extraction and Normalisation\n",
        "\n",
        "To increase model accuracy, feature extraction is performed\n"
      ],
      "metadata": {
        "id": "QiN-x1qbRS07"
      }
    },
    {
      "cell_type": "markdown",
      "source": [
        "Independent Component Analysis (ICA)"
      ],
      "metadata": {
        "id": "Ch-7Q0mQYSkD"
      }
    },
    {
      "cell_type": "code",
      "source": [
        "#FE using ICA\n",
        "from sklearn.decomposition import FastICA\n",
        "\n",
        "ica = FastICA(n_components=3)\n",
        "X_ica = ica.fit_transform(X)"
      ],
      "metadata": {
        "id": "Z0nEGqF7OGVS"
      },
      "execution_count": 84,
      "outputs": []
    },
    {
      "cell_type": "code",
      "source": [
        "knn_model.fit(X_ica,y)"
      ],
      "metadata": {
        "colab": {
          "base_uri": "https://localhost:8080/"
        },
        "id": "NIQK5IaWWyZI",
        "outputId": "9c99d8bf-a46f-4c36-d10f-5193985d6ab0"
      },
      "execution_count": 85,
      "outputs": [
        {
          "output_type": "execute_result",
          "data": {
            "text/plain": [
              "KNeighborsClassifier(n_neighbors=7)"
            ]
          },
          "metadata": {},
          "execution_count": 85
        }
      ]
    },
    {
      "cell_type": "code",
      "source": [
        "y_pred_ica = knn_model.predict(X_ica)"
      ],
      "metadata": {
        "id": "3BQ8cLK5ZE-5"
      },
      "execution_count": 86,
      "outputs": []
    },
    {
      "cell_type": "code",
      "source": [
        "print(\"Accuracy is\",metrics.accuracy_score(y,y_pred_ica),\" when ICA is used\")"
      ],
      "metadata": {
        "colab": {
          "base_uri": "https://localhost:8080/"
        },
        "id": "9x-auw4lY65V",
        "outputId": "26351583-1311-44fd-c2fa-6dc0199266a3"
      },
      "execution_count": 87,
      "outputs": [
        {
          "output_type": "stream",
          "name": "stdout",
          "text": [
            "Accuracy is 0.7518796992481203  when ICA is used\n"
          ]
        }
      ]
    },
    {
      "cell_type": "code",
      "source": [
        "print(classification_report(y,y_pred_ica))"
      ],
      "metadata": {
        "colab": {
          "base_uri": "https://localhost:8080/"
        },
        "id": "LhPDHlpLYvaW",
        "outputId": "bc3a8dc6-97d4-45fc-f184-09d2597aa66c"
      },
      "execution_count": 88,
      "outputs": [
        {
          "output_type": "stream",
          "name": "stdout",
          "text": [
            "              precision    recall  f1-score   support\n",
            "\n",
            "           0       0.52      0.18      0.27        67\n",
            "           1       0.77      0.94      0.85       199\n",
            "\n",
            "    accuracy                           0.75       266\n",
            "   macro avg       0.65      0.56      0.56       266\n",
            "weighted avg       0.71      0.75      0.70       266\n",
            "\n"
          ]
        }
      ]
    },
    {
      "cell_type": "code",
      "source": [],
      "metadata": {
        "id": "jKpP66YzM0E-"
      },
      "execution_count": null,
      "outputs": []
    },
    {
      "cell_type": "markdown",
      "source": [
        "Principle Component Analysis"
      ],
      "metadata": {
        "id": "LnegiFaGbZJP"
      }
    },
    {
      "cell_type": "code",
      "source": [
        "#FE using PCA\n",
        "from sklearn.decomposition import PCA\n",
        "\n",
        "pca = PCA(n_components = 2)\n",
        "X_pca = pca.fit_transform(X)"
      ],
      "metadata": {
        "id": "9wHTar_ybfNM"
      },
      "execution_count": 101,
      "outputs": []
    },
    {
      "cell_type": "code",
      "source": [
        "X_pca.shape"
      ],
      "metadata": {
        "colab": {
          "base_uri": "https://localhost:8080/"
        },
        "id": "yfMmmvYTf85X",
        "outputId": "884fd558-0148-47ac-cbcc-32684b94bec8"
      },
      "execution_count": 102,
      "outputs": [
        {
          "output_type": "execute_result",
          "data": {
            "text/plain": [
              "(266, 2)"
            ]
          },
          "metadata": {},
          "execution_count": 102
        }
      ]
    },
    {
      "cell_type": "code",
      "source": [
        "knn_model.fit(X_pca,y)"
      ],
      "metadata": {
        "colab": {
          "base_uri": "https://localhost:8080/"
        },
        "id": "FGqCk-oqjSWx",
        "outputId": "32816ee5-2dda-45e3-ae57-6e5b9c6b7d42"
      },
      "execution_count": 112,
      "outputs": [
        {
          "output_type": "execute_result",
          "data": {
            "text/plain": [
              "KNeighborsClassifier(n_neighbors=7)"
            ]
          },
          "metadata": {},
          "execution_count": 112
        }
      ]
    },
    {
      "cell_type": "code",
      "source": [
        "y_pred_pca = knn_model.predict(X_pca)"
      ],
      "metadata": {
        "id": "H7FZ6gAnjEPB"
      },
      "execution_count": 113,
      "outputs": []
    },
    {
      "cell_type": "code",
      "source": [
        "print(\"Accuracy is\",metrics.accuracy_score(y,y_pred_pca),\" when PCA is used\")"
      ],
      "metadata": {
        "colab": {
          "base_uri": "https://localhost:8080/"
        },
        "id": "1cqpIOO1jefi",
        "outputId": "0f537e76-cb57-456f-be6a-27e09c60fdeb"
      },
      "execution_count": 114,
      "outputs": [
        {
          "output_type": "stream",
          "name": "stdout",
          "text": [
            "Accuracy is 0.7819548872180451  when PCA is used\n"
          ]
        }
      ]
    },
    {
      "cell_type": "code",
      "source": [
        "target_df = pd.DataFrame(specific_disorder_encoded,columns =['real_y'])\n"
      ],
      "metadata": {
        "id": "lg_cfslpdFok"
      },
      "execution_count": 103,
      "outputs": []
    },
    {
      "cell_type": "code",
      "source": [
        "PCA_df = pd.DataFrame(data = X_pca, columns = ['PC1','PC2'])\n"
      ],
      "metadata": {
        "id": "TjydDtHVb0h9"
      },
      "execution_count": 104,
      "outputs": []
    },
    {
      "cell_type": "code",
      "source": [
        "PCA_df = pd.concat([PCA_df,target_df['real_y']],axis =1)\n",
        "PCA_df.head()"
      ],
      "metadata": {
        "colab": {
          "base_uri": "https://localhost:8080/",
          "height": 206
        },
        "id": "LJfkT2HEfaPl",
        "outputId": "1d89586e-b9a0-42dc-9efb-92fb25ec4671"
      },
      "execution_count": 105,
      "outputs": [
        {
          "output_type": "execute_result",
          "data": {
            "text/plain": [
              "         PC1        PC2  real_y\n",
              "0  -9.721856  12.501211       1\n",
              "1 -17.235572   7.185591       1\n",
              "2 -22.115862  -8.824621       1\n",
              "3  29.998343   6.208243       1\n",
              "4  10.752183 -16.715994       1"
            ],
            "text/html": [
              "\n",
              "  <div id=\"df-90d667a5-c8eb-44ed-88f2-1ed044042f17\">\n",
              "    <div class=\"colab-df-container\">\n",
              "      <div>\n",
              "<style scoped>\n",
              "    .dataframe tbody tr th:only-of-type {\n",
              "        vertical-align: middle;\n",
              "    }\n",
              "\n",
              "    .dataframe tbody tr th {\n",
              "        vertical-align: top;\n",
              "    }\n",
              "\n",
              "    .dataframe thead th {\n",
              "        text-align: right;\n",
              "    }\n",
              "</style>\n",
              "<table border=\"1\" class=\"dataframe\">\n",
              "  <thead>\n",
              "    <tr style=\"text-align: right;\">\n",
              "      <th></th>\n",
              "      <th>PC1</th>\n",
              "      <th>PC2</th>\n",
              "      <th>real_y</th>\n",
              "    </tr>\n",
              "  </thead>\n",
              "  <tbody>\n",
              "    <tr>\n",
              "      <th>0</th>\n",
              "      <td>-9.721856</td>\n",
              "      <td>12.501211</td>\n",
              "      <td>1</td>\n",
              "    </tr>\n",
              "    <tr>\n",
              "      <th>1</th>\n",
              "      <td>-17.235572</td>\n",
              "      <td>7.185591</td>\n",
              "      <td>1</td>\n",
              "    </tr>\n",
              "    <tr>\n",
              "      <th>2</th>\n",
              "      <td>-22.115862</td>\n",
              "      <td>-8.824621</td>\n",
              "      <td>1</td>\n",
              "    </tr>\n",
              "    <tr>\n",
              "      <th>3</th>\n",
              "      <td>29.998343</td>\n",
              "      <td>6.208243</td>\n",
              "      <td>1</td>\n",
              "    </tr>\n",
              "    <tr>\n",
              "      <th>4</th>\n",
              "      <td>10.752183</td>\n",
              "      <td>-16.715994</td>\n",
              "      <td>1</td>\n",
              "    </tr>\n",
              "  </tbody>\n",
              "</table>\n",
              "</div>\n",
              "      <button class=\"colab-df-convert\" onclick=\"convertToInteractive('df-90d667a5-c8eb-44ed-88f2-1ed044042f17')\"\n",
              "              title=\"Convert this dataframe to an interactive table.\"\n",
              "              style=\"display:none;\">\n",
              "        \n",
              "  <svg xmlns=\"http://www.w3.org/2000/svg\" height=\"24px\"viewBox=\"0 0 24 24\"\n",
              "       width=\"24px\">\n",
              "    <path d=\"M0 0h24v24H0V0z\" fill=\"none\"/>\n",
              "    <path d=\"M18.56 5.44l.94 2.06.94-2.06 2.06-.94-2.06-.94-.94-2.06-.94 2.06-2.06.94zm-11 1L8.5 8.5l.94-2.06 2.06-.94-2.06-.94L8.5 2.5l-.94 2.06-2.06.94zm10 10l.94 2.06.94-2.06 2.06-.94-2.06-.94-.94-2.06-.94 2.06-2.06.94z\"/><path d=\"M17.41 7.96l-1.37-1.37c-.4-.4-.92-.59-1.43-.59-.52 0-1.04.2-1.43.59L10.3 9.45l-7.72 7.72c-.78.78-.78 2.05 0 2.83L4 21.41c.39.39.9.59 1.41.59.51 0 1.02-.2 1.41-.59l7.78-7.78 2.81-2.81c.8-.78.8-2.07 0-2.86zM5.41 20L4 18.59l7.72-7.72 1.47 1.35L5.41 20z\"/>\n",
              "  </svg>\n",
              "      </button>\n",
              "      \n",
              "  <style>\n",
              "    .colab-df-container {\n",
              "      display:flex;\n",
              "      flex-wrap:wrap;\n",
              "      gap: 12px;\n",
              "    }\n",
              "\n",
              "    .colab-df-convert {\n",
              "      background-color: #E8F0FE;\n",
              "      border: none;\n",
              "      border-radius: 50%;\n",
              "      cursor: pointer;\n",
              "      display: none;\n",
              "      fill: #1967D2;\n",
              "      height: 32px;\n",
              "      padding: 0 0 0 0;\n",
              "      width: 32px;\n",
              "    }\n",
              "\n",
              "    .colab-df-convert:hover {\n",
              "      background-color: #E2EBFA;\n",
              "      box-shadow: 0px 1px 2px rgba(60, 64, 67, 0.3), 0px 1px 3px 1px rgba(60, 64, 67, 0.15);\n",
              "      fill: #174EA6;\n",
              "    }\n",
              "\n",
              "    [theme=dark] .colab-df-convert {\n",
              "      background-color: #3B4455;\n",
              "      fill: #D2E3FC;\n",
              "    }\n",
              "\n",
              "    [theme=dark] .colab-df-convert:hover {\n",
              "      background-color: #434B5C;\n",
              "      box-shadow: 0px 1px 3px 1px rgba(0, 0, 0, 0.15);\n",
              "      filter: drop-shadow(0px 1px 2px rgba(0, 0, 0, 0.3));\n",
              "      fill: #FFFFFF;\n",
              "    }\n",
              "  </style>\n",
              "\n",
              "      <script>\n",
              "        const buttonEl =\n",
              "          document.querySelector('#df-90d667a5-c8eb-44ed-88f2-1ed044042f17 button.colab-df-convert');\n",
              "        buttonEl.style.display =\n",
              "          google.colab.kernel.accessAllowed ? 'block' : 'none';\n",
              "\n",
              "        async function convertToInteractive(key) {\n",
              "          const element = document.querySelector('#df-90d667a5-c8eb-44ed-88f2-1ed044042f17');\n",
              "          const dataTable =\n",
              "            await google.colab.kernel.invokeFunction('convertToInteractive',\n",
              "                                                     [key], {});\n",
              "          if (!dataTable) return;\n",
              "\n",
              "          const docLinkHtml = 'Like what you see? Visit the ' +\n",
              "            '<a target=\"_blank\" href=https://colab.research.google.com/notebooks/data_table.ipynb>data table notebook</a>'\n",
              "            + ' to learn more about interactive tables.';\n",
              "          element.innerHTML = '';\n",
              "          dataTable['output_type'] = 'display_data';\n",
              "          await google.colab.output.renderOutput(dataTable, element);\n",
              "          const docLink = document.createElement('div');\n",
              "          docLink.innerHTML = docLinkHtml;\n",
              "          element.appendChild(docLink);\n",
              "        }\n",
              "      </script>\n",
              "    </div>\n",
              "  </div>\n",
              "  "
            ]
          },
          "metadata": {},
          "execution_count": 105
        }
      ]
    },
    {
      "cell_type": "code",
      "source": [
        "figure(num=None,figsize=(8,8),facecolor ='w',edgecolor='k')\n",
        "\n",
        "moods = [1,0]\n",
        "colors = ['r','g']\n",
        "\n",
        "for mood, color in zip(moods,colors):\n",
        "  plt.scatter(PCA_df.loc[PCA_df['real_y'] == mood, 'PC1'],\n",
        "              PCA_df.loc[PCA_df['real_y'] == mood, 'PC2'],\n",
        "              c = color)\n",
        "\n",
        "plt.xlabel('Principal Component 1', fontsize = 14)\n",
        "plt.xlabel('Principal Component 2', fontsize = 14)\n",
        "plt.title('PCA Feature Extraction Results')\n",
        "plt.legend(['Depressed','Not Depressed'])\n",
        "plt.grid()"
      ],
      "metadata": {
        "colab": {
          "base_uri": "https://localhost:8080/",
          "height": 517
        },
        "id": "nFKWtt2Bfq5o",
        "outputId": "eecfe891-d29d-43c5-fe76-89d66781938e"
      },
      "execution_count": 110,
      "outputs": [
        {
          "output_type": "display_data",
          "data": {
            "text/plain": [
              "<Figure size 576x576 with 1 Axes>"
            ],
            "image/png": "[encoded data removed]"
          },
          "metadata": {}
        }
      ]
    },
    {
      "cell_type": "code",
      "source": [],
      "metadata": {
        "id": "buwD9hk_iWKf"
      },
      "execution_count": null,
      "outputs": []
    }
  ]
}