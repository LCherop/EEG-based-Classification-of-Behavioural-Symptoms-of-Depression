{
  "cells": [
    {
      "cell_type": "markdown",
      "metadata": {
        "id": "view-in-github",
        "colab_type": "text"
      },
      "source": [
        "<a href=\"https://colab.research.google.com/github/LCherop/EEG-based-Classification-of-Behavioural-Symptoms-of-Depression/blob/main/Analysis_and_Classification_of_Behavioural_Symptoms_of_Depression_using_KNN.ipynb\" target=\"_parent\"><img src=\"https://colab.research.google.com/assets/colab-badge.svg\" alt=\"Open In Colab\"/></a>"
      ]
    },
    {
      "cell_type": "markdown",
      "metadata": {
        "id": "xg-_X5f2BuMu"
      },
      "source": [
        "## Import the necessary libraries"
      ]
    },
    {
      "cell_type": "code",
      "execution_count": null,
      "metadata": {
        "colab": {
          "base_uri": "https://localhost:8080/"
        },
        "id": "qTh2mBdCKPNU",
        "outputId": "f53d14e1-cfa6-4fb8-9b73-87798a2c1a19"
      },
      "outputs": [
        {
          "output_type": "stream",
          "name": "stdout",
          "text": [
            "Mounted at /content/drive\n"
          ]
        }
      ],
      "source": [
        "from google.colab import drive\n",
        "drive.mount('/content/drive')"
      ]
    },
    {
      "cell_type": "code",
      "execution_count": null,
      "metadata": {
        "id": "yRe40vIsBggn"
      },
      "outputs": [],
      "source": [
        "import pandas as pd\n",
        "import numpy as np\n",
        "import matplotlib.pyplot as plt\n",
        "from matplotlib.pyplot import figure\n",
        "import seaborn as sb"
      ]
    },
    {
      "cell_type": "markdown",
      "metadata": {
        "id": "NPnYaIaACDd6"
      },
      "source": [
        "## Grab the dataset"
      ]
    },
    {
      "cell_type": "code",
      "execution_count": null,
      "metadata": {
        "colab": {
          "base_uri": "https://localhost:8080/",
          "height": 386
        },
        "id": "6pUqRAumCB4q",
        "outputId": "c1888b36-9c8a-451f-86d3-4867efc0c49d"
      },
      "outputs": [
        {
          "output_type": "execute_result",
          "data": {
            "text/plain": [
              "   no. sex   age    eeg.date  education     IQ       main.disorder  \\\n",
              "0    1   M  57.0   2012.8.30        NaN    NaN  Addictive disorder   \n",
              "1    2   M  37.0    2012.9.6        6.0  120.0  Addictive disorder   \n",
              "2    3   M  32.0   2012.9.10       16.0  113.0  Addictive disorder   \n",
              "3    4   M  35.0   2012.10.8       18.0  126.0  Addictive disorder   \n",
              "4    5   M  36.0  2012.10.18       16.0  112.0  Addictive disorder   \n",
              "\n",
              "      specific.disorder  AB.A.delta.a.FP1  AB.A.delta.b.FP2  ...  \\\n",
              "0  Alcohol use disorder         35.998557         21.717375  ...   \n",
              "1  Alcohol use disorder         13.425118         11.002916  ...   \n",
              "2  Alcohol use disorder         29.941780         27.544684  ...   \n",
              "3  Alcohol use disorder         21.496226         21.846832  ...   \n",
              "4  Alcohol use disorder         37.775667         33.607679  ...   \n",
              "\n",
              "   COH.F.gamma.o.Pz.p.P4  COH.F.gamma.o.Pz.q.T6  COH.F.gamma.o.Pz.r.O1  \\\n",
              "0              55.989192              16.739679              23.452271   \n",
              "1              45.595619              17.510824              26.777368   \n",
              "2              99.475453              70.654171              39.131547   \n",
              "3              59.986561              63.822201              36.478254   \n",
              "4              61.462720              59.166097              51.465531   \n",
              "\n",
              "   COH.F.gamma.o.Pz.s.O2  COH.F.gamma.p.P4.q.T6  COH.F.gamma.p.P4.r.O1  \\\n",
              "0              45.678820              30.167520              16.918761   \n",
              "1              28.201062              57.108861              32.375401   \n",
              "2              69.920996              71.063644              38.534505   \n",
              "3              47.117006              84.658376              24.724096   \n",
              "4              58.635415              80.685608              62.138436   \n",
              "\n",
              "   COH.F.gamma.p.P4.s.O2  COH.F.gamma.q.T6.r.O1  COH.F.gamma.q.T6.s.O2  \\\n",
              "0              48.850427               9.422630              34.507082   \n",
              "1              60.351749              13.900981              57.831848   \n",
              "2              69.908764              27.180532              64.803155   \n",
              "3              50.299349              35.319695              79.822944   \n",
              "4              75.888749              61.003944              87.455509   \n",
              "\n",
              "   COH.F.gamma.r.O1.s.O2  \n",
              "0              28.613029  \n",
              "1              43.463261  \n",
              "2              31.485799  \n",
              "3              41.141873  \n",
              "4              70.531662  \n",
              "\n",
              "[5 rows x 1149 columns]"
            ],
            "text/html": [
              "\n",
              "  <div id=\"df-e2b77c87-fe60-4105-97da-5d33cbf02c55\">\n",
              "    <div class=\"colab-df-container\">\n",
              "      <div>\n",
              "<style scoped>\n",
              "    .dataframe tbody tr th:only-of-type {\n",
              "        vertical-align: middle;\n",
              "    }\n",
              "\n",
              "    .dataframe tbody tr th {\n",
              "        vertical-align: top;\n",
              "    }\n",
              "\n",
              "    .dataframe thead th {\n",
              "        text-align: right;\n",
              "    }\n",
              "</style>\n",
              "<table border=\"1\" class=\"dataframe\">\n",
              "  <thead>\n",
              "    <tr style=\"text-align: right;\">\n",
              "      <th></th>\n",
              "      <th>no.</th>\n",
              "      <th>sex</th>\n",
              "      <th>age</th>\n",
              "      <th>eeg.date</th>\n",
              "      <th>education</th>\n",
              "      <th>IQ</th>\n",
              "      <th>main.disorder</th>\n",
              "      <th>specific.disorder</th>\n",
              "      <th>AB.A.delta.a.FP1</th>\n",
              "      <th>AB.A.delta.b.FP2</th>\n",
              "      <th>...</th>\n",
              "      <th>COH.F.gamma.o.Pz.p.P4</th>\n",
              "      <th>COH.F.gamma.o.Pz.q.T6</th>\n",
              "      <th>COH.F.gamma.o.Pz.r.O1</th>\n",
              "      <th>COH.F.gamma.o.Pz.s.O2</th>\n",
              "      <th>COH.F.gamma.p.P4.q.T6</th>\n",
              "      <th>COH.F.gamma.p.P4.r.O1</th>\n",
              "      <th>COH.F.gamma.p.P4.s.O2</th>\n",
              "      <th>COH.F.gamma.q.T6.r.O1</th>\n",
              "      <th>COH.F.gamma.q.T6.s.O2</th>\n",
              "      <th>COH.F.gamma.r.O1.s.O2</th>\n",
              "    </tr>\n",
              "  </thead>\n",
              "  <tbody>\n",
              "    <tr>\n",
              "      <th>0</th>\n",
              "      <td>1</td>\n",
              "      <td>M</td>\n",
              "      <td>57.0</td>\n",
              "      <td>2012.8.30</td>\n",
              "      <td>NaN</td>\n",
              "      <td>NaN</td>\n",
              "      <td>Addictive disorder</td>\n",
              "      <td>Alcohol use disorder</td>\n",
              "      <td>35.998557</td>\n",
              "      <td>21.717375</td>\n",
              "      <td>...</td>\n",
              "      <td>55.989192</td>\n",
              "      <td>16.739679</td>\n",
              "      <td>23.452271</td>\n",
              "      <td>45.678820</td>\n",
              "      <td>30.167520</td>\n",
              "      <td>16.918761</td>\n",
              "      <td>48.850427</td>\n",
              "      <td>9.422630</td>\n",
              "      <td>34.507082</td>\n",
              "      <td>28.613029</td>\n",
              "    </tr>\n",
              "    <tr>\n",
              "      <th>1</th>\n",
              "      <td>2</td>\n",
              "      <td>M</td>\n",
              "      <td>37.0</td>\n",
              "      <td>2012.9.6</td>\n",
              "      <td>6.0</td>\n",
              "      <td>120.0</td>\n",
              "      <td>Addictive disorder</td>\n",
              "      <td>Alcohol use disorder</td>\n",
              "      <td>13.425118</td>\n",
              "      <td>11.002916</td>\n",
              "      <td>...</td>\n",
              "      <td>45.595619</td>\n",
              "      <td>17.510824</td>\n",
              "      <td>26.777368</td>\n",
              "      <td>28.201062</td>\n",
              "      <td>57.108861</td>\n",
              "      <td>32.375401</td>\n",
              "      <td>60.351749</td>\n",
              "      <td>13.900981</td>\n",
              "      <td>57.831848</td>\n",
              "      <td>43.463261</td>\n",
              "    </tr>\n",
              "    <tr>\n",
              "      <th>2</th>\n",
              "      <td>3</td>\n",
              "      <td>M</td>\n",
              "      <td>32.0</td>\n",
              "      <td>2012.9.10</td>\n",
              "      <td>16.0</td>\n",
              "      <td>113.0</td>\n",
              "      <td>Addictive disorder</td>\n",
              "      <td>Alcohol use disorder</td>\n",
              "      <td>29.941780</td>\n",
              "      <td>27.544684</td>\n",
              "      <td>...</td>\n",
              "      <td>99.475453</td>\n",
              "      <td>70.654171</td>\n",
              "      <td>39.131547</td>\n",
              "      <td>69.920996</td>\n",
              "      <td>71.063644</td>\n",
              "      <td>38.534505</td>\n",
              "      <td>69.908764</td>\n",
              "      <td>27.180532</td>\n",
              "      <td>64.803155</td>\n",
              "      <td>31.485799</td>\n",
              "    </tr>\n",
              "    <tr>\n",
              "      <th>3</th>\n",
              "      <td>4</td>\n",
              "      <td>M</td>\n",
              "      <td>35.0</td>\n",
              "      <td>2012.10.8</td>\n",
              "      <td>18.0</td>\n",
              "      <td>126.0</td>\n",
              "      <td>Addictive disorder</td>\n",
              "      <td>Alcohol use disorder</td>\n",
              "      <td>21.496226</td>\n",
              "      <td>21.846832</td>\n",
              "      <td>...</td>\n",
              "      <td>59.986561</td>\n",
              "      <td>63.822201</td>\n",
              "      <td>36.478254</td>\n",
              "      <td>47.117006</td>\n",
              "      <td>84.658376</td>\n",
              "      <td>24.724096</td>\n",
              "      <td>50.299349</td>\n",
              "      <td>35.319695</td>\n",
              "      <td>79.822944</td>\n",
              "      <td>41.141873</td>\n",
              "    </tr>\n",
              "    <tr>\n",
              "      <th>4</th>\n",
              "      <td>5</td>\n",
              "      <td>M</td>\n",
              "      <td>36.0</td>\n",
              "      <td>2012.10.18</td>\n",
              "      <td>16.0</td>\n",
              "      <td>112.0</td>\n",
              "      <td>Addictive disorder</td>\n",
              "      <td>Alcohol use disorder</td>\n",
              "      <td>37.775667</td>\n",
              "      <td>33.607679</td>\n",
              "      <td>...</td>\n",
              "      <td>61.462720</td>\n",
              "      <td>59.166097</td>\n",
              "      <td>51.465531</td>\n",
              "      <td>58.635415</td>\n",
              "      <td>80.685608</td>\n",
              "      <td>62.138436</td>\n",
              "      <td>75.888749</td>\n",
              "      <td>61.003944</td>\n",
              "      <td>87.455509</td>\n",
              "      <td>70.531662</td>\n",
              "    </tr>\n",
              "  </tbody>\n",
              "</table>\n",
              "<p>5 rows × 1149 columns</p>\n",
              "</div>\n",
              "      <button class=\"colab-df-convert\" onclick=\"convertToInteractive('df-e2b77c87-fe60-4105-97da-5d33cbf02c55')\"\n",
              "              title=\"Convert this dataframe to an interactive table.\"\n",
              "              style=\"display:none;\">\n",
              "        \n",
              "  <svg xmlns=\"http://www.w3.org/2000/svg\" height=\"24px\"viewBox=\"0 0 24 24\"\n",
              "       width=\"24px\">\n",
              "    <path d=\"M0 0h24v24H0V0z\" fill=\"none\"/>\n",
              "    <path d=\"M18.56 5.44l.94 2.06.94-2.06 2.06-.94-2.06-.94-.94-2.06-.94 2.06-2.06.94zm-11 1L8.5 8.5l.94-2.06 2.06-.94-2.06-.94L8.5 2.5l-.94 2.06-2.06.94zm10 10l.94 2.06.94-2.06 2.06-.94-2.06-.94-.94-2.06-.94 2.06-2.06.94z\"/><path d=\"M17.41 7.96l-1.37-1.37c-.4-.4-.92-.59-1.43-.59-.52 0-1.04.2-1.43.59L10.3 9.45l-7.72 7.72c-.78.78-.78 2.05 0 2.83L4 21.41c.39.39.9.59 1.41.59.51 0 1.02-.2 1.41-.59l7.78-7.78 2.81-2.81c.8-.78.8-2.07 0-2.86zM5.41 20L4 18.59l7.72-7.72 1.47 1.35L5.41 20z\"/>\n",
              "  </svg>\n",
              "      </button>\n",
              "      \n",
              "  <style>\n",
              "    .colab-df-container {\n",
              "      display:flex;\n",
              "      flex-wrap:wrap;\n",
              "      gap: 12px;\n",
              "    }\n",
              "\n",
              "    .colab-df-convert {\n",
              "      background-color: #E8F0FE;\n",
              "      border: none;\n",
              "      border-radius: 50%;\n",
              "      cursor: pointer;\n",
              "      display: none;\n",
              "      fill: #1967D2;\n",
              "      height: 32px;\n",
              "      padding: 0 0 0 0;\n",
              "      width: 32px;\n",
              "    }\n",
              "\n",
              "    .colab-df-convert:hover {\n",
              "      background-color: #E2EBFA;\n",
              "      box-shadow: 0px 1px 2px rgba(60, 64, 67, 0.3), 0px 1px 3px 1px rgba(60, 64, 67, 0.15);\n",
              "      fill: #174EA6;\n",
              "    }\n",
              "\n",
              "    [theme=dark] .colab-df-convert {\n",
              "      background-color: #3B4455;\n",
              "      fill: #D2E3FC;\n",
              "    }\n",
              "\n",
              "    [theme=dark] .colab-df-convert:hover {\n",
              "      background-color: #434B5C;\n",
              "      box-shadow: 0px 1px 3px 1px rgba(0, 0, 0, 0.15);\n",
              "      filter: drop-shadow(0px 1px 2px rgba(0, 0, 0, 0.3));\n",
              "      fill: #FFFFFF;\n",
              "    }\n",
              "  </style>\n",
              "\n",
              "      <script>\n",
              "        const buttonEl =\n",
              "          document.querySelector('#df-e2b77c87-fe60-4105-97da-5d33cbf02c55 button.colab-df-convert');\n",
              "        buttonEl.style.display =\n",
              "          google.colab.kernel.accessAllowed ? 'block' : 'none';\n",
              "\n",
              "        async function convertToInteractive(key) {\n",
              "          const element = document.querySelector('#df-e2b77c87-fe60-4105-97da-5d33cbf02c55');\n",
              "          const dataTable =\n",
              "            await google.colab.kernel.invokeFunction('convertToInteractive',\n",
              "                                                     [key], {});\n",
              "          if (!dataTable) return;\n",
              "\n",
              "          const docLinkHtml = 'Like what you see? Visit the ' +\n",
              "            '<a target=\"_blank\" href=https://colab.research.google.com/notebooks/data_table.ipynb>data table notebook</a>'\n",
              "            + ' to learn more about interactive tables.';\n",
              "          element.innerHTML = '';\n",
              "          dataTable['output_type'] = 'display_data';\n",
              "          await google.colab.output.renderOutput(dataTable, element);\n",
              "          const docLink = document.createElement('div');\n",
              "          docLink.innerHTML = docLinkHtml;\n",
              "          element.appendChild(docLink);\n",
              "        }\n",
              "      </script>\n",
              "    </div>\n",
              "  </div>\n",
              "  "
            ]
          },
          "metadata": {},
          "execution_count": 3
        }
      ],
      "source": [
        "data = pd.read_csv('/content/drive/MyDrive/project_dataset/EEG_machine_learing_data_BRMH.csv')\n",
        "data.head()\n"
      ]
    },
    {
      "cell_type": "code",
      "execution_count": null,
      "metadata": {
        "colab": {
          "base_uri": "https://localhost:8080/"
        },
        "id": "Sunl6fKwKFKV",
        "outputId": "25573b30-7057-4961-fa6d-7f1d4ad5c31d"
      },
      "outputs": [
        {
          "output_type": "execute_result",
          "data": {
            "text/plain": [
              "(945, 1149)"
            ]
          },
          "metadata": {},
          "execution_count": 4
        }
      ],
      "source": [
        "data.shape"
      ]
    },
    {
      "cell_type": "code",
      "execution_count": null,
      "metadata": {
        "colab": {
          "base_uri": "https://localhost:8080/",
          "height": 394
        },
        "id": "NbH4yrFCKj-3",
        "outputId": "91456170-8129-4bc1-84cb-b8b3119b7614"
      },
      "outputs": [
        {
          "output_type": "execute_result",
          "data": {
            "text/plain": [
              "              no.         age   education          IQ  AB.A.delta.a.FP1  \\\n",
              "count  945.000000  945.000000  930.000000  932.000000        945.000000   \n",
              "mean   473.000000   30.594804   13.438710  101.580472         20.182936   \n",
              "std    272.942302   11.781592    2.550461   17.022414         11.282022   \n",
              "min      1.000000   18.000000    0.000000   49.000000          3.272260   \n",
              "25%    237.000000   21.730000   12.000000   91.000000         12.784872   \n",
              "50%    473.000000   26.150000   13.000000  102.000000         17.065286   \n",
              "75%    709.000000   35.450000   16.000000  114.000000         24.492760   \n",
              "max    945.000000   71.880000   20.000000  145.000000         92.826192   \n",
              "\n",
              "       AB.A.delta.b.FP2  AB.A.delta.c.F7  AB.A.delta.d.F3  AB.A.delta.e.Fz  \\\n",
              "count        945.000000       945.000000       945.000000       945.000000   \n",
              "mean          21.177584        17.749553        18.901698        20.447079   \n",
              "std           12.230662        10.003598         9.079482         9.742912   \n",
              "min            3.244199         3.050507         3.412618         5.066593   \n",
              "25%           13.019269        11.134327        12.460586        13.548645   \n",
              "50%           17.838251        15.541469        16.733004        18.065276   \n",
              "75%           25.654394        21.623961        23.347900        25.573096   \n",
              "max          101.515687        91.373456        82.544167       101.566662   \n",
              "\n",
              "       AB.A.delta.f.F4  ...  COH.F.gamma.o.Pz.p.P4  COH.F.gamma.o.Pz.q.T6  \\\n",
              "count       945.000000  ...             945.000000             945.000000   \n",
              "mean         19.490329  ...              75.889633              55.049113   \n",
              "std           9.252500  ...              15.861641              19.541956   \n",
              "min           4.048931  ...              12.611954               0.519048   \n",
              "25%          12.637717  ...              68.014443              41.607506   \n",
              "50%          17.432568  ...              78.647712              55.158858   \n",
              "75%          23.956748  ...              87.398387              69.740640   \n",
              "max          77.197502  ...              99.678649             100.000000   \n",
              "\n",
              "       COH.F.gamma.o.Pz.r.O1  COH.F.gamma.o.Pz.s.O2  COH.F.gamma.p.P4.q.T6  \\\n",
              "count             945.000000             945.000000             945.000000   \n",
              "mean               56.959796              60.739169              69.829254   \n",
              "std                18.326785              18.052887              17.725321   \n",
              "min                 6.926792               0.708008               2.421748   \n",
              "25%                43.682444              48.374883              58.937785   \n",
              "50%                56.657348              61.257972              72.298636   \n",
              "75%                70.649245              73.979100              83.066877   \n",
              "max                99.307895             100.000000              99.581629   \n",
              "\n",
              "       COH.F.gamma.p.P4.r.O1  COH.F.gamma.p.P4.s.O2  COH.F.gamma.q.T6.r.O1  \\\n",
              "count             945.000000             945.000000             945.000000   \n",
              "mean               47.862489              66.832798              39.301406   \n",
              "std                19.685722              17.028701              20.790933   \n",
              "min                 0.036664               1.032207               1.228502   \n",
              "25%                32.581046              55.872070              22.049743   \n",
              "50%                45.719426              68.238375              36.549938   \n",
              "75%                62.081839              79.192418              54.169209   \n",
              "max                98.720067              99.650154              98.413320   \n",
              "\n",
              "       COH.F.gamma.q.T6.s.O2  COH.F.gamma.r.O1.s.O2  \n",
              "count             945.000000             945.000000  \n",
              "mean               66.153213              57.056207  \n",
              "std                18.088548              19.600107  \n",
              "min                 0.363268               3.988805  \n",
              "25%                54.710605              43.955229  \n",
              "50%                67.988937              57.515871  \n",
              "75%                79.527764              71.626382  \n",
              "max               100.000000              99.287092  \n",
              "\n",
              "[8 rows x 1145 columns]"
            ],
            "text/html": [
              "\n",
              "  <div id=\"df-3fe1d150-596f-40c3-9f95-f2fe6dc9eba8\">\n",
              "    <div class=\"colab-df-container\">\n",
              "      <div>\n",
              "<style scoped>\n",
              "    .dataframe tbody tr th:only-of-type {\n",
              "        vertical-align: middle;\n",
              "    }\n",
              "\n",
              "    .dataframe tbody tr th {\n",
              "        vertical-align: top;\n",
              "    }\n",
              "\n",
              "    .dataframe thead th {\n",
              "        text-align: right;\n",
              "    }\n",
              "</style>\n",
              "<table border=\"1\" class=\"dataframe\">\n",
              "  <thead>\n",
              "    <tr style=\"text-align: right;\">\n",
              "      <th></th>\n",
              "      <th>no.</th>\n",
              "      <th>age</th>\n",
              "      <th>education</th>\n",
              "      <th>IQ</th>\n",
              "      <th>AB.A.delta.a.FP1</th>\n",
              "      <th>AB.A.delta.b.FP2</th>\n",
              "      <th>AB.A.delta.c.F7</th>\n",
              "      <th>AB.A.delta.d.F3</th>\n",
              "      <th>AB.A.delta.e.Fz</th>\n",
              "      <th>AB.A.delta.f.F4</th>\n",
              "      <th>...</th>\n",
              "      <th>COH.F.gamma.o.Pz.p.P4</th>\n",
              "      <th>COH.F.gamma.o.Pz.q.T6</th>\n",
              "      <th>COH.F.gamma.o.Pz.r.O1</th>\n",
              "      <th>COH.F.gamma.o.Pz.s.O2</th>\n",
              "      <th>COH.F.gamma.p.P4.q.T6</th>\n",
              "      <th>COH.F.gamma.p.P4.r.O1</th>\n",
              "      <th>COH.F.gamma.p.P4.s.O2</th>\n",
              "      <th>COH.F.gamma.q.T6.r.O1</th>\n",
              "      <th>COH.F.gamma.q.T6.s.O2</th>\n",
              "      <th>COH.F.gamma.r.O1.s.O2</th>\n",
              "    </tr>\n",
              "  </thead>\n",
              "  <tbody>\n",
              "    <tr>\n",
              "      <th>count</th>\n",
              "      <td>945.000000</td>\n",
              "      <td>945.000000</td>\n",
              "      <td>930.000000</td>\n",
              "      <td>932.000000</td>\n",
              "      <td>945.000000</td>\n",
              "      <td>945.000000</td>\n",
              "      <td>945.000000</td>\n",
              "      <td>945.000000</td>\n",
              "      <td>945.000000</td>\n",
              "      <td>945.000000</td>\n",
              "      <td>...</td>\n",
              "      <td>945.000000</td>\n",
              "      <td>945.000000</td>\n",
              "      <td>945.000000</td>\n",
              "      <td>945.000000</td>\n",
              "      <td>945.000000</td>\n",
              "      <td>945.000000</td>\n",
              "      <td>945.000000</td>\n",
              "      <td>945.000000</td>\n",
              "      <td>945.000000</td>\n",
              "      <td>945.000000</td>\n",
              "    </tr>\n",
              "    <tr>\n",
              "      <th>mean</th>\n",
              "      <td>473.000000</td>\n",
              "      <td>30.594804</td>\n",
              "      <td>13.438710</td>\n",
              "      <td>101.580472</td>\n",
              "      <td>20.182936</td>\n",
              "      <td>21.177584</td>\n",
              "      <td>17.749553</td>\n",
              "      <td>18.901698</td>\n",
              "      <td>20.447079</td>\n",
              "      <td>19.490329</td>\n",
              "      <td>...</td>\n",
              "      <td>75.889633</td>\n",
              "      <td>55.049113</td>\n",
              "      <td>56.959796</td>\n",
              "      <td>60.739169</td>\n",
              "      <td>69.829254</td>\n",
              "      <td>47.862489</td>\n",
              "      <td>66.832798</td>\n",
              "      <td>39.301406</td>\n",
              "      <td>66.153213</td>\n",
              "      <td>57.056207</td>\n",
              "    </tr>\n",
              "    <tr>\n",
              "      <th>std</th>\n",
              "      <td>272.942302</td>\n",
              "      <td>11.781592</td>\n",
              "      <td>2.550461</td>\n",
              "      <td>17.022414</td>\n",
              "      <td>11.282022</td>\n",
              "      <td>12.230662</td>\n",
              "      <td>10.003598</td>\n",
              "      <td>9.079482</td>\n",
              "      <td>9.742912</td>\n",
              "      <td>9.252500</td>\n",
              "      <td>...</td>\n",
              "      <td>15.861641</td>\n",
              "      <td>19.541956</td>\n",
              "      <td>18.326785</td>\n",
              "      <td>18.052887</td>\n",
              "      <td>17.725321</td>\n",
              "      <td>19.685722</td>\n",
              "      <td>17.028701</td>\n",
              "      <td>20.790933</td>\n",
              "      <td>18.088548</td>\n",
              "      <td>19.600107</td>\n",
              "    </tr>\n",
              "    <tr>\n",
              "      <th>min</th>\n",
              "      <td>1.000000</td>\n",
              "      <td>18.000000</td>\n",
              "      <td>0.000000</td>\n",
              "      <td>49.000000</td>\n",
              "      <td>3.272260</td>\n",
              "      <td>3.244199</td>\n",
              "      <td>3.050507</td>\n",
              "      <td>3.412618</td>\n",
              "      <td>5.066593</td>\n",
              "      <td>4.048931</td>\n",
              "      <td>...</td>\n",
              "      <td>12.611954</td>\n",
              "      <td>0.519048</td>\n",
              "      <td>6.926792</td>\n",
              "      <td>0.708008</td>\n",
              "      <td>2.421748</td>\n",
              "      <td>0.036664</td>\n",
              "      <td>1.032207</td>\n",
              "      <td>1.228502</td>\n",
              "      <td>0.363268</td>\n",
              "      <td>3.988805</td>\n",
              "    </tr>\n",
              "    <tr>\n",
              "      <th>25%</th>\n",
              "      <td>237.000000</td>\n",
              "      <td>21.730000</td>\n",
              "      <td>12.000000</td>\n",
              "      <td>91.000000</td>\n",
              "      <td>12.784872</td>\n",
              "      <td>13.019269</td>\n",
              "      <td>11.134327</td>\n",
              "      <td>12.460586</td>\n",
              "      <td>13.548645</td>\n",
              "      <td>12.637717</td>\n",
              "      <td>...</td>\n",
              "      <td>68.014443</td>\n",
              "      <td>41.607506</td>\n",
              "      <td>43.682444</td>\n",
              "      <td>48.374883</td>\n",
              "      <td>58.937785</td>\n",
              "      <td>32.581046</td>\n",
              "      <td>55.872070</td>\n",
              "      <td>22.049743</td>\n",
              "      <td>54.710605</td>\n",
              "      <td>43.955229</td>\n",
              "    </tr>\n",
              "    <tr>\n",
              "      <th>50%</th>\n",
              "      <td>473.000000</td>\n",
              "      <td>26.150000</td>\n",
              "      <td>13.000000</td>\n",
              "      <td>102.000000</td>\n",
              "      <td>17.065286</td>\n",
              "      <td>17.838251</td>\n",
              "      <td>15.541469</td>\n",
              "      <td>16.733004</td>\n",
              "      <td>18.065276</td>\n",
              "      <td>17.432568</td>\n",
              "      <td>...</td>\n",
              "      <td>78.647712</td>\n",
              "      <td>55.158858</td>\n",
              "      <td>56.657348</td>\n",
              "      <td>61.257972</td>\n",
              "      <td>72.298636</td>\n",
              "      <td>45.719426</td>\n",
              "      <td>68.238375</td>\n",
              "      <td>36.549938</td>\n",
              "      <td>67.988937</td>\n",
              "      <td>57.515871</td>\n",
              "    </tr>\n",
              "    <tr>\n",
              "      <th>75%</th>\n",
              "      <td>709.000000</td>\n",
              "      <td>35.450000</td>\n",
              "      <td>16.000000</td>\n",
              "      <td>114.000000</td>\n",
              "      <td>24.492760</td>\n",
              "      <td>25.654394</td>\n",
              "      <td>21.623961</td>\n",
              "      <td>23.347900</td>\n",
              "      <td>25.573096</td>\n",
              "      <td>23.956748</td>\n",
              "      <td>...</td>\n",
              "      <td>87.398387</td>\n",
              "      <td>69.740640</td>\n",
              "      <td>70.649245</td>\n",
              "      <td>73.979100</td>\n",
              "      <td>83.066877</td>\n",
              "      <td>62.081839</td>\n",
              "      <td>79.192418</td>\n",
              "      <td>54.169209</td>\n",
              "      <td>79.527764</td>\n",
              "      <td>71.626382</td>\n",
              "    </tr>\n",
              "    <tr>\n",
              "      <th>max</th>\n",
              "      <td>945.000000</td>\n",
              "      <td>71.880000</td>\n",
              "      <td>20.000000</td>\n",
              "      <td>145.000000</td>\n",
              "      <td>92.826192</td>\n",
              "      <td>101.515687</td>\n",
              "      <td>91.373456</td>\n",
              "      <td>82.544167</td>\n",
              "      <td>101.566662</td>\n",
              "      <td>77.197502</td>\n",
              "      <td>...</td>\n",
              "      <td>99.678649</td>\n",
              "      <td>100.000000</td>\n",
              "      <td>99.307895</td>\n",
              "      <td>100.000000</td>\n",
              "      <td>99.581629</td>\n",
              "      <td>98.720067</td>\n",
              "      <td>99.650154</td>\n",
              "      <td>98.413320</td>\n",
              "      <td>100.000000</td>\n",
              "      <td>99.287092</td>\n",
              "    </tr>\n",
              "  </tbody>\n",
              "</table>\n",
              "<p>8 rows × 1145 columns</p>\n",
              "</div>\n",
              "      <button class=\"colab-df-convert\" onclick=\"convertToInteractive('df-3fe1d150-596f-40c3-9f95-f2fe6dc9eba8')\"\n",
              "              title=\"Convert this dataframe to an interactive table.\"\n",
              "              style=\"display:none;\">\n",
              "        \n",
              "  <svg xmlns=\"http://www.w3.org/2000/svg\" height=\"24px\"viewBox=\"0 0 24 24\"\n",
              "       width=\"24px\">\n",
              "    <path d=\"M0 0h24v24H0V0z\" fill=\"none\"/>\n",
              "    <path d=\"M18.56 5.44l.94 2.06.94-2.06 2.06-.94-2.06-.94-.94-2.06-.94 2.06-2.06.94zm-11 1L8.5 8.5l.94-2.06 2.06-.94-2.06-.94L8.5 2.5l-.94 2.06-2.06.94zm10 10l.94 2.06.94-2.06 2.06-.94-2.06-.94-.94-2.06-.94 2.06-2.06.94z\"/><path d=\"M17.41 7.96l-1.37-1.37c-.4-.4-.92-.59-1.43-.59-.52 0-1.04.2-1.43.59L10.3 9.45l-7.72 7.72c-.78.78-.78 2.05 0 2.83L4 21.41c.39.39.9.59 1.41.59.51 0 1.02-.2 1.41-.59l7.78-7.78 2.81-2.81c.8-.78.8-2.07 0-2.86zM5.41 20L4 18.59l7.72-7.72 1.47 1.35L5.41 20z\"/>\n",
              "  </svg>\n",
              "      </button>\n",
              "      \n",
              "  <style>\n",
              "    .colab-df-container {\n",
              "      display:flex;\n",
              "      flex-wrap:wrap;\n",
              "      gap: 12px;\n",
              "    }\n",
              "\n",
              "    .colab-df-convert {\n",
              "      background-color: #E8F0FE;\n",
              "      border: none;\n",
              "      border-radius: 50%;\n",
              "      cursor: pointer;\n",
              "      display: none;\n",
              "      fill: #1967D2;\n",
              "      height: 32px;\n",
              "      padding: 0 0 0 0;\n",
              "      width: 32px;\n",
              "    }\n",
              "\n",
              "    .colab-df-convert:hover {\n",
              "      background-color: #E2EBFA;\n",
              "      box-shadow: 0px 1px 2px rgba(60, 64, 67, 0.3), 0px 1px 3px 1px rgba(60, 64, 67, 0.15);\n",
              "      fill: #174EA6;\n",
              "    }\n",
              "\n",
              "    [theme=dark] .colab-df-convert {\n",
              "      background-color: #3B4455;\n",
              "      fill: #D2E3FC;\n",
              "    }\n",
              "\n",
              "    [theme=dark] .colab-df-convert:hover {\n",
              "      background-color: #434B5C;\n",
              "      box-shadow: 0px 1px 3px 1px rgba(0, 0, 0, 0.15);\n",
              "      filter: drop-shadow(0px 1px 2px rgba(0, 0, 0, 0.3));\n",
              "      fill: #FFFFFF;\n",
              "    }\n",
              "  </style>\n",
              "\n",
              "      <script>\n",
              "        const buttonEl =\n",
              "          document.querySelector('#df-3fe1d150-596f-40c3-9f95-f2fe6dc9eba8 button.colab-df-convert');\n",
              "        buttonEl.style.display =\n",
              "          google.colab.kernel.accessAllowed ? 'block' : 'none';\n",
              "\n",
              "        async function convertToInteractive(key) {\n",
              "          const element = document.querySelector('#df-3fe1d150-596f-40c3-9f95-f2fe6dc9eba8');\n",
              "          const dataTable =\n",
              "            await google.colab.kernel.invokeFunction('convertToInteractive',\n",
              "                                                     [key], {});\n",
              "          if (!dataTable) return;\n",
              "\n",
              "          const docLinkHtml = 'Like what you see? Visit the ' +\n",
              "            '<a target=\"_blank\" href=https://colab.research.google.com/notebooks/data_table.ipynb>data table notebook</a>'\n",
              "            + ' to learn more about interactive tables.';\n",
              "          element.innerHTML = '';\n",
              "          dataTable['output_type'] = 'display_data';\n",
              "          await google.colab.output.renderOutput(dataTable, element);\n",
              "          const docLink = document.createElement('div');\n",
              "          docLink.innerHTML = docLinkHtml;\n",
              "          element.appendChild(docLink);\n",
              "        }\n",
              "      </script>\n",
              "    </div>\n",
              "  </div>\n",
              "  "
            ]
          },
          "metadata": {},
          "execution_count": 5
        }
      ],
      "source": [
        "data.describe()"
      ]
    },
    {
      "cell_type": "markdown",
      "metadata": {
        "id": "BkVW60n4IlNQ"
      },
      "source": [
        "## Prepare the dataset"
      ]
    },
    {
      "cell_type": "markdown",
      "metadata": {
        "id": "ECUXccbyItEz"
      },
      "source": [
        "### Remove unnecesary columns"
      ]
    },
    {
      "cell_type": "code",
      "execution_count": null,
      "metadata": {
        "id": "Q1aERG5dH7Tz"
      },
      "outputs": [],
      "source": [
        "columns_not_needed = ['no.','sex','age','eeg.date','education','IQ']"
      ]
    },
    {
      "cell_type": "code",
      "execution_count": null,
      "metadata": {
        "id": "jao10Z1MHWnv",
        "colab": {
          "base_uri": "https://localhost:8080/",
          "height": 386
        },
        "outputId": "2b59d4c6-b96a-4772-c2f1-e1474df8317d"
      },
      "outputs": [
        {
          "output_type": "execute_result",
          "data": {
            "text/plain": [
              "        main.disorder     specific.disorder  AB.A.delta.a.FP1  \\\n",
              "0  Addictive disorder  Alcohol use disorder         35.998557   \n",
              "1  Addictive disorder  Alcohol use disorder         13.425118   \n",
              "2  Addictive disorder  Alcohol use disorder         29.941780   \n",
              "3  Addictive disorder  Alcohol use disorder         21.496226   \n",
              "4  Addictive disorder  Alcohol use disorder         37.775667   \n",
              "\n",
              "   AB.A.delta.b.FP2  AB.A.delta.c.F7  AB.A.delta.d.F3  AB.A.delta.e.Fz  \\\n",
              "0         21.717375        21.518280        26.825048        26.611516   \n",
              "1         11.002916        11.942516        15.272216        14.151570   \n",
              "2         27.544684        17.150159        23.608960        27.087811   \n",
              "3         21.846832        17.364316        13.833701        14.100954   \n",
              "4         33.607679        21.865556        21.771413        22.854536   \n",
              "\n",
              "   AB.A.delta.f.F4  AB.A.delta.g.F8  AB.A.delta.h.T3  ...  \\\n",
              "0        25.732649        16.563408        29.891368  ...   \n",
              "1        12.456034         8.436832         9.975238  ...   \n",
              "2        13.541237        16.523963        12.775574  ...   \n",
              "3        13.100939        14.613650         8.063191  ...   \n",
              "4        21.456377        15.969042         9.434306  ...   \n",
              "\n",
              "   COH.F.gamma.o.Pz.p.P4  COH.F.gamma.o.Pz.q.T6  COH.F.gamma.o.Pz.r.O1  \\\n",
              "0              55.989192              16.739679              23.452271   \n",
              "1              45.595619              17.510824              26.777368   \n",
              "2              99.475453              70.654171              39.131547   \n",
              "3              59.986561              63.822201              36.478254   \n",
              "4              61.462720              59.166097              51.465531   \n",
              "\n",
              "   COH.F.gamma.o.Pz.s.O2  COH.F.gamma.p.P4.q.T6  COH.F.gamma.p.P4.r.O1  \\\n",
              "0              45.678820              30.167520              16.918761   \n",
              "1              28.201062              57.108861              32.375401   \n",
              "2              69.920996              71.063644              38.534505   \n",
              "3              47.117006              84.658376              24.724096   \n",
              "4              58.635415              80.685608              62.138436   \n",
              "\n",
              "   COH.F.gamma.p.P4.s.O2  COH.F.gamma.q.T6.r.O1  COH.F.gamma.q.T6.s.O2  \\\n",
              "0              48.850427               9.422630              34.507082   \n",
              "1              60.351749              13.900981              57.831848   \n",
              "2              69.908764              27.180532              64.803155   \n",
              "3              50.299349              35.319695              79.822944   \n",
              "4              75.888749              61.003944              87.455509   \n",
              "\n",
              "   COH.F.gamma.r.O1.s.O2  \n",
              "0              28.613029  \n",
              "1              43.463261  \n",
              "2              31.485799  \n",
              "3              41.141873  \n",
              "4              70.531662  \n",
              "\n",
              "[5 rows x 1143 columns]"
            ],
            "text/html": [
              "\n",
              "  <div id=\"df-9c7cd204-d9b0-4e84-88e1-7e96d04a7902\">\n",
              "    <div class=\"colab-df-container\">\n",
              "      <div>\n",
              "<style scoped>\n",
              "    .dataframe tbody tr th:only-of-type {\n",
              "        vertical-align: middle;\n",
              "    }\n",
              "\n",
              "    .dataframe tbody tr th {\n",
              "        vertical-align: top;\n",
              "    }\n",
              "\n",
              "    .dataframe thead th {\n",
              "        text-align: right;\n",
              "    }\n",
              "</style>\n",
              "<table border=\"1\" class=\"dataframe\">\n",
              "  <thead>\n",
              "    <tr style=\"text-align: right;\">\n",
              "      <th></th>\n",
              "      <th>main.disorder</th>\n",
              "      <th>specific.disorder</th>\n",
              "      <th>AB.A.delta.a.FP1</th>\n",
              "      <th>AB.A.delta.b.FP2</th>\n",
              "      <th>AB.A.delta.c.F7</th>\n",
              "      <th>AB.A.delta.d.F3</th>\n",
              "      <th>AB.A.delta.e.Fz</th>\n",
              "      <th>AB.A.delta.f.F4</th>\n",
              "      <th>AB.A.delta.g.F8</th>\n",
              "      <th>AB.A.delta.h.T3</th>\n",
              "      <th>...</th>\n",
              "      <th>COH.F.gamma.o.Pz.p.P4</th>\n",
              "      <th>COH.F.gamma.o.Pz.q.T6</th>\n",
              "      <th>COH.F.gamma.o.Pz.r.O1</th>\n",
              "      <th>COH.F.gamma.o.Pz.s.O2</th>\n",
              "      <th>COH.F.gamma.p.P4.q.T6</th>\n",
              "      <th>COH.F.gamma.p.P4.r.O1</th>\n",
              "      <th>COH.F.gamma.p.P4.s.O2</th>\n",
              "      <th>COH.F.gamma.q.T6.r.O1</th>\n",
              "      <th>COH.F.gamma.q.T6.s.O2</th>\n",
              "      <th>COH.F.gamma.r.O1.s.O2</th>\n",
              "    </tr>\n",
              "  </thead>\n",
              "  <tbody>\n",
              "    <tr>\n",
              "      <th>0</th>\n",
              "      <td>Addictive disorder</td>\n",
              "      <td>Alcohol use disorder</td>\n",
              "      <td>35.998557</td>\n",
              "      <td>21.717375</td>\n",
              "      <td>21.518280</td>\n",
              "      <td>26.825048</td>\n",
              "      <td>26.611516</td>\n",
              "      <td>25.732649</td>\n",
              "      <td>16.563408</td>\n",
              "      <td>29.891368</td>\n",
              "      <td>...</td>\n",
              "      <td>55.989192</td>\n",
              "      <td>16.739679</td>\n",
              "      <td>23.452271</td>\n",
              "      <td>45.678820</td>\n",
              "      <td>30.167520</td>\n",
              "      <td>16.918761</td>\n",
              "      <td>48.850427</td>\n",
              "      <td>9.422630</td>\n",
              "      <td>34.507082</td>\n",
              "      <td>28.613029</td>\n",
              "    </tr>\n",
              "    <tr>\n",
              "      <th>1</th>\n",
              "      <td>Addictive disorder</td>\n",
              "      <td>Alcohol use disorder</td>\n",
              "      <td>13.425118</td>\n",
              "      <td>11.002916</td>\n",
              "      <td>11.942516</td>\n",
              "      <td>15.272216</td>\n",
              "      <td>14.151570</td>\n",
              "      <td>12.456034</td>\n",
              "      <td>8.436832</td>\n",
              "      <td>9.975238</td>\n",
              "      <td>...</td>\n",
              "      <td>45.595619</td>\n",
              "      <td>17.510824</td>\n",
              "      <td>26.777368</td>\n",
              "      <td>28.201062</td>\n",
              "      <td>57.108861</td>\n",
              "      <td>32.375401</td>\n",
              "      <td>60.351749</td>\n",
              "      <td>13.900981</td>\n",
              "      <td>57.831848</td>\n",
              "      <td>43.463261</td>\n",
              "    </tr>\n",
              "    <tr>\n",
              "      <th>2</th>\n",
              "      <td>Addictive disorder</td>\n",
              "      <td>Alcohol use disorder</td>\n",
              "      <td>29.941780</td>\n",
              "      <td>27.544684</td>\n",
              "      <td>17.150159</td>\n",
              "      <td>23.608960</td>\n",
              "      <td>27.087811</td>\n",
              "      <td>13.541237</td>\n",
              "      <td>16.523963</td>\n",
              "      <td>12.775574</td>\n",
              "      <td>...</td>\n",
              "      <td>99.475453</td>\n",
              "      <td>70.654171</td>\n",
              "      <td>39.131547</td>\n",
              "      <td>69.920996</td>\n",
              "      <td>71.063644</td>\n",
              "      <td>38.534505</td>\n",
              "      <td>69.908764</td>\n",
              "      <td>27.180532</td>\n",
              "      <td>64.803155</td>\n",
              "      <td>31.485799</td>\n",
              "    </tr>\n",
              "    <tr>\n",
              "      <th>3</th>\n",
              "      <td>Addictive disorder</td>\n",
              "      <td>Alcohol use disorder</td>\n",
              "      <td>21.496226</td>\n",
              "      <td>21.846832</td>\n",
              "      <td>17.364316</td>\n",
              "      <td>13.833701</td>\n",
              "      <td>14.100954</td>\n",
              "      <td>13.100939</td>\n",
              "      <td>14.613650</td>\n",
              "      <td>8.063191</td>\n",
              "      <td>...</td>\n",
              "      <td>59.986561</td>\n",
              "      <td>63.822201</td>\n",
              "      <td>36.478254</td>\n",
              "      <td>47.117006</td>\n",
              "      <td>84.658376</td>\n",
              "      <td>24.724096</td>\n",
              "      <td>50.299349</td>\n",
              "      <td>35.319695</td>\n",
              "      <td>79.822944</td>\n",
              "      <td>41.141873</td>\n",
              "    </tr>\n",
              "    <tr>\n",
              "      <th>4</th>\n",
              "      <td>Addictive disorder</td>\n",
              "      <td>Alcohol use disorder</td>\n",
              "      <td>37.775667</td>\n",
              "      <td>33.607679</td>\n",
              "      <td>21.865556</td>\n",
              "      <td>21.771413</td>\n",
              "      <td>22.854536</td>\n",
              "      <td>21.456377</td>\n",
              "      <td>15.969042</td>\n",
              "      <td>9.434306</td>\n",
              "      <td>...</td>\n",
              "      <td>61.462720</td>\n",
              "      <td>59.166097</td>\n",
              "      <td>51.465531</td>\n",
              "      <td>58.635415</td>\n",
              "      <td>80.685608</td>\n",
              "      <td>62.138436</td>\n",
              "      <td>75.888749</td>\n",
              "      <td>61.003944</td>\n",
              "      <td>87.455509</td>\n",
              "      <td>70.531662</td>\n",
              "    </tr>\n",
              "  </tbody>\n",
              "</table>\n",
              "<p>5 rows × 1143 columns</p>\n",
              "</div>\n",
              "      <button class=\"colab-df-convert\" onclick=\"convertToInteractive('df-9c7cd204-d9b0-4e84-88e1-7e96d04a7902')\"\n",
              "              title=\"Convert this dataframe to an interactive table.\"\n",
              "              style=\"display:none;\">\n",
              "        \n",
              "  <svg xmlns=\"http://www.w3.org/2000/svg\" height=\"24px\"viewBox=\"0 0 24 24\"\n",
              "       width=\"24px\">\n",
              "    <path d=\"M0 0h24v24H0V0z\" fill=\"none\"/>\n",
              "    <path d=\"M18.56 5.44l.94 2.06.94-2.06 2.06-.94-2.06-.94-.94-2.06-.94 2.06-2.06.94zm-11 1L8.5 8.5l.94-2.06 2.06-.94-2.06-.94L8.5 2.5l-.94 2.06-2.06.94zm10 10l.94 2.06.94-2.06 2.06-.94-2.06-.94-.94-2.06-.94 2.06-2.06.94z\"/><path d=\"M17.41 7.96l-1.37-1.37c-.4-.4-.92-.59-1.43-.59-.52 0-1.04.2-1.43.59L10.3 9.45l-7.72 7.72c-.78.78-.78 2.05 0 2.83L4 21.41c.39.39.9.59 1.41.59.51 0 1.02-.2 1.41-.59l7.78-7.78 2.81-2.81c.8-.78.8-2.07 0-2.86zM5.41 20L4 18.59l7.72-7.72 1.47 1.35L5.41 20z\"/>\n",
              "  </svg>\n",
              "      </button>\n",
              "      \n",
              "  <style>\n",
              "    .colab-df-container {\n",
              "      display:flex;\n",
              "      flex-wrap:wrap;\n",
              "      gap: 12px;\n",
              "    }\n",
              "\n",
              "    .colab-df-convert {\n",
              "      background-color: #E8F0FE;\n",
              "      border: none;\n",
              "      border-radius: 50%;\n",
              "      cursor: pointer;\n",
              "      display: none;\n",
              "      fill: #1967D2;\n",
              "      height: 32px;\n",
              "      padding: 0 0 0 0;\n",
              "      width: 32px;\n",
              "    }\n",
              "\n",
              "    .colab-df-convert:hover {\n",
              "      background-color: #E2EBFA;\n",
              "      box-shadow: 0px 1px 2px rgba(60, 64, 67, 0.3), 0px 1px 3px 1px rgba(60, 64, 67, 0.15);\n",
              "      fill: #174EA6;\n",
              "    }\n",
              "\n",
              "    [theme=dark] .colab-df-convert {\n",
              "      background-color: #3B4455;\n",
              "      fill: #D2E3FC;\n",
              "    }\n",
              "\n",
              "    [theme=dark] .colab-df-convert:hover {\n",
              "      background-color: #434B5C;\n",
              "      box-shadow: 0px 1px 3px 1px rgba(0, 0, 0, 0.15);\n",
              "      filter: drop-shadow(0px 1px 2px rgba(0, 0, 0, 0.3));\n",
              "      fill: #FFFFFF;\n",
              "    }\n",
              "  </style>\n",
              "\n",
              "      <script>\n",
              "        const buttonEl =\n",
              "          document.querySelector('#df-9c7cd204-d9b0-4e84-88e1-7e96d04a7902 button.colab-df-convert');\n",
              "        buttonEl.style.display =\n",
              "          google.colab.kernel.accessAllowed ? 'block' : 'none';\n",
              "\n",
              "        async function convertToInteractive(key) {\n",
              "          const element = document.querySelector('#df-9c7cd204-d9b0-4e84-88e1-7e96d04a7902');\n",
              "          const dataTable =\n",
              "            await google.colab.kernel.invokeFunction('convertToInteractive',\n",
              "                                                     [key], {});\n",
              "          if (!dataTable) return;\n",
              "\n",
              "          const docLinkHtml = 'Like what you see? Visit the ' +\n",
              "            '<a target=\"_blank\" href=https://colab.research.google.com/notebooks/data_table.ipynb>data table notebook</a>'\n",
              "            + ' to learn more about interactive tables.';\n",
              "          element.innerHTML = '';\n",
              "          dataTable['output_type'] = 'display_data';\n",
              "          await google.colab.output.renderOutput(dataTable, element);\n",
              "          const docLink = document.createElement('div');\n",
              "          docLink.innerHTML = docLinkHtml;\n",
              "          element.appendChild(docLink);\n",
              "        }\n",
              "      </script>\n",
              "    </div>\n",
              "  </div>\n",
              "  "
            ]
          },
          "metadata": {},
          "execution_count": 7
        }
      ],
      "source": [
        "data.drop(columns_not_needed,axis=1,inplace=True)\n",
        "data.head()"
      ]
    },
    {
      "cell_type": "code",
      "execution_count": null,
      "metadata": {
        "id": "8TFRiTmVLLgp"
      },
      "outputs": [],
      "source": [
        "data.rename(columns = {'main.disorder':'main_disorder'}, inplace = True)\n",
        "data.rename(columns = {'specific.disorder':'specific_disoder'}, inplace = True)"
      ]
    },
    {
      "cell_type": "code",
      "execution_count": null,
      "metadata": {
        "colab": {
          "base_uri": "https://localhost:8080/"
        },
        "id": "H4vybOWtKqn2",
        "outputId": "cc1616fe-0637-4b7f-af6f-09dcfab0bcb1"
      },
      "outputs": [
        {
          "output_type": "execute_result",
          "data": {
            "text/plain": [
              "['Addictive disorder',\n",
              " 'Trauma and stress related disorder',\n",
              " 'Mood disorder',\n",
              " 'Healthy control',\n",
              " 'Obsessive compulsive disorder',\n",
              " 'Schizophrenia',\n",
              " 'Anxiety disorder']"
            ]
          },
          "metadata": {},
          "execution_count": 9
        }
      ],
      "source": [
        "main_disorders = list(data.main_disorder.unique())\n",
        "main_disorders"
      ]
    },
    {
      "cell_type": "code",
      "execution_count": null,
      "metadata": {
        "colab": {
          "base_uri": "https://localhost:8080/"
        },
        "id": "V3alE4OfLoS_",
        "outputId": "39c0887f-4633-46a2-a2a3-23599f4a9945"
      },
      "outputs": [
        {
          "output_type": "execute_result",
          "data": {
            "text/plain": [
              "['Alcohol use disorder',\n",
              " 'Acute stress disorder',\n",
              " 'Depressive disorder',\n",
              " 'Healthy control',\n",
              " 'Behavioral addiction disorder',\n",
              " 'Obsessive compulsitve disorder',\n",
              " 'Schizophrenia',\n",
              " 'Panic disorder',\n",
              " 'Social anxiety disorder',\n",
              " 'Posttraumatic stress disorder',\n",
              " 'Adjustment disorder',\n",
              " 'Bipolar disorder']"
            ]
          },
          "metadata": {},
          "execution_count": 10
        }
      ],
      "source": [
        "specific_disoders = list(data.specific_disoder.unique())\n",
        "specific_disoders"
      ]
    },
    {
      "cell_type": "markdown",
      "metadata": {
        "id": "aagTDO7_JAQS"
      },
      "source": [
        "### Check and remove null values"
      ]
    },
    {
      "cell_type": "code",
      "execution_count": null,
      "metadata": {
        "colab": {
          "base_uri": "https://localhost:8080/"
        },
        "id": "HUDdkkwLIQ2A",
        "outputId": "677af8e1-2154-4873-8751-afd58c5c27a7"
      },
      "outputs": [
        {
          "output_type": "execute_result",
          "data": {
            "text/plain": [
              "1"
            ]
          },
          "metadata": {},
          "execution_count": 11
        }
      ],
      "source": [
        "features_with_null=list(data.columns[data.isna().any()])\n",
        "len(features_with_null)"
      ]
    },
    {
      "cell_type": "code",
      "execution_count": null,
      "metadata": {
        "colab": {
          "base_uri": "https://localhost:8080/"
        },
        "id": "J8QWLX6IJK-P",
        "outputId": "6935d6d0-7b21-48dc-de51-fbf0c59e8150"
      },
      "outputs": [
        {
          "output_type": "execute_result",
          "data": {
            "text/plain": [
              "(945, 1142)"
            ]
          },
          "metadata": {},
          "execution_count": 12
        }
      ],
      "source": [
        "data.drop(features_with_null,axis=1,inplace=True)\n",
        "data.shape"
      ]
    },
    {
      "cell_type": "markdown",
      "metadata": {
        "id": "91WfOyVHLcRa"
      },
      "source": [
        "### Obtaining data on mood disorders and depression"
      ]
    },
    {
      "cell_type": "code",
      "execution_count": null,
      "metadata": {
        "colab": {
          "base_uri": "https://localhost:8080/",
          "height": 386
        },
        "id": "Zu9Fr_YPNOfw",
        "outputId": "a7bc6f34-ee75-4831-a12d-630bc9e33d18"
      },
      "outputs": [
        {
          "output_type": "execute_result",
          "data": {
            "text/plain": [
              "        main_disorder      specific_disoder  AB.A.delta.a.FP1  \\\n",
              "0  Addictive disorder  Alcohol use disorder         35.998557   \n",
              "1  Addictive disorder  Alcohol use disorder         13.425118   \n",
              "2  Addictive disorder  Alcohol use disorder         29.941780   \n",
              "3  Addictive disorder  Alcohol use disorder         21.496226   \n",
              "4  Addictive disorder  Alcohol use disorder         37.775667   \n",
              "\n",
              "   AB.A.delta.b.FP2  AB.A.delta.c.F7  AB.A.delta.d.F3  AB.A.delta.e.Fz  \\\n",
              "0         21.717375        21.518280        26.825048        26.611516   \n",
              "1         11.002916        11.942516        15.272216        14.151570   \n",
              "2         27.544684        17.150159        23.608960        27.087811   \n",
              "3         21.846832        17.364316        13.833701        14.100954   \n",
              "4         33.607679        21.865556        21.771413        22.854536   \n",
              "\n",
              "   AB.A.delta.f.F4  AB.A.delta.g.F8  AB.A.delta.h.T3  ...  \\\n",
              "0        25.732649        16.563408        29.891368  ...   \n",
              "1        12.456034         8.436832         9.975238  ...   \n",
              "2        13.541237        16.523963        12.775574  ...   \n",
              "3        13.100939        14.613650         8.063191  ...   \n",
              "4        21.456377        15.969042         9.434306  ...   \n",
              "\n",
              "   COH.F.gamma.o.Pz.p.P4  COH.F.gamma.o.Pz.q.T6  COH.F.gamma.o.Pz.r.O1  \\\n",
              "0              55.989192              16.739679              23.452271   \n",
              "1              45.595619              17.510824              26.777368   \n",
              "2              99.475453              70.654171              39.131547   \n",
              "3              59.986561              63.822201              36.478254   \n",
              "4              61.462720              59.166097              51.465531   \n",
              "\n",
              "   COH.F.gamma.o.Pz.s.O2  COH.F.gamma.p.P4.q.T6  COH.F.gamma.p.P4.r.O1  \\\n",
              "0              45.678820              30.167520              16.918761   \n",
              "1              28.201062              57.108861              32.375401   \n",
              "2              69.920996              71.063644              38.534505   \n",
              "3              47.117006              84.658376              24.724096   \n",
              "4              58.635415              80.685608              62.138436   \n",
              "\n",
              "   COH.F.gamma.p.P4.s.O2  COH.F.gamma.q.T6.r.O1  COH.F.gamma.q.T6.s.O2  \\\n",
              "0              48.850427               9.422630              34.507082   \n",
              "1              60.351749              13.900981              57.831848   \n",
              "2              69.908764              27.180532              64.803155   \n",
              "3              50.299349              35.319695              79.822944   \n",
              "4              75.888749              61.003944              87.455509   \n",
              "\n",
              "   COH.F.gamma.r.O1.s.O2  \n",
              "0              28.613029  \n",
              "1              43.463261  \n",
              "2              31.485799  \n",
              "3              41.141873  \n",
              "4              70.531662  \n",
              "\n",
              "[5 rows x 1142 columns]"
            ],
            "text/html": [
              "\n",
              "  <div id=\"df-23b515f1-af89-4613-8992-a92a1cbb4c7d\">\n",
              "    <div class=\"colab-df-container\">\n",
              "      <div>\n",
              "<style scoped>\n",
              "    .dataframe tbody tr th:only-of-type {\n",
              "        vertical-align: middle;\n",
              "    }\n",
              "\n",
              "    .dataframe tbody tr th {\n",
              "        vertical-align: top;\n",
              "    }\n",
              "\n",
              "    .dataframe thead th {\n",
              "        text-align: right;\n",
              "    }\n",
              "</style>\n",
              "<table border=\"1\" class=\"dataframe\">\n",
              "  <thead>\n",
              "    <tr style=\"text-align: right;\">\n",
              "      <th></th>\n",
              "      <th>main_disorder</th>\n",
              "      <th>specific_disoder</th>\n",
              "      <th>AB.A.delta.a.FP1</th>\n",
              "      <th>AB.A.delta.b.FP2</th>\n",
              "      <th>AB.A.delta.c.F7</th>\n",
              "      <th>AB.A.delta.d.F3</th>\n",
              "      <th>AB.A.delta.e.Fz</th>\n",
              "      <th>AB.A.delta.f.F4</th>\n",
              "      <th>AB.A.delta.g.F8</th>\n",
              "      <th>AB.A.delta.h.T3</th>\n",
              "      <th>...</th>\n",
              "      <th>COH.F.gamma.o.Pz.p.P4</th>\n",
              "      <th>COH.F.gamma.o.Pz.q.T6</th>\n",
              "      <th>COH.F.gamma.o.Pz.r.O1</th>\n",
              "      <th>COH.F.gamma.o.Pz.s.O2</th>\n",
              "      <th>COH.F.gamma.p.P4.q.T6</th>\n",
              "      <th>COH.F.gamma.p.P4.r.O1</th>\n",
              "      <th>COH.F.gamma.p.P4.s.O2</th>\n",
              "      <th>COH.F.gamma.q.T6.r.O1</th>\n",
              "      <th>COH.F.gamma.q.T6.s.O2</th>\n",
              "      <th>COH.F.gamma.r.O1.s.O2</th>\n",
              "    </tr>\n",
              "  </thead>\n",
              "  <tbody>\n",
              "    <tr>\n",
              "      <th>0</th>\n",
              "      <td>Addictive disorder</td>\n",
              "      <td>Alcohol use disorder</td>\n",
              "      <td>35.998557</td>\n",
              "      <td>21.717375</td>\n",
              "      <td>21.518280</td>\n",
              "      <td>26.825048</td>\n",
              "      <td>26.611516</td>\n",
              "      <td>25.732649</td>\n",
              "      <td>16.563408</td>\n",
              "      <td>29.891368</td>\n",
              "      <td>...</td>\n",
              "      <td>55.989192</td>\n",
              "      <td>16.739679</td>\n",
              "      <td>23.452271</td>\n",
              "      <td>45.678820</td>\n",
              "      <td>30.167520</td>\n",
              "      <td>16.918761</td>\n",
              "      <td>48.850427</td>\n",
              "      <td>9.422630</td>\n",
              "      <td>34.507082</td>\n",
              "      <td>28.613029</td>\n",
              "    </tr>\n",
              "    <tr>\n",
              "      <th>1</th>\n",
              "      <td>Addictive disorder</td>\n",
              "      <td>Alcohol use disorder</td>\n",
              "      <td>13.425118</td>\n",
              "      <td>11.002916</td>\n",
              "      <td>11.942516</td>\n",
              "      <td>15.272216</td>\n",
              "      <td>14.151570</td>\n",
              "      <td>12.456034</td>\n",
              "      <td>8.436832</td>\n",
              "      <td>9.975238</td>\n",
              "      <td>...</td>\n",
              "      <td>45.595619</td>\n",
              "      <td>17.510824</td>\n",
              "      <td>26.777368</td>\n",
              "      <td>28.201062</td>\n",
              "      <td>57.108861</td>\n",
              "      <td>32.375401</td>\n",
              "      <td>60.351749</td>\n",
              "      <td>13.900981</td>\n",
              "      <td>57.831848</td>\n",
              "      <td>43.463261</td>\n",
              "    </tr>\n",
              "    <tr>\n",
              "      <th>2</th>\n",
              "      <td>Addictive disorder</td>\n",
              "      <td>Alcohol use disorder</td>\n",
              "      <td>29.941780</td>\n",
              "      <td>27.544684</td>\n",
              "      <td>17.150159</td>\n",
              "      <td>23.608960</td>\n",
              "      <td>27.087811</td>\n",
              "      <td>13.541237</td>\n",
              "      <td>16.523963</td>\n",
              "      <td>12.775574</td>\n",
              "      <td>...</td>\n",
              "      <td>99.475453</td>\n",
              "      <td>70.654171</td>\n",
              "      <td>39.131547</td>\n",
              "      <td>69.920996</td>\n",
              "      <td>71.063644</td>\n",
              "      <td>38.534505</td>\n",
              "      <td>69.908764</td>\n",
              "      <td>27.180532</td>\n",
              "      <td>64.803155</td>\n",
              "      <td>31.485799</td>\n",
              "    </tr>\n",
              "    <tr>\n",
              "      <th>3</th>\n",
              "      <td>Addictive disorder</td>\n",
              "      <td>Alcohol use disorder</td>\n",
              "      <td>21.496226</td>\n",
              "      <td>21.846832</td>\n",
              "      <td>17.364316</td>\n",
              "      <td>13.833701</td>\n",
              "      <td>14.100954</td>\n",
              "      <td>13.100939</td>\n",
              "      <td>14.613650</td>\n",
              "      <td>8.063191</td>\n",
              "      <td>...</td>\n",
              "      <td>59.986561</td>\n",
              "      <td>63.822201</td>\n",
              "      <td>36.478254</td>\n",
              "      <td>47.117006</td>\n",
              "      <td>84.658376</td>\n",
              "      <td>24.724096</td>\n",
              "      <td>50.299349</td>\n",
              "      <td>35.319695</td>\n",
              "      <td>79.822944</td>\n",
              "      <td>41.141873</td>\n",
              "    </tr>\n",
              "    <tr>\n",
              "      <th>4</th>\n",
              "      <td>Addictive disorder</td>\n",
              "      <td>Alcohol use disorder</td>\n",
              "      <td>37.775667</td>\n",
              "      <td>33.607679</td>\n",
              "      <td>21.865556</td>\n",
              "      <td>21.771413</td>\n",
              "      <td>22.854536</td>\n",
              "      <td>21.456377</td>\n",
              "      <td>15.969042</td>\n",
              "      <td>9.434306</td>\n",
              "      <td>...</td>\n",
              "      <td>61.462720</td>\n",
              "      <td>59.166097</td>\n",
              "      <td>51.465531</td>\n",
              "      <td>58.635415</td>\n",
              "      <td>80.685608</td>\n",
              "      <td>62.138436</td>\n",
              "      <td>75.888749</td>\n",
              "      <td>61.003944</td>\n",
              "      <td>87.455509</td>\n",
              "      <td>70.531662</td>\n",
              "    </tr>\n",
              "  </tbody>\n",
              "</table>\n",
              "<p>5 rows × 1142 columns</p>\n",
              "</div>\n",
              "      <button class=\"colab-df-convert\" onclick=\"convertToInteractive('df-23b515f1-af89-4613-8992-a92a1cbb4c7d')\"\n",
              "              title=\"Convert this dataframe to an interactive table.\"\n",
              "              style=\"display:none;\">\n",
              "        \n",
              "  <svg xmlns=\"http://www.w3.org/2000/svg\" height=\"24px\"viewBox=\"0 0 24 24\"\n",
              "       width=\"24px\">\n",
              "    <path d=\"M0 0h24v24H0V0z\" fill=\"none\"/>\n",
              "    <path d=\"M18.56 5.44l.94 2.06.94-2.06 2.06-.94-2.06-.94-.94-2.06-.94 2.06-2.06.94zm-11 1L8.5 8.5l.94-2.06 2.06-.94-2.06-.94L8.5 2.5l-.94 2.06-2.06.94zm10 10l.94 2.06.94-2.06 2.06-.94-2.06-.94-.94-2.06-.94 2.06-2.06.94z\"/><path d=\"M17.41 7.96l-1.37-1.37c-.4-.4-.92-.59-1.43-.59-.52 0-1.04.2-1.43.59L10.3 9.45l-7.72 7.72c-.78.78-.78 2.05 0 2.83L4 21.41c.39.39.9.59 1.41.59.51 0 1.02-.2 1.41-.59l7.78-7.78 2.81-2.81c.8-.78.8-2.07 0-2.86zM5.41 20L4 18.59l7.72-7.72 1.47 1.35L5.41 20z\"/>\n",
              "  </svg>\n",
              "      </button>\n",
              "      \n",
              "  <style>\n",
              "    .colab-df-container {\n",
              "      display:flex;\n",
              "      flex-wrap:wrap;\n",
              "      gap: 12px;\n",
              "    }\n",
              "\n",
              "    .colab-df-convert {\n",
              "      background-color: #E8F0FE;\n",
              "      border: none;\n",
              "      border-radius: 50%;\n",
              "      cursor: pointer;\n",
              "      display: none;\n",
              "      fill: #1967D2;\n",
              "      height: 32px;\n",
              "      padding: 0 0 0 0;\n",
              "      width: 32px;\n",
              "    }\n",
              "\n",
              "    .colab-df-convert:hover {\n",
              "      background-color: #E2EBFA;\n",
              "      box-shadow: 0px 1px 2px rgba(60, 64, 67, 0.3), 0px 1px 3px 1px rgba(60, 64, 67, 0.15);\n",
              "      fill: #174EA6;\n",
              "    }\n",
              "\n",
              "    [theme=dark] .colab-df-convert {\n",
              "      background-color: #3B4455;\n",
              "      fill: #D2E3FC;\n",
              "    }\n",
              "\n",
              "    [theme=dark] .colab-df-convert:hover {\n",
              "      background-color: #434B5C;\n",
              "      box-shadow: 0px 1px 3px 1px rgba(0, 0, 0, 0.15);\n",
              "      filter: drop-shadow(0px 1px 2px rgba(0, 0, 0, 0.3));\n",
              "      fill: #FFFFFF;\n",
              "    }\n",
              "  </style>\n",
              "\n",
              "      <script>\n",
              "        const buttonEl =\n",
              "          document.querySelector('#df-23b515f1-af89-4613-8992-a92a1cbb4c7d button.colab-df-convert');\n",
              "        buttonEl.style.display =\n",
              "          google.colab.kernel.accessAllowed ? 'block' : 'none';\n",
              "\n",
              "        async function convertToInteractive(key) {\n",
              "          const element = document.querySelector('#df-23b515f1-af89-4613-8992-a92a1cbb4c7d');\n",
              "          const dataTable =\n",
              "            await google.colab.kernel.invokeFunction('convertToInteractive',\n",
              "                                                     [key], {});\n",
              "          if (!dataTable) return;\n",
              "\n",
              "          const docLinkHtml = 'Like what you see? Visit the ' +\n",
              "            '<a target=\"_blank\" href=https://colab.research.google.com/notebooks/data_table.ipynb>data table notebook</a>'\n",
              "            + ' to learn more about interactive tables.';\n",
              "          element.innerHTML = '';\n",
              "          dataTable['output_type'] = 'display_data';\n",
              "          await google.colab.output.renderOutput(dataTable, element);\n",
              "          const docLink = document.createElement('div');\n",
              "          docLink.innerHTML = docLinkHtml;\n",
              "          element.appendChild(docLink);\n",
              "        }\n",
              "      </script>\n",
              "    </div>\n",
              "  </div>\n",
              "  "
            ]
          },
          "metadata": {},
          "execution_count": 14
        }
      ],
      "source": [
        "data.head()"
      ]
    },
    {
      "cell_type": "code",
      "execution_count": null,
      "metadata": {
        "colab": {
          "base_uri": "https://localhost:8080/"
        },
        "id": "7k-q-Nm8J7wH",
        "outputId": "d6d66689-6f7c-436b-ecc8-14462657c6e8"
      },
      "outputs": [
        {
          "output_type": "execute_result",
          "data": {
            "text/plain": [
              "(266, 1142)"
            ]
          },
          "metadata": {},
          "execution_count": 15
        }
      ],
      "source": [
        "mood_data = data.loc[data['main_disorder'] == 'Mood disorder']\n",
        "mood_data.shape"
      ]
    },
    {
      "cell_type": "code",
      "execution_count": null,
      "metadata": {
        "colab": {
          "base_uri": "https://localhost:8080/"
        },
        "id": "VBndTE5HNVPJ",
        "outputId": "c175358a-6c32-462a-8cba-be0e847de07b"
      },
      "outputs": [
        {
          "output_type": "execute_result",
          "data": {
            "text/plain": [
              "['Depressive disorder', 'Bipolar disorder']"
            ]
          },
          "metadata": {},
          "execution_count": 16
        }
      ],
      "source": [
        "#Identify how many specific disorders are under mood disorder\n",
        "specific_mood_disoders = list(mood_data.specific_disoder.unique())\n",
        "specific_mood_disoders"
      ]
    },
    {
      "cell_type": "code",
      "execution_count": null,
      "metadata": {
        "colab": {
          "base_uri": "https://localhost:8080/"
        },
        "id": "0TSJBFi9SeG0",
        "outputId": "78ba1898-466b-47fa-cde4-4a3c3c4cfd46"
      },
      "outputs": [
        {
          "output_type": "execute_result",
          "data": {
            "text/plain": [
              "(266, 1142)"
            ]
          },
          "metadata": {},
          "execution_count": 17
        }
      ],
      "source": [
        "mood_data.shape"
      ]
    },
    {
      "cell_type": "markdown",
      "metadata": {
        "id": "VFkIjjB5MgBW"
      },
      "source": [
        "### Encode the dataset"
      ]
    },
    {
      "cell_type": "code",
      "execution_count": null,
      "metadata": {
        "id": "Nf71LD4yNEJG"
      },
      "outputs": [],
      "source": [
        "from sklearn import preprocessing"
      ]
    },
    {
      "cell_type": "code",
      "execution_count": null,
      "metadata": {
        "id": "9t9Tm2rwL_gP"
      },
      "outputs": [],
      "source": [
        "le = preprocessing.LabelEncoder()\n",
        "specific_disorder_encoded = le.fit_transform(mood_data['specific_disoder'])"
      ]
    },
    {
      "cell_type": "code",
      "execution_count": null,
      "metadata": {
        "colab": {
          "base_uri": "https://localhost:8080/"
        },
        "id": "N9DqovE2Ml4s",
        "outputId": "9432ce4d-f1bd-41ad-b1d2-cd1155725ebe"
      },
      "outputs": [
        {
          "output_type": "execute_result",
          "data": {
            "text/plain": [
              "array([1, 1, 1, 1, 1, 1, 1, 1, 1, 1, 1, 1, 1, 1, 1, 1, 1, 1, 1, 1, 1, 1,\n",
              "       1, 1, 1, 1, 1, 1, 1, 1, 1, 1, 0, 1, 1, 1, 1, 0, 1, 0, 1, 0, 0, 1,\n",
              "       1, 1, 1, 1, 1, 1, 0, 0, 1, 1, 1, 1, 1, 1, 1, 1, 1, 1, 0, 0, 1, 1,\n",
              "       1, 1, 1, 1, 1, 0, 1, 1, 0, 1, 1, 1, 1, 1, 1, 1, 0, 1, 0, 0, 1, 0,\n",
              "       1, 1, 1, 0, 0, 0, 1, 0, 1, 0, 1, 1, 0, 0, 1, 1, 1, 1, 0, 1, 0, 1,\n",
              "       0, 1, 0, 1, 1, 1, 1, 0, 0, 0, 0, 0, 1, 1, 1, 1, 1, 0, 1, 1, 1, 0,\n",
              "       1, 1, 1, 0, 1, 1, 1, 1, 0, 1, 1, 1, 1, 1, 1, 0, 1, 1, 1, 0, 0, 1,\n",
              "       1, 0, 0, 1, 0, 1, 0, 0, 1, 0, 1, 1, 1, 1, 1, 0, 1, 1, 1, 1, 1, 1,\n",
              "       1, 1, 1, 0, 1, 0, 1, 1, 0, 1, 1, 0, 0, 0, 1, 1, 1, 1, 1, 0, 1, 1,\n",
              "       1, 1, 1, 1, 1, 1, 0, 1, 1, 0, 1, 1, 1, 0, 1, 1, 1, 1, 1, 1, 1, 1,\n",
              "       1, 1, 0, 1, 0, 1, 1, 1, 0, 1, 1, 1, 1, 0, 1, 0, 1, 1, 1, 0, 0, 1,\n",
              "       1, 1, 1, 1, 0, 1, 1, 0, 1, 0, 1, 1, 1, 0, 1, 1, 1, 1, 1, 1, 0, 1,\n",
              "       1, 1])"
            ]
          },
          "metadata": {},
          "execution_count": 20
        }
      ],
      "source": [
        "specific_disorder_encoded"
      ]
    },
    {
      "cell_type": "code",
      "execution_count": null,
      "metadata": {
        "colab": {
          "base_uri": "https://localhost:8080/",
          "height": 300
        },
        "id": "uFMgYbNGOwRh",
        "outputId": "b56437e8-6d85-45fd-f693-cc2933993717"
      },
      "outputs": [
        {
          "output_type": "execute_result",
          "data": {
            "text/plain": [
              "    main_disorder     specific_disoder  AB.A.delta.a.FP1  AB.A.delta.b.FP2  \\\n",
              "89  Mood disorder  Depressive disorder         12.159137         13.113503   \n",
              "90  Mood disorder  Depressive disorder         12.404484          9.737819   \n",
              "91  Mood disorder  Depressive disorder         16.573145         15.586708   \n",
              "92  Mood disorder  Depressive disorder         26.650019         22.823161   \n",
              "93  Mood disorder  Depressive disorder         14.624474         14.277301   \n",
              "\n",
              "    AB.A.delta.c.F7  AB.A.delta.d.F3  AB.A.delta.e.Fz  AB.A.delta.f.F4  \\\n",
              "89         9.031007        14.879389        15.834830        19.595759   \n",
              "90        13.925651        12.325169        15.130696        10.292518   \n",
              "91        14.094928        12.660197        12.979617        10.611797   \n",
              "92        17.942133        17.148214        15.338128        14.571966   \n",
              "93        11.099375        16.047926        17.851932        17.165379   \n",
              "\n",
              "    AB.A.delta.g.F8  AB.A.delta.h.T3  ...  COH.F.gamma.o.Pz.p.P4  \\\n",
              "89        11.605911         6.084709  ...              65.408894   \n",
              "90        10.263299        11.451697  ...              84.366954   \n",
              "91         8.802664         7.509552  ...              62.681353   \n",
              "92         7.983127        28.158009  ...              86.582363   \n",
              "93        11.682990         6.193040  ...              85.309981   \n",
              "\n",
              "    COH.F.gamma.o.Pz.q.T6  COH.F.gamma.o.Pz.r.O1  COH.F.gamma.o.Pz.s.O2  \\\n",
              "89              59.590594              77.310851              75.280467   \n",
              "90              53.402639              60.535899              73.838548   \n",
              "91              20.062716              36.041763              36.436509   \n",
              "92              83.045735              85.752150              85.875624   \n",
              "93              58.218838              61.211830              65.038486   \n",
              "\n",
              "    COH.F.gamma.p.P4.q.T6  COH.F.gamma.p.P4.r.O1  COH.F.gamma.p.P4.s.O2  \\\n",
              "89              57.311188              48.015594              59.579033   \n",
              "90              72.298636              43.330485              71.298037   \n",
              "91              47.491240              20.875426              53.747615   \n",
              "92              86.286859              79.520327              84.541455   \n",
              "93              76.899037              49.849540              71.791429   \n",
              "\n",
              "    COH.F.gamma.q.T6.r.O1  COH.F.gamma.q.T6.s.O2  COH.F.gamma.r.O1.s.O2  \n",
              "89              68.503920              82.885151              86.986191  \n",
              "90              23.109295              62.098128              67.749204  \n",
              "91               8.009907              50.202188              33.647889  \n",
              "92              82.452224              86.950905              87.384296  \n",
              "93              39.910653              82.739819              62.285969  \n",
              "\n",
              "[5 rows x 1142 columns]"
            ],
            "text/html": [
              "\n",
              "  <div id=\"df-fb5957c3-4618-4349-b470-461bc2fc8aaf\">\n",
              "    <div class=\"colab-df-container\">\n",
              "      <div>\n",
              "<style scoped>\n",
              "    .dataframe tbody tr th:only-of-type {\n",
              "        vertical-align: middle;\n",
              "    }\n",
              "\n",
              "    .dataframe tbody tr th {\n",
              "        vertical-align: top;\n",
              "    }\n",
              "\n",
              "    .dataframe thead th {\n",
              "        text-align: right;\n",
              "    }\n",
              "</style>\n",
              "<table border=\"1\" class=\"dataframe\">\n",
              "  <thead>\n",
              "    <tr style=\"text-align: right;\">\n",
              "      <th></th>\n",
              "      <th>main_disorder</th>\n",
              "      <th>specific_disoder</th>\n",
              "      <th>AB.A.delta.a.FP1</th>\n",
              "      <th>AB.A.delta.b.FP2</th>\n",
              "      <th>AB.A.delta.c.F7</th>\n",
              "      <th>AB.A.delta.d.F3</th>\n",
              "      <th>AB.A.delta.e.Fz</th>\n",
              "      <th>AB.A.delta.f.F4</th>\n",
              "      <th>AB.A.delta.g.F8</th>\n",
              "      <th>AB.A.delta.h.T3</th>\n",
              "      <th>...</th>\n",
              "      <th>COH.F.gamma.o.Pz.p.P4</th>\n",
              "      <th>COH.F.gamma.o.Pz.q.T6</th>\n",
              "      <th>COH.F.gamma.o.Pz.r.O1</th>\n",
              "      <th>COH.F.gamma.o.Pz.s.O2</th>\n",
              "      <th>COH.F.gamma.p.P4.q.T6</th>\n",
              "      <th>COH.F.gamma.p.P4.r.O1</th>\n",
              "      <th>COH.F.gamma.p.P4.s.O2</th>\n",
              "      <th>COH.F.gamma.q.T6.r.O1</th>\n",
              "      <th>COH.F.gamma.q.T6.s.O2</th>\n",
              "      <th>COH.F.gamma.r.O1.s.O2</th>\n",
              "    </tr>\n",
              "  </thead>\n",
              "  <tbody>\n",
              "    <tr>\n",
              "      <th>89</th>\n",
              "      <td>Mood disorder</td>\n",
              "      <td>Depressive disorder</td>\n",
              "      <td>12.159137</td>\n",
              "      <td>13.113503</td>\n",
              "      <td>9.031007</td>\n",
              "      <td>14.879389</td>\n",
              "      <td>15.834830</td>\n",
              "      <td>19.595759</td>\n",
              "      <td>11.605911</td>\n",
              "      <td>6.084709</td>\n",
              "      <td>...</td>\n",
              "      <td>65.408894</td>\n",
              "      <td>59.590594</td>\n",
              "      <td>77.310851</td>\n",
              "      <td>75.280467</td>\n",
              "      <td>57.311188</td>\n",
              "      <td>48.015594</td>\n",
              "      <td>59.579033</td>\n",
              "      <td>68.503920</td>\n",
              "      <td>82.885151</td>\n",
              "      <td>86.986191</td>\n",
              "    </tr>\n",
              "    <tr>\n",
              "      <th>90</th>\n",
              "      <td>Mood disorder</td>\n",
              "      <td>Depressive disorder</td>\n",
              "      <td>12.404484</td>\n",
              "      <td>9.737819</td>\n",
              "      <td>13.925651</td>\n",
              "      <td>12.325169</td>\n",
              "      <td>15.130696</td>\n",
              "      <td>10.292518</td>\n",
              "      <td>10.263299</td>\n",
              "      <td>11.451697</td>\n",
              "      <td>...</td>\n",
              "      <td>84.366954</td>\n",
              "      <td>53.402639</td>\n",
              "      <td>60.535899</td>\n",
              "      <td>73.838548</td>\n",
              "      <td>72.298636</td>\n",
              "      <td>43.330485</td>\n",
              "      <td>71.298037</td>\n",
              "      <td>23.109295</td>\n",
              "      <td>62.098128</td>\n",
              "      <td>67.749204</td>\n",
              "    </tr>\n",
              "    <tr>\n",
              "      <th>91</th>\n",
              "      <td>Mood disorder</td>\n",
              "      <td>Depressive disorder</td>\n",
              "      <td>16.573145</td>\n",
              "      <td>15.586708</td>\n",
              "      <td>14.094928</td>\n",
              "      <td>12.660197</td>\n",
              "      <td>12.979617</td>\n",
              "      <td>10.611797</td>\n",
              "      <td>8.802664</td>\n",
              "      <td>7.509552</td>\n",
              "      <td>...</td>\n",
              "      <td>62.681353</td>\n",
              "      <td>20.062716</td>\n",
              "      <td>36.041763</td>\n",
              "      <td>36.436509</td>\n",
              "      <td>47.491240</td>\n",
              "      <td>20.875426</td>\n",
              "      <td>53.747615</td>\n",
              "      <td>8.009907</td>\n",
              "      <td>50.202188</td>\n",
              "      <td>33.647889</td>\n",
              "    </tr>\n",
              "    <tr>\n",
              "      <th>92</th>\n",
              "      <td>Mood disorder</td>\n",
              "      <td>Depressive disorder</td>\n",
              "      <td>26.650019</td>\n",
              "      <td>22.823161</td>\n",
              "      <td>17.942133</td>\n",
              "      <td>17.148214</td>\n",
              "      <td>15.338128</td>\n",
              "      <td>14.571966</td>\n",
              "      <td>7.983127</td>\n",
              "      <td>28.158009</td>\n",
              "      <td>...</td>\n",
              "      <td>86.582363</td>\n",
              "      <td>83.045735</td>\n",
              "      <td>85.752150</td>\n",
              "      <td>85.875624</td>\n",
              "      <td>86.286859</td>\n",
              "      <td>79.520327</td>\n",
              "      <td>84.541455</td>\n",
              "      <td>82.452224</td>\n",
              "      <td>86.950905</td>\n",
              "      <td>87.384296</td>\n",
              "    </tr>\n",
              "    <tr>\n",
              "      <th>93</th>\n",
              "      <td>Mood disorder</td>\n",
              "      <td>Depressive disorder</td>\n",
              "      <td>14.624474</td>\n",
              "      <td>14.277301</td>\n",
              "      <td>11.099375</td>\n",
              "      <td>16.047926</td>\n",
              "      <td>17.851932</td>\n",
              "      <td>17.165379</td>\n",
              "      <td>11.682990</td>\n",
              "      <td>6.193040</td>\n",
              "      <td>...</td>\n",
              "      <td>85.309981</td>\n",
              "      <td>58.218838</td>\n",
              "      <td>61.211830</td>\n",
              "      <td>65.038486</td>\n",
              "      <td>76.899037</td>\n",
              "      <td>49.849540</td>\n",
              "      <td>71.791429</td>\n",
              "      <td>39.910653</td>\n",
              "      <td>82.739819</td>\n",
              "      <td>62.285969</td>\n",
              "    </tr>\n",
              "  </tbody>\n",
              "</table>\n",
              "<p>5 rows × 1142 columns</p>\n",
              "</div>\n",
              "      <button class=\"colab-df-convert\" onclick=\"convertToInteractive('df-fb5957c3-4618-4349-b470-461bc2fc8aaf')\"\n",
              "              title=\"Convert this dataframe to an interactive table.\"\n",
              "              style=\"display:none;\">\n",
              "        \n",
              "  <svg xmlns=\"http://www.w3.org/2000/svg\" height=\"24px\"viewBox=\"0 0 24 24\"\n",
              "       width=\"24px\">\n",
              "    <path d=\"M0 0h24v24H0V0z\" fill=\"none\"/>\n",
              "    <path d=\"M18.56 5.44l.94 2.06.94-2.06 2.06-.94-2.06-.94-.94-2.06-.94 2.06-2.06.94zm-11 1L8.5 8.5l.94-2.06 2.06-.94-2.06-.94L8.5 2.5l-.94 2.06-2.06.94zm10 10l.94 2.06.94-2.06 2.06-.94-2.06-.94-.94-2.06-.94 2.06-2.06.94z\"/><path d=\"M17.41 7.96l-1.37-1.37c-.4-.4-.92-.59-1.43-.59-.52 0-1.04.2-1.43.59L10.3 9.45l-7.72 7.72c-.78.78-.78 2.05 0 2.83L4 21.41c.39.39.9.59 1.41.59.51 0 1.02-.2 1.41-.59l7.78-7.78 2.81-2.81c.8-.78.8-2.07 0-2.86zM5.41 20L4 18.59l7.72-7.72 1.47 1.35L5.41 20z\"/>\n",
              "  </svg>\n",
              "      </button>\n",
              "      \n",
              "  <style>\n",
              "    .colab-df-container {\n",
              "      display:flex;\n",
              "      flex-wrap:wrap;\n",
              "      gap: 12px;\n",
              "    }\n",
              "\n",
              "    .colab-df-convert {\n",
              "      background-color: #E8F0FE;\n",
              "      border: none;\n",
              "      border-radius: 50%;\n",
              "      cursor: pointer;\n",
              "      display: none;\n",
              "      fill: #1967D2;\n",
              "      height: 32px;\n",
              "      padding: 0 0 0 0;\n",
              "      width: 32px;\n",
              "    }\n",
              "\n",
              "    .colab-df-convert:hover {\n",
              "      background-color: #E2EBFA;\n",
              "      box-shadow: 0px 1px 2px rgba(60, 64, 67, 0.3), 0px 1px 3px 1px rgba(60, 64, 67, 0.15);\n",
              "      fill: #174EA6;\n",
              "    }\n",
              "\n",
              "    [theme=dark] .colab-df-convert {\n",
              "      background-color: #3B4455;\n",
              "      fill: #D2E3FC;\n",
              "    }\n",
              "\n",
              "    [theme=dark] .colab-df-convert:hover {\n",
              "      background-color: #434B5C;\n",
              "      box-shadow: 0px 1px 3px 1px rgba(0, 0, 0, 0.15);\n",
              "      filter: drop-shadow(0px 1px 2px rgba(0, 0, 0, 0.3));\n",
              "      fill: #FFFFFF;\n",
              "    }\n",
              "  </style>\n",
              "\n",
              "      <script>\n",
              "        const buttonEl =\n",
              "          document.querySelector('#df-fb5957c3-4618-4349-b470-461bc2fc8aaf button.colab-df-convert');\n",
              "        buttonEl.style.display =\n",
              "          google.colab.kernel.accessAllowed ? 'block' : 'none';\n",
              "\n",
              "        async function convertToInteractive(key) {\n",
              "          const element = document.querySelector('#df-fb5957c3-4618-4349-b470-461bc2fc8aaf');\n",
              "          const dataTable =\n",
              "            await google.colab.kernel.invokeFunction('convertToInteractive',\n",
              "                                                     [key], {});\n",
              "          if (!dataTable) return;\n",
              "\n",
              "          const docLinkHtml = 'Like what you see? Visit the ' +\n",
              "            '<a target=\"_blank\" href=https://colab.research.google.com/notebooks/data_table.ipynb>data table notebook</a>'\n",
              "            + ' to learn more about interactive tables.';\n",
              "          element.innerHTML = '';\n",
              "          dataTable['output_type'] = 'display_data';\n",
              "          await google.colab.output.renderOutput(dataTable, element);\n",
              "          const docLink = document.createElement('div');\n",
              "          docLink.innerHTML = docLinkHtml;\n",
              "          element.appendChild(docLink);\n",
              "        }\n",
              "      </script>\n",
              "    </div>\n",
              "  </div>\n",
              "  "
            ]
          },
          "metadata": {},
          "execution_count": 21
        }
      ],
      "source": [
        "mood_data.head()"
      ]
    },
    {
      "cell_type": "markdown",
      "metadata": {
        "id": "-Jo0AbOfMjaQ"
      },
      "source": [
        "### Standardize the dataset"
      ]
    },
    {
      "cell_type": "code",
      "execution_count": null,
      "metadata": {
        "colab": {
          "base_uri": "https://localhost:8080/"
        },
        "id": "nz2BAWZZMsD6",
        "outputId": "4b7d52a6-5826-4839-d5d6-58c8ad31e743"
      },
      "outputs": [
        {
          "output_type": "stream",
          "name": "stderr",
          "text": [
            "/usr/local/lib/python3.8/dist-packages/pandas/core/frame.py:4906: SettingWithCopyWarning: \n",
            "A value is trying to be set on a copy of a slice from a DataFrame\n",
            "\n",
            "See the caveats in the documentation: https://pandas.pydata.org/pandas-docs/stable/user_guide/indexing.html#returning-a-view-versus-a-copy\n",
            "  return super().drop(\n"
          ]
        }
      ],
      "source": [
        "non_features = ['main_disorder','specific_disoder']\n",
        "mood_data.drop(non_features,axis=1,inplace= True)"
      ]
    },
    {
      "cell_type": "code",
      "execution_count": null,
      "metadata": {
        "id": "21BZljsuPrgZ"
      },
      "outputs": [],
      "source": [
        "features = mood_data.to_numpy()"
      ]
    },
    {
      "cell_type": "code",
      "execution_count": null,
      "metadata": {
        "id": "y1yFvKV2KXtU"
      },
      "outputs": [],
      "source": [
        "#Specifying the target\n",
        "y = specific_disorder_encoded\n",
        "#Specify the features\n",
        "X = preprocessing.StandardScaler().fit_transform(features)"
      ]
    },
    {
      "cell_type": "markdown",
      "metadata": {
        "id": "gRvhIXA0kXSh"
      },
      "source": [
        "## Using features with MDD characteristics\n",
        "The following EEG rythms will be used:\n",
        "EEG rhythms: δ rhythm (0 - 4Hz), θ\n",
        "rhythm (4 - 8Hz), α rhythm (8 - 16Hz), β rhythm (16 - 32Hz).\n",
        "These waveforms have been the best identifiers for diagnosing MDD in patients."
      ]
    },
    {
      "cell_type": "code",
      "execution_count": null,
      "metadata": {
        "colab": {
          "base_uri": "https://localhost:8080/"
        },
        "id": "ImOXu91YlWAA",
        "outputId": "fe0738ee-38c0-4df2-e055-4b5d18d40917"
      },
      "outputs": [
        {
          "output_type": "stream",
          "name": "stdout",
          "text": [
            "1140\n"
          ]
        }
      ],
      "source": [
        "print(len(mood_data.columns))"
      ]
    },
    {
      "cell_type": "code",
      "execution_count": null,
      "metadata": {
        "colab": {
          "base_uri": "https://localhost:8080/"
        },
        "id": "FcBdi4a9lHmt",
        "outputId": "00ff0b91-6162-4210-dcba-a881bec1e5c4"
      },
      "outputs": [
        {
          "output_type": "stream",
          "name": "stdout",
          "text": [
            "Number of Delta Columns : 190\n",
            "Number of Beta Columns : 380\n",
            "Number of Theta Columns : 190\n",
            "Number of Alpha Columns : 190\n"
          ]
        }
      ],
      "source": [
        "delta_cols = [col for col in mood_data.columns if 'delta' in col]\n",
        "beta_cols = [col for col in mood_data.columns if 'beta' in col]\n",
        "theta_cols = [col for col in mood_data.columns if 'theta' in col]\n",
        "alpha_cols = [col for col in mood_data.columns if 'alpha' in col]\n",
        "\n",
        "print(f\"Number of Delta Columns : {len(delta_cols)}\")\n",
        "print(f\"Number of Beta Columns : {len(beta_cols)}\")\n",
        "print(f\"Number of Theta Columns : {len(theta_cols)}\")\n",
        "print(f\"Number of Alpha Columns : {len(alpha_cols)}\")\n"
      ]
    },
    {
      "cell_type": "code",
      "execution_count": null,
      "metadata": {
        "colab": {
          "base_uri": "https://localhost:8080/"
        },
        "id": "nTlTYtKjotrL",
        "outputId": "31ad7ba5-2e0d-4f96-9fb1-fdbd5fe502f6"
      },
      "outputs": [
        {
          "output_type": "stream",
          "name": "stdout",
          "text": [
            "Number of items in temp_features : 950\n"
          ]
        }
      ],
      "source": [
        "temp_features = delta_cols + beta_cols +theta_cols + alpha_cols\n",
        "print(f\"Number of items in temp_features : {len(temp_features)}\")"
      ]
    },
    {
      "cell_type": "code",
      "execution_count": null,
      "metadata": {
        "id": "SXdxiTKkpfA5"
      },
      "outputs": [],
      "source": [
        "req_features = mood_data[temp_features].to_numpy()"
      ]
    },
    {
      "cell_type": "code",
      "execution_count": null,
      "metadata": {
        "id": "ei3znjorpwdU"
      },
      "outputs": [],
      "source": [
        "#Specifying the target\n",
        "y = specific_disorder_encoded\n",
        "#Specify the features\n",
        "X = preprocessing.StandardScaler().fit_transform(req_features)\n"
      ]
    },
    {
      "cell_type": "code",
      "execution_count": null,
      "metadata": {
        "colab": {
          "base_uri": "https://localhost:8080/"
        },
        "id": "PH-GUfnyfKkw",
        "outputId": "b9e9ee4b-82b5-4685-859d-70fa9bb5b7a9"
      },
      "outputs": [
        {
          "output_type": "stream",
          "name": "stdout",
          "text": [
            "(266, 950)\n",
            "(266,)\n"
          ]
        }
      ],
      "source": [
        "print(X.shape)\n",
        "print(y.shape)"
      ]
    },
    {
      "cell_type": "markdown",
      "metadata": {
        "id": "p23ZAuhvKSkd"
      },
      "source": [
        "## Classification"
      ]
    },
    {
      "cell_type": "markdown",
      "metadata": {
        "id": "4h-n8PGuQy8M"
      },
      "source": [
        "### Splitting the data"
      ]
    },
    {
      "cell_type": "code",
      "execution_count": null,
      "metadata": {
        "colab": {
          "base_uri": "https://localhost:8080/"
        },
        "id": "F-AH4hdgQv38",
        "outputId": "466d7215-5c25-42a1-bd3c-b57cd93a4cfb"
      },
      "outputs": [
        {
          "output_type": "stream",
          "name": "stdout",
          "text": [
            "X_train shape: (186, 950)\n",
            "X_test shape: (80, 950)\n",
            "y_train shape: (186,)\n",
            "y_test shape: (80,)\n"
          ]
        }
      ],
      "source": [
        "#set aside 25% of train and test data \n",
        "from sklearn.model_selection import train_test_split\n",
        "\n",
        "X_train, X_test, y_train, y_test = train_test_split(X,y, test_size = 0.3, shuffle = True, random_state=8)\n",
        "\n",
        "#set aside 20% for validation\n",
        "#X_train, X_val, y_train, y_val = train_test_split(X_train,y_train, test_size = 0.20, shuffle = True,random_state=8)\n",
        "\n",
        "print(\"X_train shape: {}\".format(X_train.shape))\n",
        "print(\"X_test shape: {}\".format(X_test.shape))\n",
        "print(\"y_train shape: {}\".format(y_train.shape))\n",
        "print(\"y_test shape: {}\".format(y_test.shape))\n",
        "\n"
      ]
    },
    {
      "cell_type": "markdown",
      "metadata": {
        "id": "XRE00K3cKYd6"
      },
      "source": [
        "### Building the KNN Classifier"
      ]
    },
    {
      "cell_type": "code",
      "execution_count": null,
      "metadata": {
        "id": "X_vzaDI1M9z0"
      },
      "outputs": [],
      "source": [
        "from sklearn.neighbors import KNeighborsClassifier"
      ]
    },
    {
      "cell_type": "code",
      "execution_count": null,
      "metadata": {
        "id": "dxGB1_GXNHGO"
      },
      "outputs": [],
      "source": [
        "knn_model = KNeighborsClassifier(n_neighbors = 5)"
      ]
    },
    {
      "cell_type": "code",
      "execution_count": null,
      "metadata": {
        "colab": {
          "base_uri": "https://localhost:8080/"
        },
        "id": "peKAZaZZLdMX",
        "outputId": "0d1c303e-176a-4c02-bccf-45cfbb8f5bd3"
      },
      "outputs": [
        {
          "output_type": "execute_result",
          "data": {
            "text/plain": [
              "KNeighborsClassifier()"
            ]
          },
          "metadata": {},
          "execution_count": 78
        }
      ],
      "source": [
        "knn_model.fit(X_train,y_train)"
      ]
    },
    {
      "cell_type": "code",
      "execution_count": null,
      "metadata": {
        "id": "J6CJR3BIQdzw"
      },
      "outputs": [],
      "source": [
        "y_pred = knn_model.predict(X_test)"
      ]
    },
    {
      "cell_type": "markdown",
      "metadata": {
        "id": "sck0qFXQRxd6"
      },
      "source": [
        "## Model Evaluation"
      ]
    },
    {
      "cell_type": "markdown",
      "metadata": {
        "id": "6MRumoinBDrl"
      },
      "source": [
        "### Accuracy Scores"
      ]
    },
    {
      "cell_type": "code",
      "execution_count": null,
      "metadata": {
        "id": "_Q6f51AdRzy0"
      },
      "outputs": [],
      "source": [
        "from sklearn import metrics"
      ]
    },
    {
      "cell_type": "code",
      "execution_count": null,
      "metadata": {
        "colab": {
          "base_uri": "https://localhost:8080/"
        },
        "id": "wrpBhRa4ei2l",
        "outputId": "e85e379d-b999-43a2-e5a3-5492a7602078"
      },
      "outputs": [
        {
          "output_type": "stream",
          "name": "stdout",
          "text": [
            "Accuracy is 0.6625  when k = 5\n"
          ]
        }
      ],
      "source": [
        "print(\"Accuracy is\",metrics.accuracy_score(y_test,y_pred),\" when k = 5\")"
      ]
    },
    {
      "cell_type": "code",
      "execution_count": null,
      "metadata": {
        "colab": {
          "base_uri": "https://localhost:8080/"
        },
        "id": "kTQMAaCYR4Jt",
        "outputId": "66096d22-d843-4bf7-da51-a6e8144fb4d1"
      },
      "outputs": [
        {
          "name": "stdout",
          "output_type": "stream",
          "text": [
            "Accuracy is 0.6  when k = 3\n"
          ]
        }
      ],
      "source": [
        "print(\"Accuracy is\",metrics.accuracy_score(y_test,y_pred),\" when k = 3\")"
      ]
    },
    {
      "cell_type": "code",
      "execution_count": null,
      "metadata": {
        "colab": {
          "base_uri": "https://localhost:8080/"
        },
        "id": "PawOECpDFHlf",
        "outputId": "9c1dfb72-9fd1-4034-c46c-d1443e50e918"
      },
      "outputs": [
        {
          "name": "stdout",
          "output_type": "stream",
          "text": [
            "Accuracy is 0.575  when k = 3 using the trimmed waveforms(theta,alpha,delta,beta)\n"
          ]
        }
      ],
      "source": [
        "print(\"Accuracy is\",metrics.accuracy_score(y_test,y_pred),\" when k = 3 using the trimmed waveforms(theta,alpha,delta,beta)\")"
      ]
    },
    {
      "cell_type": "code",
      "execution_count": null,
      "metadata": {
        "colab": {
          "base_uri": "https://localhost:8080/"
        },
        "id": "F8u4PRY5SVxi",
        "outputId": "93b2f6e7-6b86-4d6b-88f6-32405442ac9f"
      },
      "outputs": [
        {
          "name": "stdout",
          "output_type": "stream",
          "text": [
            "Accuracy is 0.7375  when k = 5\n"
          ]
        }
      ],
      "source": [
        "print(\"Accuracy is\",metrics.accuracy_score(y_test,y_pred),\" when k = 5\")"
      ]
    },
    {
      "cell_type": "code",
      "execution_count": null,
      "metadata": {
        "colab": {
          "base_uri": "https://localhost:8080/"
        },
        "id": "5zZADtEdqG7S",
        "outputId": "63190ebf-5f5e-4b0f-aff5-a19398ac33b3"
      },
      "outputs": [
        {
          "name": "stdout",
          "output_type": "stream",
          "text": [
            "Accuracy is 0.6567164179104478  when k = 5 using the trimmed waveforms(theta,alpha,delta,beta)\n"
          ]
        }
      ],
      "source": [
        "print(\"Accuracy is\",metrics.accuracy_score(y_test,y_pred),\" when k = 5 using the trimmed waveforms(theta,alpha,delta,beta)\")"
      ]
    },
    {
      "cell_type": "code",
      "execution_count": null,
      "metadata": {
        "colab": {
          "base_uri": "https://localhost:8080/"
        },
        "id": "arIC9AIbSaNR",
        "outputId": "f9b3c56b-048d-4e97-beb2-42be44fb6696"
      },
      "outputs": [
        {
          "name": "stdout",
          "output_type": "stream",
          "text": [
            "Accuracy is 0.7625  when k = 7\n"
          ]
        }
      ],
      "source": [
        "print(\"Accuracy is\",metrics.accuracy_score(y_test,y_pred),\" when k = 7\")"
      ]
    },
    {
      "cell_type": "code",
      "execution_count": null,
      "metadata": {
        "colab": {
          "base_uri": "https://localhost:8080/"
        },
        "id": "MrgjPPXrFPO_",
        "outputId": "df09894e-2b4a-4d55-8cf3-889618b10f3e"
      },
      "outputs": [
        {
          "name": "stdout",
          "output_type": "stream",
          "text": [
            "Accuracy is 0.675  when k = 7 using the trimmed waveforms(theta,alpha,delta,beta)\n"
          ]
        }
      ],
      "source": [
        "print(\"Accuracy is\",metrics.accuracy_score(y_test,y_pred),\" when k = 7 using the trimmed waveforms(theta,alpha,delta,beta)\")"
      ]
    },
    {
      "cell_type": "markdown",
      "metadata": {
        "id": "dgfCpOCHfp7o"
      },
      "source": [
        "### Confusion Matrices"
      ]
    },
    {
      "cell_type": "code",
      "execution_count": null,
      "metadata": {
        "id": "c0EXVq_KVhtp"
      },
      "outputs": [],
      "source": [
        "from sklearn.metrics import confusion_matrix,classification_report"
      ]
    },
    {
      "cell_type": "code",
      "execution_count": null,
      "metadata": {
        "colab": {
          "base_uri": "https://localhost:8080/"
        },
        "id": "IDPoIYmeVqSx",
        "outputId": "f8c43792-4b6e-4658-e3a8-4de51d7eaac8"
      },
      "outputs": [
        {
          "name": "stdout",
          "output_type": "stream",
          "text": [
            "[[ 1 15]\n",
            " [ 8 43]]\n"
          ]
        }
      ],
      "source": [
        "print(confusion_matrix(y_test,y_pred))"
      ]
    },
    {
      "cell_type": "code",
      "execution_count": null,
      "metadata": {
        "colab": {
          "base_uri": "https://localhost:8080/"
        },
        "id": "-DpNAFapV-_Y",
        "outputId": "58a9bbce-d866-4096-c6b9-c917f2b534ec"
      },
      "outputs": [
        {
          "name": "stdout",
          "output_type": "stream",
          "text": [
            "              precision    recall  f1-score   support\n",
            "\n",
            "           0       0.11      0.06      0.08        16\n",
            "           1       0.74      0.84      0.79        51\n",
            "\n",
            "    accuracy                           0.66        67\n",
            "   macro avg       0.43      0.45      0.43        67\n",
            "weighted avg       0.59      0.66      0.62        67\n",
            "\n"
          ]
        }
      ],
      "source": [
        "print(classification_report(y_test,y_pred))"
      ]
    },
    {
      "cell_type": "markdown",
      "metadata": {
        "id": "QiN-x1qbRS07"
      },
      "source": [
        "## Feature Extraction and Normalisation\n",
        "\n",
        "To increase model accuracy, feature extraction is performed\n"
      ]
    },
    {
      "cell_type": "markdown",
      "metadata": {
        "id": "Ch-7Q0mQYSkD"
      },
      "source": [
        "### Independent Component Analysis (ICA)"
      ]
    },
    {
      "cell_type": "code",
      "execution_count": null,
      "metadata": {
        "id": "Z0nEGqF7OGVS"
      },
      "outputs": [],
      "source": [
        "#FE using ICA\n",
        "from sklearn.decomposition import FastICA\n",
        "\n",
        "ica = FastICA(n_components=3)\n",
        "X_ica = ica.fit_transform(X_train)"
      ]
    },
    {
      "cell_type": "code",
      "execution_count": null,
      "metadata": {
        "colab": {
          "base_uri": "https://localhost:8080/"
        },
        "id": "b_FrBBTpgdL3",
        "outputId": "6e38ee45-95b8-493e-81ae-ccc9f23e2eaa"
      },
      "outputs": [
        {
          "output_type": "execute_result",
          "data": {
            "text/plain": [
              "(80, 3)"
            ]
          },
          "metadata": {},
          "execution_count": 54
        }
      ],
      "source": [
        "x_ica_test = ica.fit_transform(X_test)\n",
        "x_ica_test.shape"
      ]
    },
    {
      "cell_type": "code",
      "execution_count": null,
      "metadata": {
        "colab": {
          "base_uri": "https://localhost:8080/"
        },
        "id": "NIQK5IaWWyZI",
        "outputId": "54140dd5-36d2-49fa-a6a9-3af7305a9256"
      },
      "outputs": [
        {
          "output_type": "execute_result",
          "data": {
            "text/plain": [
              "KNeighborsClassifier()"
            ]
          },
          "metadata": {},
          "execution_count": 55
        }
      ],
      "source": [
        "knn_model.fit(X_ica,y_train)"
      ]
    },
    {
      "cell_type": "code",
      "execution_count": null,
      "metadata": {
        "id": "3BQ8cLK5ZE-5"
      },
      "outputs": [],
      "source": [
        "y_pred_ica = knn_model.predict(x_ica_test)"
      ]
    },
    {
      "cell_type": "code",
      "source": [
        "print(\"Accuracy is\",metrics.accuracy_score(y_test,y_pred_ica),\" when ICA is used\")"
      ],
      "metadata": {
        "colab": {
          "base_uri": "https://localhost:8080/"
        },
        "id": "jcsJy2Vzwpk_",
        "outputId": "0f1a8fe3-b790-4f2d-e38f-31c8166896b2"
      },
      "execution_count": null,
      "outputs": [
        {
          "output_type": "stream",
          "name": "stdout",
          "text": [
            "Accuracy is 0.775  when ICA is used\n"
          ]
        }
      ]
    },
    {
      "cell_type": "code",
      "execution_count": null,
      "metadata": {
        "colab": {
          "base_uri": "https://localhost:8080/"
        },
        "id": "9x-auw4lY65V",
        "outputId": "26351583-1311-44fd-c2fa-6dc0199266a3"
      },
      "outputs": [
        {
          "name": "stdout",
          "output_type": "stream",
          "text": [
            "Accuracy is 0.7518796992481203  when ICA is used\n"
          ]
        }
      ],
      "source": [
        "print(\"Accuracy is\",metrics.accuracy_score(y,y_pred_ica),\" when ICA is used\")"
      ]
    },
    {
      "cell_type": "code",
      "execution_count": null,
      "metadata": {
        "colab": {
          "base_uri": "https://localhost:8080/"
        },
        "id": "gnLenDArFg-0",
        "outputId": "a2a2baf9-6530-4e1a-fd60-310ffa6a5bab"
      },
      "outputs": [
        {
          "name": "stdout",
          "output_type": "stream",
          "text": [
            "Accuracy is 0.8308270676691729  when ICA is used using the trimmed waveforms(theta,alpha,delta,beta), k = 3\n"
          ]
        }
      ],
      "source": [
        "print(\"Accuracy is\",metrics.accuracy_score(y,y_pred_ica),\" when ICA is used using the trimmed waveforms(theta,alpha,delta,beta), k = 3\")"
      ]
    },
    {
      "cell_type": "code",
      "execution_count": null,
      "metadata": {
        "colab": {
          "base_uri": "https://localhost:8080/"
        },
        "id": "AOFn9LxcqbGA",
        "outputId": "c1d39db8-4537-41e0-ba42-4594fb7baa2e"
      },
      "outputs": [
        {
          "name": "stdout",
          "output_type": "stream",
          "text": [
            "Accuracy is 0.7669172932330827  when ICA is used using the trimmed waveforms(theta,alpha,delta,beta), k = 5\n"
          ]
        }
      ],
      "source": [
        "print(\"Accuracy is\",metrics.accuracy_score(y,y_pred_ica),\" when ICA is used using the trimmed waveforms(theta,alpha,delta,beta), k = 5\")"
      ]
    },
    {
      "cell_type": "code",
      "execution_count": null,
      "metadata": {
        "colab": {
          "base_uri": "https://localhost:8080/"
        },
        "id": "6JH7ZfInFb_Y",
        "outputId": "7506fb42-ca7f-470b-f133-17d0c545ae50"
      },
      "outputs": [
        {
          "name": "stdout",
          "output_type": "stream",
          "text": [
            "Accuracy is 0.7669172932330827  when ICA is used using the trimmed waveforms(theta,alpha,delta,beta), k = 7\n"
          ]
        }
      ],
      "source": [
        "print(\"Accuracy is\",metrics.accuracy_score(y,y_pred_ica),\" when ICA is used using the trimmed waveforms(theta,alpha,delta,beta), k = 7\")"
      ]
    },
    {
      "cell_type": "code",
      "execution_count": null,
      "metadata": {
        "colab": {
          "base_uri": "https://localhost:8080/"
        },
        "id": "LhPDHlpLYvaW",
        "outputId": "0ab68620-43df-47f7-9c2c-354bdaa61c7a"
      },
      "outputs": [
        {
          "output_type": "stream",
          "name": "stdout",
          "text": [
            "              precision    recall  f1-score   support\n",
            "\n",
            "           0       0.50      0.22      0.31        18\n",
            "           1       0.81      0.94      0.87        62\n",
            "\n",
            "    accuracy                           0.78        80\n",
            "   macro avg       0.65      0.58      0.59        80\n",
            "weighted avg       0.74      0.78      0.74        80\n",
            "\n"
          ]
        }
      ],
      "source": [
        "print(classification_report(y_test,y_pred_ica))"
      ]
    },
    {
      "cell_type": "code",
      "execution_count": null,
      "metadata": {
        "id": "jKpP66YzM0E-",
        "colab": {
          "base_uri": "https://localhost:8080/"
        },
        "outputId": "82a99b62-17e2-4be4-c1e2-7f0958d18f48"
      },
      "outputs": [
        {
          "output_type": "stream",
          "name": "stdout",
          "text": [
            "[[ 4 14]\n",
            " [ 4 58]]\n"
          ]
        }
      ],
      "source": [
        "print(confusion_matrix(y_test,y_pred_ica))"
      ]
    },
    {
      "cell_type": "code",
      "source": [
        "y_pred_ica.shape"
      ],
      "metadata": {
        "id": "xGpsSDFjc51x",
        "outputId": "21a82c67-cda1-4935-9dce-e68525bb6943",
        "colab": {
          "base_uri": "https://localhost:8080/"
        }
      },
      "execution_count": null,
      "outputs": [
        {
          "output_type": "execute_result",
          "data": {
            "text/plain": [
              "(80,)"
            ]
          },
          "metadata": {},
          "execution_count": 113
        }
      ]
    },
    {
      "cell_type": "markdown",
      "metadata": {
        "id": "LnegiFaGbZJP"
      },
      "source": [
        "### Principle Component Analysis"
      ]
    },
    {
      "cell_type": "code",
      "execution_count": null,
      "metadata": {
        "id": "9wHTar_ybfNM"
      },
      "outputs": [],
      "source": [
        "#FE using PCA\n",
        "from sklearn.decomposition import PCA\n",
        "\n",
        "pca = PCA(n_components = 2)\n",
        "x_pca_train = pca.fit_transform(X_train)\n",
        "x_pca_test = pca.fit_transform(X_test)"
      ]
    },
    {
      "cell_type": "code",
      "execution_count": null,
      "metadata": {
        "colab": {
          "base_uri": "https://localhost:8080/"
        },
        "id": "yfMmmvYTf85X",
        "outputId": "90024a47-e325-4c01-c59a-32c1f9c4fa46"
      },
      "outputs": [
        {
          "data": {
            "text/plain": [
              "(266, 2)"
            ]
          },
          "execution_count": 76,
          "metadata": {},
          "output_type": "execute_result"
        }
      ],
      "source": [
        "X_pca.shape"
      ]
    },
    {
      "cell_type": "code",
      "execution_count": null,
      "metadata": {
        "colab": {
          "base_uri": "https://localhost:8080/"
        },
        "id": "FGqCk-oqjSWx",
        "outputId": "fdd0d4cd-6784-4dbe-8475-94990d4b6a47"
      },
      "outputs": [
        {
          "output_type": "execute_result",
          "data": {
            "text/plain": [
              "KNeighborsClassifier()"
            ]
          },
          "metadata": {},
          "execution_count": 59
        }
      ],
      "source": [
        "knn_model.fit(x_pca_train,y_train)"
      ]
    },
    {
      "cell_type": "code",
      "execution_count": null,
      "metadata": {
        "id": "H7FZ6gAnjEPB"
      },
      "outputs": [],
      "source": [
        "y_pred_pca = knn_model.predict(x_pca_test)"
      ]
    },
    {
      "cell_type": "code",
      "source": [
        "print(\"Accuracy is\",metrics.accuracy_score(y_test,y_pred_pca),\" when PCA is used\")"
      ],
      "metadata": {
        "colab": {
          "base_uri": "https://localhost:8080/"
        },
        "id": "8BDmcUq6xIBH",
        "outputId": "4aac1216-119e-48ac-b9ed-961fa1c33d7f"
      },
      "execution_count": null,
      "outputs": [
        {
          "output_type": "stream",
          "name": "stdout",
          "text": [
            "Accuracy is 0.6625  when PCA is used\n"
          ]
        }
      ]
    },
    {
      "cell_type": "code",
      "execution_count": null,
      "metadata": {
        "colab": {
          "base_uri": "https://localhost:8080/"
        },
        "id": "1cqpIOO1jefi",
        "outputId": "0f537e76-cb57-456f-be6a-27e09c60fdeb"
      },
      "outputs": [
        {
          "name": "stdout",
          "output_type": "stream",
          "text": [
            "Accuracy is 0.7819548872180451  when PCA is used\n"
          ]
        }
      ],
      "source": [
        "print(\"Accuracy is\",metrics.accuracy_score(y,y_pred_pca),\" when PCA is used\")"
      ]
    },
    {
      "cell_type": "code",
      "execution_count": null,
      "metadata": {
        "colab": {
          "base_uri": "https://localhost:8080/"
        },
        "id": "uu8kIuCjqlUz",
        "outputId": "350c0072-dbde-4d1f-cdc3-2e4054c4f0f0"
      },
      "outputs": [
        {
          "name": "stdout",
          "output_type": "stream",
          "text": [
            "Accuracy is 0.8082706766917294  when PCA is used using the trimmed waveforms(theta,alpha,delta,beta),k=5\n"
          ]
        }
      ],
      "source": [
        "print(\"Accuracy is\",metrics.accuracy_score(y,y_pred_pca),\" when PCA is used using the trimmed waveforms(theta,alpha,delta,beta),k=5\")"
      ]
    },
    {
      "cell_type": "code",
      "execution_count": null,
      "metadata": {
        "colab": {
          "base_uri": "https://localhost:8080/"
        },
        "id": "Xpuobb5Mi5lO",
        "outputId": "a6d5cabc-32ea-4d3f-94c7-b21999f1213e"
      },
      "outputs": [
        {
          "name": "stdout",
          "output_type": "stream",
          "text": [
            "[[ 29  38]\n",
            " [ 13 186]]\n"
          ]
        }
      ],
      "source": [
        "print(confusion_matrix(y,y_pred_pca))"
      ]
    },
    {
      "cell_type": "code",
      "execution_count": null,
      "metadata": {
        "colab": {
          "base_uri": "https://localhost:8080/"
        },
        "id": "OVNYr4PAiyv6",
        "outputId": "a36cc827-41a8-46bf-820a-3ae7f3031da6"
      },
      "outputs": [
        {
          "name": "stdout",
          "output_type": "stream",
          "text": [
            "              precision    recall  f1-score   support\n",
            "\n",
            "           0       0.69      0.43      0.53        67\n",
            "           1       0.83      0.93      0.88       199\n",
            "\n",
            "    accuracy                           0.81       266\n",
            "   macro avg       0.76      0.68      0.71       266\n",
            "weighted avg       0.80      0.81      0.79       266\n",
            "\n"
          ]
        }
      ],
      "source": [
        "print(classification_report(y,y_pred_pca))"
      ]
    },
    {
      "cell_type": "code",
      "execution_count": null,
      "metadata": {
        "id": "buwD9hk_iWKf"
      },
      "outputs": [],
      "source": []
    },
    {
      "cell_type": "code",
      "source": [],
      "metadata": {
        "id": "OR-tYrthcY1R"
      },
      "execution_count": null,
      "outputs": []
    },
    {
      "cell_type": "markdown",
      "source": [
        "# Additional Data"
      ],
      "metadata": {
        "id": "WohnU0uUcXyo"
      }
    },
    {
      "cell_type": "markdown",
      "metadata": {
        "id": "b8-Jp0AUiviH"
      },
      "source": [
        "## Finding optimum K value"
      ]
    },
    {
      "cell_type": "code",
      "execution_count": null,
      "metadata": {
        "colab": {
          "base_uri": "https://localhost:8080/",
          "height": 340
        },
        "id": "dXehMO5iivEo",
        "outputId": "1d998335-9fd6-4c8a-e7d2-155c71cc07de"
      },
      "outputs": [
        {
          "name": "stderr",
          "output_type": "stream",
          "text": [
            "/usr/local/lib/python3.7/dist-packages/seaborn/_decorators.py:43: FutureWarning: Pass the following variables as keyword args: x, y. From version 0.12, the only valid positional argument will be `data`, and passing other arguments without an explicit keyword will result in an error or misinterpretation.\n",
            "  FutureWarning\n"
          ]
        },
        {
          "data": {
            "text/plain": [
              "<matplotlib.axes._subplots.AxesSubplot at 0x7f3ea5f38a90>"
            ]
          },
          "execution_count": 55,
          "metadata": {},
          "output_type": "execute_result"
        },
        {
          "data": {
            "image/png": "[encoded data removed]",
            "text/plain": [
              "<Figure size 432x288 with 1 Axes>"
            ]
          },
          "metadata": {},
          "output_type": "display_data"
        }
      ],
      "source": [
        "k_values = list(range(1,20))\n",
        "accuracy_list = []\n",
        "for k in k_values:\n",
        "  knn_model = KNeighborsClassifier(n_neighbors = k)\n",
        "  knn_model.fit(X_train,y_train)\n",
        "  y_predy = knn_model.predict(X_test) \n",
        "  accuracy_list.append(metrics.accuracy_score(y_test,y_predy))\n",
        "    \n",
        "# plotting k-value vs accuracy plot\n",
        "sb.barplot(k_values, accuracy_list)"
      ]
    },
    {
      "cell_type": "code",
      "execution_count": null,
      "metadata": {
        "id": "kh3bffKAm4zS"
      },
      "outputs": [],
      "source": [
        "knn_model = KNeighborsClassifier(n_neighbors = 9)\n",
        "knn_model.fit(X_train,y_train)\n",
        "y_predy = knn_model.predict(X_test)\n"
      ]
    },
    {
      "cell_type": "code",
      "execution_count": null,
      "metadata": {
        "colab": {
          "base_uri": "https://localhost:8080/"
        },
        "id": "PLzP621FnBE4",
        "outputId": "69d5e79d-e2d3-40b3-d6d4-cff47f276357"
      },
      "outputs": [
        {
          "name": "stdout",
          "output_type": "stream",
          "text": [
            "[[ 2 11]\n",
            " [ 1 40]]\n"
          ]
        }
      ],
      "source": [
        "print(confusion_matrix(y_test,y_predy))"
      ]
    },
    {
      "cell_type": "code",
      "execution_count": null,
      "metadata": {
        "colab": {
          "base_uri": "https://localhost:8080/",
          "height": 340
        },
        "id": "o2zE2oV9kyUU",
        "outputId": "48e7a6f1-8f67-4e62-a374-1625e147d114"
      },
      "outputs": [
        {
          "output_type": "stream",
          "name": "stderr",
          "text": [
            "/usr/local/lib/python3.8/dist-packages/seaborn/_decorators.py:36: FutureWarning: Pass the following variables as keyword args: x, y. From version 0.12, the only valid positional argument will be `data`, and passing other arguments without an explicit keyword will result in an error or misinterpretation.\n",
            "  warnings.warn(\n"
          ]
        },
        {
          "output_type": "execute_result",
          "data": {
            "text/plain": [
              "<matplotlib.axes._subplots.AxesSubplot at 0x7ff10709b370>"
            ]
          },
          "metadata": {},
          "execution_count": 62
        },
        {
          "output_type": "display_data",
          "data": {
            "text/plain": [
              "<Figure size 432x288 with 1 Axes>"
            ],
            "image/png": "[encoded data removed]"
          },
          "metadata": {
            "needs_background": "light"
          }
        }
      ],
      "source": [
        "#ICA\n",
        "k_values = list(range(1,20))\n",
        "accuracy_list = []\n",
        "\n",
        "\n",
        "for k in k_values:\n",
        "  ica = FastICA(n_components=3)\n",
        "  X_ica = ica.fit_transform(X)\n",
        "  knn_model = KNeighborsClassifier(n_neighbors = k)\n",
        "  knn_model.fit(X_ica,y)\n",
        "  y_pred_icc = knn_model.predict(X_ica) \n",
        "  accuracy_list.append(metrics.accuracy_score(y,y_pred_icc))\n",
        "    \n",
        "# plotting k-value vs accuracy plot\n",
        "sb.barplot(k_values, accuracy_list)"
      ]
    },
    {
      "cell_type": "code",
      "execution_count": null,
      "metadata": {
        "id": "4wHMh4SEnTEj"
      },
      "outputs": [],
      "source": [
        "ica = FastICA(n_components=3)\n",
        "X_ica = ica.fit_transform(X)\n",
        "knn_model = KNeighborsClassifier(n_neighbors = )\n",
        "knn_model.fit(X_ica,y)\n",
        "y_pred_icc = knn_model.predict(X_ica) "
      ]
    },
    {
      "cell_type": "code",
      "execution_count": null,
      "metadata": {
        "colab": {
          "base_uri": "https://localhost:8080/"
        },
        "id": "xUbnYeN5ncB0",
        "outputId": "3287f762-d8c6-46ba-e8fe-250e4c94dc95"
      },
      "outputs": [
        {
          "name": "stdout",
          "output_type": "stream",
          "text": [
            "[[  0  67]\n",
            " [  0 199]]\n"
          ]
        }
      ],
      "source": [
        "print(confusion_matrix(y,y_pred_icc))"
      ]
    },
    {
      "cell_type": "code",
      "execution_count": null,
      "metadata": {
        "colab": {
          "base_uri": "https://localhost:8080/",
          "height": 340
        },
        "id": "Xy17yotGmCnH",
        "outputId": "43eb4047-66a4-4710-a183-c0244991f6d9"
      },
      "outputs": [
        {
          "output_type": "stream",
          "name": "stderr",
          "text": [
            "/usr/local/lib/python3.8/dist-packages/seaborn/_decorators.py:36: FutureWarning: Pass the following variables as keyword args: x, y. From version 0.12, the only valid positional argument will be `data`, and passing other arguments without an explicit keyword will result in an error or misinterpretation.\n",
            "  warnings.warn(\n"
          ]
        },
        {
          "output_type": "execute_result",
          "data": {
            "text/plain": [
              "<matplotlib.axes._subplots.AxesSubplot at 0x7ff107015fd0>"
            ]
          },
          "metadata": {},
          "execution_count": 63
        },
        {
          "output_type": "display_data",
          "data": {
            "text/plain": [
              "<Figure size 432x288 with 1 Axes>"
            ],
            "image/png": "[encoded data removed]"
          },
          "metadata": {
            "needs_background": "light"
          }
        }
      ],
      "source": [
        "#PCA\n",
        "k_values = list(range(1,20))\n",
        "accuracy_list = []\n",
        "\n",
        "\n",
        "for k in k_values:\n",
        "  pca = PCA(n_components = 2)\n",
        "  X_pca = pca.fit_transform(X)\n",
        "  knn_model = KNeighborsClassifier(n_neighbors = k)\n",
        "  knn_model.fit(X_pca,y)\n",
        "  y_pred_pcc = knn_model.predict(X_pca) \n",
        "  accuracy_list.append(metrics.accuracy_score(y,y_pred_pcc))\n",
        "    \n",
        "# plotting k-value vs accuracy plot\n",
        "sb.barplot(k_values, accuracy_list)"
      ]
    },
    {
      "cell_type": "code",
      "execution_count": null,
      "metadata": {
        "id": "lTgGYE0ZnoKY"
      },
      "outputs": [],
      "source": [
        "pca = PCA(n_components = 2)\n",
        "X_pca = pca.fit_transform(X)\n",
        "knn_model = KNeighborsClassifier(n_neighbors = k)\n",
        "knn_model.fit(X_pca,y)\n",
        "y_pred_pcc = knn_model.predict(X_pca) "
      ]
    },
    {
      "cell_type": "code",
      "execution_count": null,
      "metadata": {
        "colab": {
          "base_uri": "https://localhost:8080/"
        },
        "id": "uRkiwxN1nskn",
        "outputId": "6d45582c-2d65-4c2f-8d84-b9c049759992"
      },
      "outputs": [
        {
          "name": "stdout",
          "output_type": "stream",
          "text": [
            "[[  1  66]\n",
            " [  1 198]]\n"
          ]
        }
      ],
      "source": [
        "print(confusion_matrix(y,y_pred_pcc))"
      ]
    },
    {
      "cell_type": "markdown",
      "source": [
        "## Finding best distance metric"
      ],
      "metadata": {
        "id": "q41pbTLJcj10"
      }
    },
    {
      "cell_type": "code",
      "execution_count": null,
      "metadata": {
        "id": "8hPJLPDZnv7c",
        "colab": {
          "base_uri": "https://localhost:8080/",
          "height": 433
        },
        "outputId": "cb3f6e90-bb0a-498a-aad1-8562b33c5deb"
      },
      "outputs": [
        {
          "output_type": "stream",
          "name": "stdout",
          "text": [
            "Accuracy for minkowski is 0.725\n",
            "Accuracy for manhattan is 0.7375\n",
            "Accuracy for cosine is 0.7375\n",
            "Accuracy for jaccard is 0.775\n",
            "Accuracy for hamming is 0.775\n"
          ]
        },
        {
          "output_type": "stream",
          "name": "stderr",
          "text": [
            "/usr/local/lib/python3.8/dist-packages/seaborn/_decorators.py:36: FutureWarning: Pass the following variables as keyword args: x, y. From version 0.12, the only valid positional argument will be `data`, and passing other arguments without an explicit keyword will result in an error or misinterpretation.\n",
            "  warnings.warn(\n"
          ]
        },
        {
          "output_type": "execute_result",
          "data": {
            "text/plain": [
              "<matplotlib.axes._subplots.AxesSubplot at 0x7ff0ffb3eee0>"
            ]
          },
          "metadata": {},
          "execution_count": 105
        },
        {
          "output_type": "display_data",
          "data": {
            "text/plain": [
              "<Figure size 432x288 with 1 Axes>"
            ],
            "image/png": "[encoded data removed]"
          },
          "metadata": {
            "needs_background": "light"
          }
        }
      ],
      "source": [
        "d_metrics = ['minkowski','manhattan','cosine','jaccard','hamming']\n",
        "accuracy_list = []\n",
        "\n",
        "\n",
        "for d in d_metrics:\n",
        "  ica = FastICA(n_components=3)\n",
        "  X_ica = ica.fit_transform(X_train)\n",
        "  knn_model = KNeighborsClassifier(n_neighbors = 5,metric = d)\n",
        "  knn_model.fit(X_ica,y_train)\n",
        "  x_ica_test = ica.fit_transform(X_test)\n",
        "  y_pred_icc = knn_model.predict(x_ica_test) \n",
        "  a = metrics.accuracy_score(y_test,y_pred_icc)\n",
        "  print(f\"Accuracy for {d} is {a}\")\n",
        "  accuracy_list.append(metrics.accuracy_score(y_test,y_pred_icc))\n",
        "    \n",
        "# plotting k-value vs accuracy plot\n",
        "sb.barplot(d_metrics, accuracy_list)"
      ]
    },
    {
      "cell_type": "code",
      "source": [
        "metrics.accuracy_score(y_test,y_pred_icc)\n",
        "    "
      ],
      "metadata": {
        "id": "cGkik9J7Fyh3"
      },
      "execution_count": null,
      "outputs": []
    },
    {
      "cell_type": "markdown",
      "source": [
        "\n",
        "# Other Models\n",
        "\n"
      ],
      "metadata": {
        "id": "M9xK5zjv2u5_"
      }
    },
    {
      "cell_type": "markdown",
      "source": [
        "## Naive bayes"
      ],
      "metadata": {
        "id": "KGWJpMrJ23Nu"
      }
    },
    {
      "cell_type": "code",
      "source": [
        "from sklearn.naive_bayes import MultinomialNB\n",
        "mnb = MultinomialNB().fit(X, y)\n",
        "print(\"score on test: \" + str(mnb.score(X, y)))\n",
        "print(\"score on train: \"+ str(mnb.score(X, y)))\n",
        "\n",
        "print(\"Accuracy is\",metrics.accuracy_score(y_test,y_pred_pca),\" when PCA is used\")"
      ],
      "metadata": {
        "id": "qKJdb7Az2uAE"
      },
      "execution_count": null,
      "outputs": []
    },
    {
      "cell_type": "code",
      "source": [
        "m = []"
      ],
      "metadata": {
        "id": "XHWrP7S0_EoJ"
      },
      "execution_count": null,
      "outputs": []
    },
    {
      "cell_type": "markdown",
      "source": [
        "## Linear Regression"
      ],
      "metadata": {
        "id": "Yt8UT2Q83YQl"
      }
    },
    {
      "cell_type": "code",
      "source": [
        "from sklearn.linear_model import LogisticRegression\n",
        "lr=LogisticRegression(max_iter=1000)\n",
        "lr.fit(X_train, y_train)\n",
        "y_pred_lr = lr.predict(X_test)\n",
        "acc_lr = lr.score(X_test, y_test)\n",
        "m.append(acc_lr)\n",
        "print(\"score on test: \" + str(lr.score(X_test, y_test)))\n",
        "print(\"score on train: \"+ str(lr.score(X_train, y_train)))\n",
        "print(\"Accuracy is\",metrics.accuracy_score(y_test,y_pred_lr),\" when Linear Regression is used\")"
      ],
      "metadata": {
        "colab": {
          "base_uri": "https://localhost:8080/"
        },
        "id": "FUx0K7Up3ILV",
        "outputId": "f333658f-676c-42e2-90b3-28355a6396d2"
      },
      "execution_count": null,
      "outputs": [
        {
          "output_type": "stream",
          "name": "stdout",
          "text": [
            "score on test: 0.5375\n",
            "score on train: 1.0\n",
            "Accuracy is 0.5375  when Linear Regression is used\n"
          ]
        }
      ]
    },
    {
      "cell_type": "markdown",
      "source": [
        "## SVM"
      ],
      "metadata": {
        "id": "TVyykKmb3vQW"
      }
    },
    {
      "cell_type": "code",
      "source": [
        "from sklearn.svm import LinearSVC\n",
        "svm=LinearSVC()\n",
        "svm.fit(X_train, y_train)\n",
        "acc_svm = svm.score(X_test, y_test)\n",
        "m.append(acc_svm)\n",
        "print(\"score on test: \" + str(svm.score(X_test, y_test)))\n",
        "print(\"score on train: \"+ str(svm.score(X_train, y_train)))"
      ],
      "metadata": {
        "colab": {
          "base_uri": "https://localhost:8080/"
        },
        "id": "elaSEdLb3hln",
        "outputId": "83919d80-16fa-4101-aa41-55a75cc16940"
      },
      "execution_count": null,
      "outputs": [
        {
          "output_type": "stream",
          "name": "stdout",
          "text": [
            "score on test: 0.4125\n",
            "score on train: 1.0\n"
          ]
        }
      ]
    },
    {
      "cell_type": "markdown",
      "source": [
        "## Decision Tree"
      ],
      "metadata": {
        "id": "JpfPZWOR38Kk"
      }
    },
    {
      "cell_type": "code",
      "source": [
        "from sklearn.tree import DecisionTreeClassifier\n",
        "clf = DecisionTreeClassifier()\n",
        "clf.fit(X_train, y_train)\n",
        "m.append(clf.score(X_test, y_test))\n",
        "print(\"score on test: \"  + str(clf.score(X_test, y_test)))\n",
        "print(\"score on train: \" + str(clf.score(X_train, y_train)))"
      ],
      "metadata": {
        "colab": {
          "base_uri": "https://localhost:8080/"
        },
        "id": "co7xa18_33s2",
        "outputId": "e090fcce-c2e4-4b06-b9c8-b226b7c1ffd6"
      },
      "execution_count": null,
      "outputs": [
        {
          "output_type": "stream",
          "name": "stdout",
          "text": [
            "score on test: 0.625\n",
            "score on train: 1.0\n"
          ]
        }
      ]
    },
    {
      "cell_type": "markdown",
      "source": [
        "### Bagging"
      ],
      "metadata": {
        "id": "k6DgkRai421U"
      }
    },
    {
      "cell_type": "code",
      "source": [
        "from sklearn.ensemble import BaggingClassifier\n",
        "from sklearn.tree import DecisionTreeClassifier\n",
        "bg=BaggingClassifier(DecisionTreeClassifier(),max_samples=0.5,max_features=1.0,n_estimators=10)\n",
        "bg.fit(X_train, y_train)\n",
        "m.append(bg.score(X_test, y_test))\n",
        "print(\"score on test: \" + str(bg.score(X_test, y_test)))\n",
        "print(\"score on train: \"+ str(bg.score(X_train, y_train)))"
      ],
      "metadata": {
        "colab": {
          "base_uri": "https://localhost:8080/"
        },
        "id": "qIBp9_qJ5J1t",
        "outputId": "e931d6a6-09f3-443f-9836-9ed2db526f22"
      },
      "execution_count": null,
      "outputs": [
        {
          "output_type": "stream",
          "name": "stdout",
          "text": [
            "score on test: 0.675\n",
            "score on train: 0.9032258064516129\n"
          ]
        }
      ]
    },
    {
      "cell_type": "markdown",
      "source": [
        "### Boosting"
      ],
      "metadata": {
        "id": "cbkiwmRP48GP"
      }
    },
    {
      "cell_type": "code",
      "source": [
        "from sklearn.ensemble import AdaBoostClassifier\n",
        "from sklearn.tree import DecisionTreeClassifier\n",
        "adb = AdaBoostClassifier(DecisionTreeClassifier(min_samples_split=10,max_depth=4),n_estimators=10,learning_rate=0.6)\n",
        "adb.fit(X_train, y_train)\n",
        "m.append(adb.score(X_test, y_test))\n",
        "print(\"score on test: \" + str(adb.score(X_test, y_test)))\n",
        "print(\"score on train: \"+ str(adb.score(X_train, y_train)))"
      ],
      "metadata": {
        "colab": {
          "base_uri": "https://localhost:8080/"
        },
        "id": "qeCEFTSs5oTA",
        "outputId": "837a87db-41cf-4b8f-94f0-101897ba2e7f"
      },
      "execution_count": null,
      "outputs": [
        {
          "output_type": "stream",
          "name": "stdout",
          "text": [
            "score on test: 0.625\n",
            "score on train: 1.0\n"
          ]
        }
      ]
    },
    {
      "cell_type": "markdown",
      "source": [
        "### Random Forest"
      ],
      "metadata": {
        "id": "IWTY86ry5BxB"
      }
    },
    {
      "cell_type": "code",
      "source": [
        "from sklearn.ensemble import RandomForestClassifier# n_estimators = number of decision trees\n",
        "rf = RandomForestClassifier(n_estimators=30, max_depth=9)\n",
        "rf.fit(X_train, y_train)\n",
        "m.append(rf.score(X_test, y_test))\n",
        "print(\"score on test: \" + str(rf.score(X_test, y_test)))\n",
        "print(\"score on train: \"+ str(rf.score(X_train, y_train)))"
      ],
      "metadata": {
        "colab": {
          "base_uri": "https://localhost:8080/"
        },
        "id": "SlffUzyp5zpO",
        "outputId": "eca866d3-eb11-423e-dca7-4d544fde3b09"
      },
      "execution_count": null,
      "outputs": [
        {
          "output_type": "stream",
          "name": "stdout",
          "text": [
            "score on test: 0.75\n",
            "score on train: 0.9838709677419355\n"
          ]
        }
      ]
    },
    {
      "cell_type": "markdown",
      "source": [
        "### Voting Classifier"
      ],
      "metadata": {
        "id": "YQLt4Xv95F4w"
      }
    },
    {
      "cell_type": "code",
      "source": [
        "from sklearn.ensemble import VotingClassifier\n",
        "evc=VotingClassifier(estimators=[('lr',lr),('rf',rf),('svm',svm)],voting='hard')\n",
        "evc.fit(X_train, y_train)\n",
        "m.append(evc.score(X_test, y_test))\n",
        "print(\"score on test: \" + str(evc.score(X_test, y_test)))\n",
        "print(\"score on train: \"+ str(evc.score(X_train, y_train)))"
      ],
      "metadata": {
        "colab": {
          "base_uri": "https://localhost:8080/"
        },
        "id": "rySsh4xA6CkT",
        "outputId": "7f49a6dc-1f55-4ac4-b23a-efaa218fef81"
      },
      "execution_count": null,
      "outputs": [
        {
          "output_type": "stream",
          "name": "stdout",
          "text": [
            "score on test: 0.5125\n",
            "score on train: 1.0\n"
          ]
        }
      ]
    },
    {
      "cell_type": "code",
      "source": [
        "m.append(metrics.accuracy_score(y_test,y_pred_ica))\n",
        "m"
      ],
      "metadata": {
        "colab": {
          "base_uri": "https://localhost:8080/"
        },
        "id": "SBwFYztlAA0T",
        "outputId": "b4f49fe7-b7bc-401b-ff43-a5b5615b263a"
      },
      "execution_count": null,
      "outputs": [
        {
          "output_type": "execute_result",
          "data": {
            "text/plain": [
              "[0.5375, 0.4125, 0.625, 0.675, 0.625, 0.75, 0.5125, 0.775]"
            ]
          },
          "metadata": {},
          "execution_count": 90
        }
      ]
    },
    {
      "cell_type": "code",
      "source": [
        "sb.barplot()"
      ],
      "metadata": {
        "id": "JRn5N_NoCAJP"
      },
      "execution_count": null,
      "outputs": []
    },
    {
      "cell_type": "code",
      "source": [
        "model = [1,2,3,4,5,6,7,8 ]\n",
        "m_accuracy_list = [77.5,73.75,65,53.75,53.75,53.75,50,41.25]\n",
        "labels = ['KNN','Rnadom Forest','Boosting DT','Bagging DT','Decision Tree','Linear Regression','Voting Classifier','SVM']\n",
        "sb.barplot(model, m_accuracy_list)\n"
      ],
      "metadata": {
        "colab": {
          "base_uri": "https://localhost:8080/",
          "height": 284
        },
        "id": "4PhAXiR-6Tmr",
        "outputId": "85418e87-61ac-4aec-ee57-236bf93f5669"
      },
      "execution_count": null,
      "outputs": [
        {
          "output_type": "execute_result",
          "data": {
            "text/plain": [
              "<matplotlib.axes._subplots.AxesSubplot at 0x7ff0ffd5c7f0>"
            ]
          },
          "metadata": {},
          "execution_count": 99
        },
        {
          "output_type": "display_data",
          "data": {
            "text/plain": [
              "<Figure size 432x288 with 1 Axes>"
            ],
            "image/png": "[encoded data removed]"
          },
          "metadata": {
            "needs_background": "light"
          }
        }
      ]
    },
    {
      "cell_type": "code",
      "source": [
        "metrics = "
      ],
      "metadata": {
        "id": "0BBuT5Gj4myw"
      },
      "execution_count": null,
      "outputs": []
    }
  ],
  "metadata": {
    "colab": {
      "provenance": [],
      "include_colab_link": true
    },
    "kernelspec": {
      "display_name": "Python 3",
      "name": "python3"
    },
    "language_info": {
      "name": "python"
    }
  },
  "nbformat": 4,
  "nbformat_minor": 0
}